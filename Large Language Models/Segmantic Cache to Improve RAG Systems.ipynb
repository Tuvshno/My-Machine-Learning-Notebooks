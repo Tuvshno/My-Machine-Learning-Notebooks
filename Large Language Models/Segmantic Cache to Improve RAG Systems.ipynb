{
 "cells": [
  {
   "cell_type": "markdown",
   "id": "9bfc9670",
   "metadata": {},
   "source": [
    "# Segmantic Cache to Improve RAG Systems\n",
    "\n",
    "A common production pitfall in RAG systems are similar calls to the system. Calls in a RAG System can be performance and time intensive due to the search through the database, agentic or reflective systems, and LLM Queries. Commonly in other production applications, cache layers are placed between the database and bussiness modules that stores frequently accessed data in order to improve performance. Similarly, RAG Systems also have requests that frequently asked. By inputting a cache layer between the user-input and database, we could reduce calls onto the database and improve performance. "
   ]
  },
  {
   "cell_type": "markdown",
   "id": "b2175f92",
   "metadata": {},
   "source": [
    "## Requirements\n",
    "\n",
    "In this notebook we will be using ChromaDB and HuggingFace Models and Transformers to create our RAG System."
   ]
  },
  {
   "cell_type": "code",
   "execution_count": 1,
   "id": "e71bc64f",
   "metadata": {
    "collapsed": true
   },
   "outputs": [
    {
     "name": "stderr",
     "output_type": "stream",
     "text": [
      "WARNING: Ignoring invalid distribution -ransformers (c:\\users\\tuvshno\\appdata\\local\\programs\\python\\python310\\lib\\site-packages)\n",
      "WARNING: Ignoring invalid distribution -ransformers (c:\\users\\tuvshno\\appdata\\local\\programs\\python\\python310\\lib\\site-packages)\n",
      "WARNING: Ignoring invalid distribution -ransformers (c:\\users\\tuvshno\\appdata\\local\\programs\\python\\python310\\lib\\site-packages)\n",
      "WARNING: Ignoring invalid distribution -ransformers (c:\\users\\tuvshno\\appdata\\local\\programs\\python\\python310\\lib\\site-packages)\n",
      "WARNING: Ignoring invalid distribution -ransformers (c:\\users\\tuvshno\\appdata\\local\\programs\\python\\python310\\lib\\site-packages)\n",
      "WARNING: Ignoring invalid distribution -ransformers (c:\\users\\tuvshno\\appdata\\local\\programs\\python\\python310\\lib\\site-packages)\n",
      "WARNING: Ignoring invalid distribution -ransformers (c:\\users\\tuvshno\\appdata\\local\\programs\\python\\python310\\lib\\site-packages)\n",
      "WARNING: Ignoring invalid distribution -ransformers (c:\\users\\tuvshno\\appdata\\local\\programs\\python\\python310\\lib\\site-packages)\n",
      "ERROR: pip's dependency resolver does not currently take into account all the packages that are installed. This behaviour is the source of the following dependency conflicts.\n",
      "fastai 2.7.13 requires torch<2.2,>=1.10, but you have torch 2.2.0 which is incompatible.\n",
      "torchaudio 2.1.2+cu121 requires torch==2.1.2+cu121, but you have torch 2.2.0 which is incompatible.\n",
      "torchvision 0.16.2+cu121 requires torch==2.1.2+cu121, but you have torch 2.2.0 which is incompatible.\n",
      "WARNING: Ignoring invalid distribution -ransformers (c:\\users\\tuvshno\\appdata\\local\\programs\\python\\python310\\lib\\site-packages)\n",
      "WARNING: Ignoring invalid distribution -ransformers (c:\\users\\tuvshno\\appdata\\local\\programs\\python\\python310\\lib\\site-packages)\n",
      "WARNING: Ignoring invalid distribution -ransformers (c:\\users\\tuvshno\\appdata\\local\\programs\\python\\python310\\lib\\site-packages)\n",
      "WARNING: Ignoring invalid distribution -ransformers (c:\\users\\tuvshno\\appdata\\local\\programs\\python\\python310\\lib\\site-packages)\n"
     ]
    }
   ],
   "source": [
    "!pip install -q transformers==4.38.1\n",
    "!pip install -q accelerate==0.27.2\n",
    "!pip install -q sentence-transformers==2.5.1\n",
    "!pip install -q xformers==0.0.24\n",
    "!pip install -q chromadb==0.4.24\n",
    "!pip install -q datasets==2.17.1"
   ]
  },
  {
   "cell_type": "markdown",
   "id": "f5416ba2",
   "metadata": {},
   "source": [
    "## Imports"
   ]
  },
  {
   "cell_type": "code",
   "execution_count": 3,
   "id": "55177745",
   "metadata": {},
   "outputs": [],
   "source": [
    "import numpy as np\n",
    "import pandas as pd"
   ]
  },
  {
   "cell_type": "code",
   "execution_count": 5,
   "id": "35b36502",
   "metadata": {},
   "outputs": [
    {
     "name": "stdout",
     "output_type": "stream",
     "text": [
      "Token will not been saved to git credential helper. Pass `add_to_git_credential=True` if you want to set the git credential as well.\n",
      "Token is valid (permission: read).\n",
      "Your token has been saved to C:\\Users\\tuvshno\\.cache\\huggingface\\token\n",
      "Login successful\n"
     ]
    }
   ],
   "source": [
    "from getpass import getpass\n",
    "if 'hf_key' not in locals():\n",
    "  hf_key = getpass(\"Your Hugging Face API Key: \")\n",
    "!huggingface-cli login --token $hf_key\n"
   ]
  },
  {
   "cell_type": "markdown",
   "id": "9d9e7e12",
   "metadata": {},
   "source": [
    "# Load Dataset"
   ]
  },
  {
   "cell_type": "markdown",
   "id": "37173737",
   "metadata": {},
   "source": [
    "We are going to be using a medical dataset from the \"A Question-Entailment Approach to Question Answering\" Paper.\n",
    "\n",
    "The data consists of questions, answers, and question types. "
   ]
  },
  {
   "cell_type": "code",
   "execution_count": 6,
   "id": "1ddef92a",
   "metadata": {},
   "outputs": [],
   "source": [
    "from datasets import load_dataset\n",
    "\n",
    "data = load_dataset(\"keivalya/MedQuad-MedicalQnADataset\", split=\"train\")"
   ]
  },
  {
   "cell_type": "code",
   "execution_count": 7,
   "id": "18dc4984",
   "metadata": {},
   "outputs": [
    {
     "data": {
      "text/plain": [
       "Dataset({\n",
       "    features: ['qtype', 'Question', 'Answer'],\n",
       "    num_rows: 16407\n",
       "})"
      ]
     },
     "execution_count": 7,
     "metadata": {},
     "output_type": "execute_result"
    }
   ],
   "source": [
    "data"
   ]
  },
  {
   "cell_type": "code",
   "execution_count": 8,
   "id": "73705fce",
   "metadata": {
    "scrolled": false
   },
   "outputs": [
    {
     "data": {
      "text/html": [
       "<div>\n",
       "<style scoped>\n",
       "    .dataframe tbody tr th:only-of-type {\n",
       "        vertical-align: middle;\n",
       "    }\n",
       "\n",
       "    .dataframe tbody tr th {\n",
       "        vertical-align: top;\n",
       "    }\n",
       "\n",
       "    .dataframe thead th {\n",
       "        text-align: right;\n",
       "    }\n",
       "</style>\n",
       "<table border=\"1\" class=\"dataframe\">\n",
       "  <thead>\n",
       "    <tr style=\"text-align: right;\">\n",
       "      <th></th>\n",
       "      <th>qtype</th>\n",
       "      <th>Question</th>\n",
       "      <th>Answer</th>\n",
       "    </tr>\n",
       "  </thead>\n",
       "  <tbody>\n",
       "    <tr>\n",
       "      <th>0</th>\n",
       "      <td>susceptibility</td>\n",
       "      <td>Who is at risk for Lymphocytic Choriomeningiti...</td>\n",
       "      <td>LCMV infections can occur after exposure to fr...</td>\n",
       "    </tr>\n",
       "    <tr>\n",
       "      <th>1</th>\n",
       "      <td>symptoms</td>\n",
       "      <td>What are the symptoms of Lymphocytic Choriomen...</td>\n",
       "      <td>LCMV is most commonly recognized as causing ne...</td>\n",
       "    </tr>\n",
       "    <tr>\n",
       "      <th>2</th>\n",
       "      <td>susceptibility</td>\n",
       "      <td>Who is at risk for Lymphocytic Choriomeningiti...</td>\n",
       "      <td>Individuals of all ages who come into contact ...</td>\n",
       "    </tr>\n",
       "    <tr>\n",
       "      <th>3</th>\n",
       "      <td>exams and tests</td>\n",
       "      <td>How to diagnose Lymphocytic Choriomeningitis (...</td>\n",
       "      <td>During the first phase of the disease, the mos...</td>\n",
       "    </tr>\n",
       "    <tr>\n",
       "      <th>4</th>\n",
       "      <td>treatment</td>\n",
       "      <td>What are the treatments for Lymphocytic Chorio...</td>\n",
       "      <td>Aseptic meningitis, encephalitis, or meningoen...</td>\n",
       "    </tr>\n",
       "  </tbody>\n",
       "</table>\n",
       "</div>"
      ],
      "text/plain": [
       "             qtype                                           Question   \n",
       "0   susceptibility  Who is at risk for Lymphocytic Choriomeningiti...  \\\n",
       "1         symptoms  What are the symptoms of Lymphocytic Choriomen...   \n",
       "2   susceptibility  Who is at risk for Lymphocytic Choriomeningiti...   \n",
       "3  exams and tests  How to diagnose Lymphocytic Choriomeningitis (...   \n",
       "4        treatment  What are the treatments for Lymphocytic Chorio...   \n",
       "\n",
       "                                              Answer  \n",
       "0  LCMV infections can occur after exposure to fr...  \n",
       "1  LCMV is most commonly recognized as causing ne...  \n",
       "2  Individuals of all ages who come into contact ...  \n",
       "3  During the first phase of the disease, the mos...  \n",
       "4  Aseptic meningitis, encephalitis, or meningoen...  "
      ]
     },
     "execution_count": 8,
     "metadata": {},
     "output_type": "execute_result"
    }
   ],
   "source": [
    "data = data.to_pandas()\n",
    "data.head()"
   ]
  },
  {
   "cell_type": "markdown",
   "id": "bdd48f82",
   "metadata": {},
   "source": [
    "ChromaDB requires that data has a unique identifier, therefore we are going to create a unique identifier using the index of the row."
   ]
  },
  {
   "cell_type": "code",
   "execution_count": 9,
   "id": "dc16cc3b",
   "metadata": {},
   "outputs": [
    {
     "data": {
      "text/html": [
       "<div>\n",
       "<style scoped>\n",
       "    .dataframe tbody tr th:only-of-type {\n",
       "        vertical-align: middle;\n",
       "    }\n",
       "\n",
       "    .dataframe tbody tr th {\n",
       "        vertical-align: top;\n",
       "    }\n",
       "\n",
       "    .dataframe thead th {\n",
       "        text-align: right;\n",
       "    }\n",
       "</style>\n",
       "<table border=\"1\" class=\"dataframe\">\n",
       "  <thead>\n",
       "    <tr style=\"text-align: right;\">\n",
       "      <th></th>\n",
       "      <th>qtype</th>\n",
       "      <th>Question</th>\n",
       "      <th>Answer</th>\n",
       "      <th>id</th>\n",
       "    </tr>\n",
       "  </thead>\n",
       "  <tbody>\n",
       "    <tr>\n",
       "      <th>0</th>\n",
       "      <td>susceptibility</td>\n",
       "      <td>Who is at risk for Lymphocytic Choriomeningiti...</td>\n",
       "      <td>LCMV infections can occur after exposure to fr...</td>\n",
       "      <td>0</td>\n",
       "    </tr>\n",
       "    <tr>\n",
       "      <th>1</th>\n",
       "      <td>symptoms</td>\n",
       "      <td>What are the symptoms of Lymphocytic Choriomen...</td>\n",
       "      <td>LCMV is most commonly recognized as causing ne...</td>\n",
       "      <td>1</td>\n",
       "    </tr>\n",
       "    <tr>\n",
       "      <th>2</th>\n",
       "      <td>susceptibility</td>\n",
       "      <td>Who is at risk for Lymphocytic Choriomeningiti...</td>\n",
       "      <td>Individuals of all ages who come into contact ...</td>\n",
       "      <td>2</td>\n",
       "    </tr>\n",
       "    <tr>\n",
       "      <th>3</th>\n",
       "      <td>exams and tests</td>\n",
       "      <td>How to diagnose Lymphocytic Choriomeningitis (...</td>\n",
       "      <td>During the first phase of the disease, the mos...</td>\n",
       "      <td>3</td>\n",
       "    </tr>\n",
       "    <tr>\n",
       "      <th>4</th>\n",
       "      <td>treatment</td>\n",
       "      <td>What are the treatments for Lymphocytic Chorio...</td>\n",
       "      <td>Aseptic meningitis, encephalitis, or meningoen...</td>\n",
       "      <td>4</td>\n",
       "    </tr>\n",
       "    <tr>\n",
       "      <th>5</th>\n",
       "      <td>prevention</td>\n",
       "      <td>How to prevent Lymphocytic Choriomeningitis (L...</td>\n",
       "      <td>LCMV infection can be prevented by avoiding co...</td>\n",
       "      <td>5</td>\n",
       "    </tr>\n",
       "    <tr>\n",
       "      <th>6</th>\n",
       "      <td>information</td>\n",
       "      <td>What is (are) Parasites - Cysticercosis ?</td>\n",
       "      <td>Cysticercosis is an infection caused by the la...</td>\n",
       "      <td>6</td>\n",
       "    </tr>\n",
       "    <tr>\n",
       "      <th>7</th>\n",
       "      <td>susceptibility</td>\n",
       "      <td>Who is at risk for Parasites - Cysticercosis? ?</td>\n",
       "      <td>Cysticercosis is an infection caused by the la...</td>\n",
       "      <td>7</td>\n",
       "    </tr>\n",
       "    <tr>\n",
       "      <th>8</th>\n",
       "      <td>exams and tests</td>\n",
       "      <td>How to diagnose Parasites - Cysticercosis ?</td>\n",
       "      <td>If you think that you may have cysticercosis, ...</td>\n",
       "      <td>8</td>\n",
       "    </tr>\n",
       "    <tr>\n",
       "      <th>9</th>\n",
       "      <td>treatment</td>\n",
       "      <td>What are the treatments for Parasites - Cystic...</td>\n",
       "      <td>Some people with cysticercosis do not need to ...</td>\n",
       "      <td>9</td>\n",
       "    </tr>\n",
       "  </tbody>\n",
       "</table>\n",
       "</div>"
      ],
      "text/plain": [
       "             qtype                                           Question   \n",
       "0   susceptibility  Who is at risk for Lymphocytic Choriomeningiti...  \\\n",
       "1         symptoms  What are the symptoms of Lymphocytic Choriomen...   \n",
       "2   susceptibility  Who is at risk for Lymphocytic Choriomeningiti...   \n",
       "3  exams and tests  How to diagnose Lymphocytic Choriomeningitis (...   \n",
       "4        treatment  What are the treatments for Lymphocytic Chorio...   \n",
       "5       prevention  How to prevent Lymphocytic Choriomeningitis (L...   \n",
       "6      information          What is (are) Parasites - Cysticercosis ?   \n",
       "7   susceptibility    Who is at risk for Parasites - Cysticercosis? ?   \n",
       "8  exams and tests        How to diagnose Parasites - Cysticercosis ?   \n",
       "9        treatment  What are the treatments for Parasites - Cystic...   \n",
       "\n",
       "                                              Answer  id  \n",
       "0  LCMV infections can occur after exposure to fr...   0  \n",
       "1  LCMV is most commonly recognized as causing ne...   1  \n",
       "2  Individuals of all ages who come into contact ...   2  \n",
       "3  During the first phase of the disease, the mos...   3  \n",
       "4  Aseptic meningitis, encephalitis, or meningoen...   4  \n",
       "5  LCMV infection can be prevented by avoiding co...   5  \n",
       "6  Cysticercosis is an infection caused by the la...   6  \n",
       "7  Cysticercosis is an infection caused by the la...   7  \n",
       "8  If you think that you may have cysticercosis, ...   8  \n",
       "9  Some people with cysticercosis do not need to ...   9  "
      ]
     },
     "execution_count": 9,
     "metadata": {},
     "output_type": "execute_result"
    }
   ],
   "source": [
    "data[\"id\"] = data.index\n",
    "data.head(10)"
   ]
  },
  {
   "cell_type": "code",
   "execution_count": 10,
   "id": "f0aee4d6",
   "metadata": {
    "scrolled": true
   },
   "outputs": [
    {
     "data": {
      "text/plain": [
       "(16407, 4)"
      ]
     },
     "execution_count": 10,
     "metadata": {},
     "output_type": "execute_result"
    }
   ],
   "source": [
    "data.shape\n"
   ]
  },
  {
   "cell_type": "markdown",
   "id": "45408242",
   "metadata": {},
   "source": [
    "## Import ChromaDB\n",
    "\n",
    "ChromaDB is a popular open source vector database. In RAG Systems, vector databases are used to convert documents into vectors and embbedd them into vector space. In order to find context similar to a user query, we can query the vector database to find similar contexts using various methods.\n",
    "\n",
    "ChromaDB also allows you to save the vectors in storage, so you don't have to recompute them using a Persisted Storage."
   ]
  },
  {
   "cell_type": "code",
   "execution_count": 27,
   "id": "b77a0efa",
   "metadata": {},
   "outputs": [],
   "source": [
    "import chromadb"
   ]
  },
  {
   "cell_type": "code",
   "execution_count": 28,
   "id": "c86661e8",
   "metadata": {},
   "outputs": [],
   "source": [
    "chroma_client = chromadb.PersistentClient(path=\"chromadb\")"
   ]
  },
  {
   "cell_type": "markdown",
   "id": "0dd381bf",
   "metadata": {},
   "source": [
    "## Filtering and Querying the ChromaDB Database"
   ]
  },
  {
   "cell_type": "markdown",
   "id": "a6eb8b65",
   "metadata": {},
   "source": [
    "ChromaDB uses a system called `collections` for each dataset. \n",
    "\n",
    "We want to create the collection and delete any old ones if they exist."
   ]
  },
  {
   "cell_type": "code",
   "execution_count": 30,
   "id": "75c5668a",
   "metadata": {
    "scrolled": true
   },
   "outputs": [],
   "source": [
    "collection_name = \"medical_data\"\n",
    "for collection in chroma_client.list_collections():\n",
    "    if collection_name == collection.name:\n",
    "        chroma_client.delete_collection(name=collection_name)\n",
    "collection = chroma_client.create_collection(name=collection_name)"
   ]
  },
  {
   "cell_type": "markdown",
   "id": "efe258a6",
   "metadata": {},
   "source": [
    "Now we want to convert our data into embeddings and add them to our collection. Because we have so much data, I am going to embed the data in batches. Each document that we add will have an `Answer`, `qtype`, and an `id`"
   ]
  },
  {
   "cell_type": "code",
   "execution_count": 31,
   "id": "37f415fd",
   "metadata": {},
   "outputs": [],
   "source": [
    "batch_size = 5000\n",
    "\n",
    "for i in range(0, data.shape[0], batch_size):\n",
    "    subset_data = data\n",
    "    if i+batch_size > data.shape[0]:\n",
    "        subset_data = data[i:data.shape[0]-1]\n",
    "       \n",
    "    else:\n",
    "        subset_data = data[i:i+batch_size-1]\n",
    "    collection.add(\n",
    "        documents=subset_data[\"Answer\"].tolist(),\n",
    "        metadatas=[{\"qtype\": qtype} for qtype in subset_data[\"qtype\"].tolist()],\n",
    "        ids=[f\"id{id}\" for id in subset_data[\"id\"].tolist()]\n",
    "    )   "
   ]
  },
  {
   "cell_type": "markdown",
   "id": "8b5a302c",
   "metadata": {},
   "source": [
    "Now we need a method that will query the chromadb collection. We can do this with a `query_database` function that takes in the `query_text` and the number of results `n_results`."
   ]
  },
  {
   "cell_type": "code",
   "execution_count": 32,
   "id": "f2948a46",
   "metadata": {},
   "outputs": [],
   "source": [
    "def query_database(query_text, n_results=10):\n",
    "    results = collection.query(query_texts=query_text, n_results=n_results)\n",
    "    return results"
   ]
  },
  {
   "cell_type": "markdown",
   "id": "ce66e424",
   "metadata": {},
   "source": [
    "## Creating a Semantic Search Cache"
   ]
  },
  {
   "cell_type": "markdown",
   "id": "c916507a",
   "metadata": {},
   "source": [
    "Now in order to create the cache, we are going to use FAISS which is one of the most popular similarity search implementations.\n",
    "\n",
    "By using FAISS, we can create vector embedding of our documents and embed them into an index and utilize a query vector to find similar vectors in that index."
   ]
  },
  {
   "cell_type": "code",
   "execution_count": 66,
   "id": "71981e75",
   "metadata": {},
   "outputs": [
    {
     "name": "stderr",
     "output_type": "stream",
     "text": [
      "WARNING: Ignoring invalid distribution -ransformers (c:\\users\\tuvshno\\appdata\\local\\programs\\python\\python310\\lib\\site-packages)\n",
      "WARNING: Ignoring invalid distribution -ransformers (c:\\users\\tuvshno\\appdata\\local\\programs\\python\\python310\\lib\\site-packages)\n"
     ]
    }
   ],
   "source": [
    "!pip install -q faiss-cpu==1.8.0"
   ]
  },
  {
   "cell_type": "code",
   "execution_count": 33,
   "id": "35388b0c",
   "metadata": {},
   "outputs": [],
   "source": [
    "import faiss\n",
    "from sentence_transformers import SentenceTransformer\n",
    "import time\n",
    "import json"
   ]
  },
  {
   "cell_type": "markdown",
   "id": "bfa4dac0",
   "metadata": {},
   "source": [
    "We are going to use `IndexFlatL2`, which computes the L2 (Eucledian Distance) between all the vectors in the index and the query vector. Its simple and accurate (but not very fast) though perfect for our use case.\n",
    "\n",
    "![IndexFlatL2](https://cdn.sanity.io/images/vr8gru94/production/ea951a4be3acf9d379cc6f922be1468b37b7f9e5-1280x720.png)"
   ]
  },
  {
   "cell_type": "markdown",
   "id": "1d0df267",
   "metadata": {},
   "source": [
    "We are also going to be using the SentenceTransformer `all-mpnet-base-v2` in order to create vector embeddings with a dimension of `768`."
   ]
  },
  {
   "cell_type": "code",
   "execution_count": 34,
   "id": "85306ee9",
   "metadata": {},
   "outputs": [],
   "source": [
    "def init_cache():\n",
    "    index = faiss.IndexFlatL2(768)\n",
    "    if index.is_trained:\n",
    "        print(\"index trained\")\n",
    "    \n",
    "    # Initialize Sentence Transformer Model\n",
    "    encoder = SentenceTransformer(\"all-mpnet-base-v2\")\n",
    "    \n",
    "    return index, encoder"
   ]
  },
  {
   "cell_type": "markdown",
   "id": "25952610",
   "metadata": {},
   "source": [
    "We are going to save and retrieve the cache by saving it locally in a JSON File."
   ]
  },
  {
   "cell_type": "code",
   "execution_count": 35,
   "id": "8252787c",
   "metadata": {},
   "outputs": [],
   "source": [
    "def retrieve_cache(json_file):\n",
    "    try:\n",
    "        with open(json_file, \"r\") as file:\n",
    "            cache = json.load(file)\n",
    "    except FileNotFoundError:\n",
    "        cache = {\"questions\": [], \"embeddings\": [], \"answers\": [], \"response_text\": []}\n",
    "    \n",
    "    return cache"
   ]
  },
  {
   "cell_type": "code",
   "execution_count": 36,
   "id": "8b7b0a0b",
   "metadata": {},
   "outputs": [],
   "source": [
    "def store_cache(json_file, cache):\n",
    "    with open(json_file, \"w\") as file:\n",
    "        json.dump(cache, file)"
   ]
  },
  {
   "cell_type": "markdown",
   "id": "70e8793c",
   "metadata": {},
   "source": [
    "This is the code for the `semantic_cache`. \n",
    "\n",
    "We are going to intialize the `index` for caching and the `encoder` for creating embeddings.\n",
    "\n",
    "`euclidean_threshold` will hold the maximum `threshold` before the similarity is not valid.\n",
    "\n",
    "`json_file` and `cache` will hold the local json file and cache for the semantic_cache.\n",
    "\n",
    "`ask()` will take a `question` from the user and look for it in the cache. If it doesn't find a good enough match in the cache, it will query the ChromaDB database and then save it to the cache and return the `response_text`.\n",
    "\n",
    "`index.nprobe` is the number of nearby cells to search from the nearby Voronoi cells in the index. \n",
    "\n",
    "`index.search` returns a distances and indecies array. \n",
    "\n",
    "`D` is the distances array which is an array of distances of the vectors from the query vector.\n",
    "\n",
    "`I` is the indecies array which is an array of indecies of the vectors inside of the FAISS index."
   ]
  },
  {
   "cell_type": "code",
   "execution_count": 37,
   "id": "c969529b",
   "metadata": {},
   "outputs": [],
   "source": [
    "class semantic_cache:\n",
    "    def __init__(self, json_file=\"cache_file.json\", threshold=0.35):\n",
    "        # Initialize Cache with Euclidean Distance\n",
    "        self.index, self.encoder = init_cache()\n",
    "        \n",
    "        # Set Euclidean Distance Threshold\n",
    "        # A Distance of 0 means identical sentences\n",
    "        # We will only accept under this threshold\n",
    "        self.euclidean_threshold = threshold\n",
    "        \n",
    "        # Initialize the Cache Json File\n",
    "        self.json_file = json_file\n",
    "        self.cache = retrieve_cache(json_file)\n",
    "\n",
    "    def ask(self, question: str) -> str:\n",
    "        # Method to retrieve a cache or generate a new one    \n",
    "\n",
    "        start_time = time.time()\n",
    "        try:\n",
    "            embedding = self.encoder.encode([question]) # Encode the question\n",
    "            \n",
    "            self.index.nprobe = 8 # How many nearby cells to search\n",
    "            D, I = self.index.search(embedding, 1) # Distances and Indecies array from the index search, return 1 vector\n",
    "            \n",
    "            if D[0] >= 0: # Have valid distance values in the distance array\n",
    "                # if we have a valid indecy and a distance is under the threshold\n",
    "                if I[0][0] >= 0 and D[0][0] <= self.euclidean_threshold:  \n",
    "                    row_id = int(I[0][0]) # Get the row id\n",
    "                    \n",
    "                    # Return the response text from the row id in the cache \n",
    "                    print(\"Answer recovered from Cache. \")\n",
    "                    print(f\"{D[0][0]:.3f} smaller than {self.euclidean_threshold}\")\n",
    "                    print(f\"Found cache in row: {row_id} with score {D[0][0]:.3f}\")\n",
    "                    print(f\"response_text: \" + self.cache[\"response_text\"][row_id])\n",
    "\n",
    "                    end_time = time.time()\n",
    "                    elapsed_time = end_time - start_time\n",
    "                    print(f\"Time taken: {elapsed_time:.3f} seconds\")\n",
    "                    return self.cache[\"response_text\"][row_id]\n",
    "\n",
    "            # Handle the case when there are not enough results\n",
    "            # or Euclidean distance is not met, asking to chromaDB.\n",
    "            answer = query_database([question], 1) # Query the database for 1 response\n",
    "            response_text = answer[\"documents\"][0][0] # Get the response text from that query\n",
    "\n",
    "            # Add the response to the cache\n",
    "            self.cache[\"questions\"].append(question) \n",
    "            self.cache[\"embeddings\"].append(embedding[0].tolist())\n",
    "            self.cache[\"answers\"].append(answer)\n",
    "            self.cache[\"response_text\"].append(response_text)\n",
    "\n",
    "            print(\"Answer recovered from ChromaDB. \")\n",
    "            print(f\"response_text: {response_text}\")\n",
    "\n",
    "            self.index.add(embedding)\n",
    "            store_cache(self.json_file, self.cache)\n",
    "            end_time = time.time()\n",
    "            elapsed_time = end_time - start_time\n",
    "            print(f\"Time taken: {elapsed_time:.3f} seconds\")\n",
    "\n",
    "            return response_text\n",
    "        except Exception as e:\n",
    "            raise RuntimeError(f\"Error during 'ask' method: {e}\")\n",
    "        "
   ]
  },
  {
   "cell_type": "markdown",
   "id": "6f758dea",
   "metadata": {},
   "source": [
    "## Testing"
   ]
  },
  {
   "cell_type": "markdown",
   "id": "9769343a",
   "metadata": {},
   "source": [
    "Now lets initialize the semantic cache and save it to a specific json file."
   ]
  },
  {
   "cell_type": "code",
   "execution_count": 38,
   "id": "02dc275d",
   "metadata": {
    "scrolled": true
   },
   "outputs": [
    {
     "name": "stdout",
     "output_type": "stream",
     "text": [
      "index trained\n"
     ]
    }
   ],
   "source": [
    "# Initialize the cache.\n",
    "cache = semantic_cache(\"4cache.json\")"
   ]
  },
  {
   "cell_type": "markdown",
   "id": "483758a8",
   "metadata": {},
   "source": [
    "We are going to ask the cache a question. If the cache cannot find a match with a similarity under the threshold, it will ask the chroma database instead and then save the response to the cache."
   ]
  },
  {
   "cell_type": "code",
   "execution_count": 39,
   "id": "ac6ffc6c",
   "metadata": {},
   "outputs": [
    {
     "name": "stdout",
     "output_type": "stream",
     "text": [
      "Answer recovered from ChromaDB. \n",
      "response_text: Summary : Shots may hurt a little, but the diseases they can prevent are a lot worse. Some are even life-threatening. Immunization shots, or vaccinations, are essential. They protect against things like measles, mumps, rubella, hepatitis B, polio, tetanus, diphtheria, and pertussis (whooping cough). Immunizations are important for adults as well as children.    Your immune system helps your body fight germs by producing substances to combat them. Once it does, the immune system \"remembers\" the germ and can fight it again. Vaccines contain germs that have been killed or weakened. When given to a healthy person, the vaccine triggers the immune system to respond and thus build immunity.     Before vaccines, people became immune only by actually getting a disease and surviving it. Immunizations are an easier and less risky way to become immune.     NIH: National Institute of Allergy and Infectious Diseases\n",
      "Time taken: 0.093 seconds\n"
     ]
    }
   ],
   "source": [
    "results = cache.ask(\"How do vaccines work?\")"
   ]
  },
  {
   "cell_type": "markdown",
   "id": "daf52f64",
   "metadata": {},
   "source": [
    "Notice because we don't have anything in the cache yet, it asked the chromadb database first."
   ]
  },
  {
   "cell_type": "code",
   "execution_count": 40,
   "id": "02f102d4",
   "metadata": {},
   "outputs": [
    {
     "name": "stdout",
     "output_type": "stream",
     "text": [
      "Answer recovered from ChromaDB. \n",
      "response_text: Sydenham chorea (SD) is a neurological disorder of childhood resulting from infection via Group A beta-hemolytic streptococcus (GABHS), the bacterium that causes rheumatic fever. SD is characterized by rapid, irregular, and aimless involuntary movements of the arms and legs, trunk, and facial muscles. It affects girls more often than boys and typically occurs between 5 and 15 years of age. Some children will have a sore throat several weeks before the symptoms begin, but the disorder can also strike up to 6 months after the fever or infection has cleared. Symptoms can appear gradually or all at once, and also may include uncoordinated movements, muscular weakness, stumbling and falling, slurred speech, difficulty concentrating and writing, and emotional instability. The symptoms of SD can vary from a halting gait and slight grimacing to involuntary movements that are frequent and severe enough to be incapacitating. The random, writhing movements of chorea are caused by an auto-immune reaction to the bacterium that interferes with the normal function of a part of the brain (the basal ganglia) that controls motor movements. Due to better sanitary conditions and the use of antibiotics to treat streptococcal infections, rheumatic fever, and consequently SD, are rare in North America and Europe. The disease can still be found in developing nations.\n",
      "Time taken: 0.038 seconds\n"
     ]
    }
   ],
   "source": [
    "results = cache.ask(\"Explain briefly what is a Sydenham chorea\")"
   ]
  },
  {
   "cell_type": "markdown",
   "id": "861154c9",
   "metadata": {},
   "source": [
    "This question is also totally different to the question inside the cache already, therefore it asked the chromadb database instead."
   ]
  },
  {
   "cell_type": "code",
   "execution_count": 41,
   "id": "c19b3df2",
   "metadata": {},
   "outputs": [
    {
     "name": "stdout",
     "output_type": "stream",
     "text": [
      "Answer recovered from Cache. \n",
      "0.028 smaller than 0.35\n",
      "Found cache in row: 1 with score 0.028\n",
      "response_text: Sydenham chorea (SD) is a neurological disorder of childhood resulting from infection via Group A beta-hemolytic streptococcus (GABHS), the bacterium that causes rheumatic fever. SD is characterized by rapid, irregular, and aimless involuntary movements of the arms and legs, trunk, and facial muscles. It affects girls more often than boys and typically occurs between 5 and 15 years of age. Some children will have a sore throat several weeks before the symptoms begin, but the disorder can also strike up to 6 months after the fever or infection has cleared. Symptoms can appear gradually or all at once, and also may include uncoordinated movements, muscular weakness, stumbling and falling, slurred speech, difficulty concentrating and writing, and emotional instability. The symptoms of SD can vary from a halting gait and slight grimacing to involuntary movements that are frequent and severe enough to be incapacitating. The random, writhing movements of chorea are caused by an auto-immune reaction to the bacterium that interferes with the normal function of a part of the brain (the basal ganglia) that controls motor movements. Due to better sanitary conditions and the use of antibiotics to treat streptococcal infections, rheumatic fever, and consequently SD, are rare in North America and Europe. The disease can still be found in developing nations.\n",
      "Time taken: 0.019 seconds\n"
     ]
    }
   ],
   "source": [
    "results = cache.ask(\"Briefly explain me what is a Sydenham chorea.\")\n"
   ]
  },
  {
   "cell_type": "markdown",
   "id": "87917449",
   "metadata": {},
   "source": [
    "This question is similar to a question in the cache and therefore returned the response that was stored in the cache.\n",
    "\n",
    "Notice how the time it took to query the cache took less time than to query the chromadb database."
   ]
  },
  {
   "cell_type": "code",
   "execution_count": 42,
   "id": "82ffa6e7",
   "metadata": {},
   "outputs": [
    {
     "name": "stdout",
     "output_type": "stream",
     "text": [
      "Answer recovered from Cache. \n",
      "0.228 smaller than 0.35\n",
      "Found cache in row: 1 with score 0.228\n",
      "response_text: Sydenham chorea (SD) is a neurological disorder of childhood resulting from infection via Group A beta-hemolytic streptococcus (GABHS), the bacterium that causes rheumatic fever. SD is characterized by rapid, irregular, and aimless involuntary movements of the arms and legs, trunk, and facial muscles. It affects girls more often than boys and typically occurs between 5 and 15 years of age. Some children will have a sore throat several weeks before the symptoms begin, but the disorder can also strike up to 6 months after the fever or infection has cleared. Symptoms can appear gradually or all at once, and also may include uncoordinated movements, muscular weakness, stumbling and falling, slurred speech, difficulty concentrating and writing, and emotional instability. The symptoms of SD can vary from a halting gait and slight grimacing to involuntary movements that are frequent and severe enough to be incapacitating. The random, writhing movements of chorea are caused by an auto-immune reaction to the bacterium that interferes with the normal function of a part of the brain (the basal ganglia) that controls motor movements. Due to better sanitary conditions and the use of antibiotics to treat streptococcal infections, rheumatic fever, and consequently SD, are rare in North America and Europe. The disease can still be found in developing nations.\n",
      "Time taken: 0.017 seconds\n"
     ]
    }
   ],
   "source": [
    "question_def = \"Write in 20 words what is a Sydenham chorea.\"\n",
    "results = cache.ask(question_def)\n"
   ]
  },
  {
   "cell_type": "markdown",
   "id": "d617d4f0",
   "metadata": {},
   "source": [
    "Again, we see a cached response with an decreased time to recieve a response."
   ]
  },
  {
   "cell_type": "markdown",
   "id": "c878f357",
   "metadata": {},
   "source": [
    "## Initalize the Model"
   ]
  },
  {
   "cell_type": "markdown",
   "id": "74d92691",
   "metadata": {},
   "source": [
    "Now that we have a way to grab context for a query question efficiently, we want to ask the LLM the question.\n",
    "\n",
    "We are going to be using the Google Gemma-2b-init model.\n",
    "\n",
    "To do this, we will be using the HuggingFace `transformers` library and using the:\n",
    "\n",
    "\n",
    "`AutoTokenizer` in order to convert our user queries into tokens valid for the model\n",
    "\n",
    "\n",
    "`AutoModelForCausalLM` to initialize a pretrained version of the model, perfect for our use case."
   ]
  },
  {
   "cell_type": "code",
   "execution_count": 43,
   "id": "32ce6d17",
   "metadata": {},
   "outputs": [
    {
     "data": {
      "text/plain": [
       "'cuda:0'"
      ]
     },
     "execution_count": 43,
     "metadata": {},
     "output_type": "execute_result"
    }
   ],
   "source": [
    "from torch import cuda, torch\n",
    "\n",
    "device = f\"cuda:{cuda.current_device()}\" if cuda.is_available() else \"cpu\"\n",
    "device"
   ]
  },
  {
   "cell_type": "code",
   "execution_count": 44,
   "id": "69465b66",
   "metadata": {},
   "outputs": [
    {
     "data": {
      "application/vnd.jupyter.widget-view+json": {
       "model_id": "0be85ac821bb49f9a7c8bfaa1612c2f0",
       "version_major": 2,
       "version_minor": 0
      },
      "text/plain": [
       "Loading checkpoint shards:   0%|          | 0/2 [00:00<?, ?it/s]"
      ]
     },
     "metadata": {},
     "output_type": "display_data"
    },
    {
     "data": {
      "application/vnd.jupyter.widget-view+json": {
       "model_id": "a5b31996443e42e4842bcae8ee3cfacc",
       "version_major": 2,
       "version_minor": 0
      },
      "text/plain": [
       "generation_config.json:   0%|          | 0.00/137 [00:00<?, ?B/s]"
      ]
     },
     "metadata": {},
     "output_type": "display_data"
    }
   ],
   "source": [
    "from transformers import AutoTokenizer, AutoModelForCausalLM\n",
    "\n",
    "model_id = \"google/gemma-2b-it\"\n",
    "tokenizer = AutoTokenizer.from_pretrained(model_id)\n",
    "model=AutoModelForCausalLM.from_pretrained(model_id, device_map=\"cuda\", torch_dtype=torch.bfloat16)"
   ]
  },
  {
   "cell_type": "markdown",
   "id": "ac972f93",
   "metadata": {},
   "source": [
    "In order to query the model efficiently, we will create a prompt template that inputs the context we retrieve from the cache or database and the user query."
   ]
  },
  {
   "cell_type": "code",
   "execution_count": 45,
   "id": "caa88072",
   "metadata": {},
   "outputs": [
    {
     "data": {
      "text/plain": [
       "\"Relevant Context: Sydenham chorea (SD) is a neurological disorder of childhood resulting from infection via Group A beta-hemolytic streptococcus (GABHS), the bacterium that causes rheumatic fever. SD is characterized by rapid, irregular, and aimless involuntary movements of the arms and legs, trunk, and facial muscles. It affects girls more often than boys and typically occurs between 5 and 15 years of age. Some children will have a sore throat several weeks before the symptoms begin, but the disorder can also strike up to 6 months after the fever or infection has cleared. Symptoms can appear gradually or all at once, and also may include uncoordinated movements, muscular weakness, stumbling and falling, slurred speech, difficulty concentrating and writing, and emotional instability. The symptoms of SD can vary from a halting gait and slight grimacing to involuntary movements that are frequent and severe enough to be incapacitating. The random, writhing movements of chorea are caused by an auto-immune reaction to the bacterium that interferes with the normal function of a part of the brain (the basal ganglia) that controls motor movements. Due to better sanitary conditions and the use of antibiotics to treat streptococcal infections, rheumatic fever, and consequently SD, are rare in North America and Europe. The disease can still be found in developing nations.\\n\\n The user's question: Write in 20 words what is a Sydenham chorea.\""
      ]
     },
     "execution_count": 45,
     "metadata": {},
     "output_type": "execute_result"
    }
   ],
   "source": [
    "prompt_template = f\"Relevant Context: {results}\\n\\n The user's question: {question_def}\"\n",
    "prompt_template"
   ]
  },
  {
   "cell_type": "markdown",
   "id": "bda87211",
   "metadata": {},
   "source": [
    "In order to send it to the LLM, we need to tokenize our inputs using the tokenizer."
   ]
  },
  {
   "cell_type": "code",
   "execution_count": 47,
   "id": "a9771824",
   "metadata": {},
   "outputs": [],
   "source": [
    "input_ids = tokenizer(prompt_template, return_tensors=\"pt\").to(\"cuda\")"
   ]
  },
  {
   "cell_type": "markdown",
   "id": "21b9a511",
   "metadata": {},
   "source": [
    "We then need to decode the output given from the model using the `decode` method from the tokenizer."
   ]
  },
  {
   "cell_type": "code",
   "execution_count": 51,
   "id": "ead4a62d",
   "metadata": {},
   "outputs": [
    {
     "name": "stdout",
     "output_type": "stream",
     "text": [
      "<bos>Relevant Context: Sydenham chorea (SD) is a neurological disorder of childhood resulting from infection via Group A beta-hemolytic streptococcus (GABHS), the bacterium that causes rheumatic fever. SD is characterized by rapid, irregular, and aimless involuntary movements of the arms and legs, trunk, and facial muscles. It affects girls more often than boys and typically occurs between 5 and 15 years of age. Some children will have a sore throat several weeks before the symptoms begin, but the disorder can also strike up to 6 months after the fever or infection has cleared. Symptoms can appear gradually or all at once, and also may include uncoordinated movements, muscular weakness, stumbling and falling, slurred speech, difficulty concentrating and writing, and emotional instability. The symptoms of SD can vary from a halting gait and slight grimacing to involuntary movements that are frequent and severe enough to be incapacitating. The random, writhing movements of chorea are caused by an auto-immune reaction to the bacterium that interferes with the normal function of a part of the brain (the basal ganglia) that controls motor movements. Due to better sanitary conditions and the use of antibiotics to treat streptococcal infections, rheumatic fever, and consequently SD, are rare in North America and Europe. The disease can still be found in developing nations.\n",
      "\n",
      " The user's question: Write in 20 words what is a Sydenham chorea.\n",
      "\n",
      "Sure, here is a 20-word answer:\n",
      "\n",
      "Sydenham chorea is a neurological disorder of childhood resulting from infection via Group A beta-hemolytic streptococcus (GABHS).<eos>\n"
     ]
    }
   ],
   "source": [
    "outputs = model.generate(**input_ids, max_new_tokens=256)\n",
    "print(tokenizer.decode(outputs[0]))"
   ]
  },
  {
   "cell_type": "markdown",
   "id": "42a08572",
   "metadata": {},
   "source": [
    "And just like that we recieve an output based on the context and user query!"
   ]
  },
  {
   "cell_type": "markdown",
   "id": "3ac388dd",
   "metadata": {},
   "source": [
    "## Conclusion\n",
    "\n",
    "As you can see there has been an 50% reduction in the retrieval between querying the ChromaDB database and accessing the cache.\n",
    "\n",
    "This was a simple integration of a cache layer. In production, there would be more instances of cache classes possibly based on user typology and there could be more data in the database. \n",
    "\n",
    "There could be further improvements to the cache layer by adding quantization or or different indexing methods inside the FAISS Cache.\n",
    "\n",
    "In the end, we created a simple RAG System enhanced with a semantic cache layer."
   ]
  }
 ],
 "metadata": {
  "kernelspec": {
   "display_name": "Python 3 (ipykernel)",
   "language": "python",
   "name": "python3"
  },
  "language_info": {
   "codemirror_mode": {
    "name": "ipython",
    "version": 3
   },
   "file_extension": ".py",
   "mimetype": "text/x-python",
   "name": "python",
   "nbconvert_exporter": "python",
   "pygments_lexer": "ipython3",
   "version": "3.10.7"
  }
 },
 "nbformat": 4,
 "nbformat_minor": 5
}
