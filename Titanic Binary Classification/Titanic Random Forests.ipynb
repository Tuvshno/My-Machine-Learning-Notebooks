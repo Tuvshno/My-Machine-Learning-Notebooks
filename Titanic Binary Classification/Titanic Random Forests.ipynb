{
 "cells": [
  {
   "cell_type": "markdown",
   "id": "2ef68110-5b1e-43c1-8b3e-307ea1b63977",
   "metadata": {},
   "source": [
    "## Understanding Random Forests"
   ]
  },
  {
   "cell_type": "markdown",
   "id": "44035780-3ed8-4da1-83c3-9a6b484f0be4",
   "metadata": {},
   "source": [
    "In this notebook, I am going to be implementing a Random Forests Model from \"scratch\" on the Titanic Classifcation problem in order to dive deep in understanding how Random Forests really work under the hood."
   ]
  },
  {
   "cell_type": "markdown",
   "id": "e7ca26ee-2858-4b39-b4fc-bc194cd9b6ab",
   "metadata": {},
   "source": [
    "## Data Processing"
   ]
  },
  {
   "cell_type": "code",
   "execution_count": 43,
   "id": "027a9b78-73e7-4b68-b9bd-c87bbe70f474",
   "metadata": {},
   "outputs": [],
   "source": [
    "import numpy as np\n",
    "import pandas as pd\n",
    "import matplotlib.pyplot as plt"
   ]
  },
  {
   "cell_type": "code",
   "execution_count": 2,
   "id": "2b8bbfdb-f655-44e6-a1f1-705cf4687762",
   "metadata": {},
   "outputs": [
    {
     "data": {
      "text/plain": [
       "PassengerId                      1\n",
       "Survived                       0.0\n",
       "Pclass                         3.0\n",
       "Name           Abbing, Mr. Anthony\n",
       "Sex                           male\n",
       "Age                           24.0\n",
       "SibSp                          0.0\n",
       "Parch                          0.0\n",
       "Ticket                        1601\n",
       "Fare                          8.05\n",
       "Cabin                      B96 B98\n",
       "Embarked                         S\n",
       "Name: 0, dtype: object"
      ]
     },
     "execution_count": 2,
     "metadata": {},
     "output_type": "execute_result"
    }
   ],
   "source": [
    "# Read data and show the most common values in each feature\n",
    "data = pd.read_csv('train.csv')\n",
    "test_data = pd.read_csv('test.csv')\n",
    "modes = data.mode().iloc[0]\n",
    "modes"
   ]
  },
  {
   "cell_type": "markdown",
   "id": "c3c3e440-6e9c-459a-abab-e7d5dc6ec74d",
   "metadata": {},
   "source": [
    "The difference with Random Forests and Linear Models or Neural Networks is that we don't have to create dummy variables for non-numerical columns. Instead we convert those fields into categorical variables."
   ]
  },
  {
   "cell_type": "code",
   "execution_count": 3,
   "id": "9f5afb9b-411a-47ee-b0a1-301ccc8e01dc",
   "metadata": {},
   "outputs": [],
   "source": [
    "def proc_data(df):\n",
    "    df['Fare'] = df.Fare.fillna(0) # Fills empty values with 0\n",
    "    df.fillna(modes, inplace=True) # Fills the empty values with the most common value\n",
    "    df['LogFare'] = np.log1p(df['Fare']) # Replaces the fare with the log(1 + x)\n",
    "    df['Embarked'] = pd.Categorical(df.Embarked) # Converts feature into a Categorical Variable\n",
    "    df['Sex'] = pd.Categorical(df.Sex) # Converts feature into a Categorical Variable\n",
    "\n",
    "proc_data(data)\n",
    "proc_data(test_data)"
   ]
  },
  {
   "cell_type": "code",
   "execution_count": 4,
   "id": "d0b61c66-1535-444e-aee7-b43a96327a66",
   "metadata": {},
   "outputs": [
    {
     "data": {
      "text/html": [
       "<div>\n",
       "<style scoped>\n",
       "    .dataframe tbody tr th:only-of-type {\n",
       "        vertical-align: middle;\n",
       "    }\n",
       "\n",
       "    .dataframe tbody tr th {\n",
       "        vertical-align: top;\n",
       "    }\n",
       "\n",
       "    .dataframe thead th {\n",
       "        text-align: right;\n",
       "    }\n",
       "</style>\n",
       "<table border=\"1\" class=\"dataframe\">\n",
       "  <thead>\n",
       "    <tr style=\"text-align: right;\">\n",
       "      <th></th>\n",
       "      <th>PassengerId</th>\n",
       "      <th>Survived</th>\n",
       "      <th>Pclass</th>\n",
       "      <th>Name</th>\n",
       "      <th>Sex</th>\n",
       "      <th>Age</th>\n",
       "      <th>SibSp</th>\n",
       "      <th>Parch</th>\n",
       "      <th>Ticket</th>\n",
       "      <th>Fare</th>\n",
       "      <th>Cabin</th>\n",
       "      <th>Embarked</th>\n",
       "      <th>LogFare</th>\n",
       "    </tr>\n",
       "  </thead>\n",
       "  <tbody>\n",
       "    <tr>\n",
       "      <th>0</th>\n",
       "      <td>1</td>\n",
       "      <td>0</td>\n",
       "      <td>3</td>\n",
       "      <td>Braund, Mr. Owen Harris</td>\n",
       "      <td>male</td>\n",
       "      <td>22.0</td>\n",
       "      <td>1</td>\n",
       "      <td>0</td>\n",
       "      <td>A/5 21171</td>\n",
       "      <td>7.2500</td>\n",
       "      <td>B96 B98</td>\n",
       "      <td>S</td>\n",
       "      <td>2.110213</td>\n",
       "    </tr>\n",
       "    <tr>\n",
       "      <th>1</th>\n",
       "      <td>2</td>\n",
       "      <td>1</td>\n",
       "      <td>1</td>\n",
       "      <td>Cumings, Mrs. John Bradley (Florence Briggs Thayer)</td>\n",
       "      <td>female</td>\n",
       "      <td>38.0</td>\n",
       "      <td>1</td>\n",
       "      <td>0</td>\n",
       "      <td>PC 17599</td>\n",
       "      <td>71.2833</td>\n",
       "      <td>C85</td>\n",
       "      <td>C</td>\n",
       "      <td>4.280593</td>\n",
       "    </tr>\n",
       "    <tr>\n",
       "      <th>2</th>\n",
       "      <td>3</td>\n",
       "      <td>1</td>\n",
       "      <td>3</td>\n",
       "      <td>Heikkinen, Miss. Laina</td>\n",
       "      <td>female</td>\n",
       "      <td>26.0</td>\n",
       "      <td>0</td>\n",
       "      <td>0</td>\n",
       "      <td>STON/O2. 3101282</td>\n",
       "      <td>7.9250</td>\n",
       "      <td>B96 B98</td>\n",
       "      <td>S</td>\n",
       "      <td>2.188856</td>\n",
       "    </tr>\n",
       "    <tr>\n",
       "      <th>3</th>\n",
       "      <td>4</td>\n",
       "      <td>1</td>\n",
       "      <td>1</td>\n",
       "      <td>Futrelle, Mrs. Jacques Heath (Lily May Peel)</td>\n",
       "      <td>female</td>\n",
       "      <td>35.0</td>\n",
       "      <td>1</td>\n",
       "      <td>0</td>\n",
       "      <td>113803</td>\n",
       "      <td>53.1000</td>\n",
       "      <td>C123</td>\n",
       "      <td>S</td>\n",
       "      <td>3.990834</td>\n",
       "    </tr>\n",
       "    <tr>\n",
       "      <th>4</th>\n",
       "      <td>5</td>\n",
       "      <td>0</td>\n",
       "      <td>3</td>\n",
       "      <td>Allen, Mr. William Henry</td>\n",
       "      <td>male</td>\n",
       "      <td>35.0</td>\n",
       "      <td>0</td>\n",
       "      <td>0</td>\n",
       "      <td>373450</td>\n",
       "      <td>8.0500</td>\n",
       "      <td>B96 B98</td>\n",
       "      <td>S</td>\n",
       "      <td>2.202765</td>\n",
       "    </tr>\n",
       "  </tbody>\n",
       "</table>\n",
       "</div>"
      ],
      "text/plain": [
       "   PassengerId  Survived  Pclass  \\\n",
       "0            1         0       3   \n",
       "1            2         1       1   \n",
       "2            3         1       3   \n",
       "3            4         1       1   \n",
       "4            5         0       3   \n",
       "\n",
       "                                                  Name     Sex   Age  SibSp  \\\n",
       "0                              Braund, Mr. Owen Harris    male  22.0      1   \n",
       "1  Cumings, Mrs. John Bradley (Florence Briggs Thayer)  female  38.0      1   \n",
       "2                               Heikkinen, Miss. Laina  female  26.0      0   \n",
       "3         Futrelle, Mrs. Jacques Heath (Lily May Peel)  female  35.0      1   \n",
       "4                             Allen, Mr. William Henry    male  35.0      0   \n",
       "\n",
       "   Parch            Ticket     Fare    Cabin Embarked   LogFare  \n",
       "0      0         A/5 21171   7.2500  B96 B98        S  2.110213  \n",
       "1      0          PC 17599  71.2833      C85        C  4.280593  \n",
       "2      0  STON/O2. 3101282   7.9250  B96 B98        S  2.188856  \n",
       "3      0            113803  53.1000     C123        S  3.990834  \n",
       "4      0            373450   8.0500  B96 B98        S  2.202765  "
      ]
     },
     "execution_count": 4,
     "metadata": {},
     "output_type": "execute_result"
    }
   ],
   "source": [
    "data.head()"
   ]
  },
  {
   "cell_type": "markdown",
   "id": "1f293d9a-d465-45ee-bfe4-11a3286bab9c",
   "metadata": {},
   "source": [
    "Under the hood, a Categorical Variable makes a list of all the unique values in a column and replaces each value with a number. This way the number is an index for looking up the value in the list of unique values similar to a dictionary."
   ]
  },
  {
   "cell_type": "code",
   "execution_count": 5,
   "id": "e71f0f87-ca8a-45cd-8d81-a1879013014c",
   "metadata": {},
   "outputs": [
    {
     "data": {
      "text/plain": [
       "0      male\n",
       "1    female\n",
       "2    female\n",
       "3    female\n",
       "4      male\n",
       "Name: Sex, dtype: category\n",
       "Categories (2, object): ['female', 'male']"
      ]
     },
     "execution_count": 5,
     "metadata": {},
     "output_type": "execute_result"
    }
   ],
   "source": [
    "data.Sex.head()"
   ]
  },
  {
   "cell_type": "markdown",
   "id": "0572a11a-685e-47c3-94ea-521c6fd6df58",
   "metadata": {},
   "source": [
    "Notice that for this categorical variable, it still shows the original value (Male, Female), but behind the scene it has `Categories (2, object): ['female', 'male']` which means they are stored as integers with indicies that are looked up in the `Categories` list. We can view the stored values with the `cat.codes` attribute."
   ]
  },
  {
   "cell_type": "code",
   "execution_count": 6,
   "id": "3ed54345-0b45-4d72-8add-5f7db1919602",
   "metadata": {},
   "outputs": [
    {
     "data": {
      "text/plain": [
       "0    1\n",
       "1    0\n",
       "2    0\n",
       "3    0\n",
       "4    1\n",
       "dtype: int8"
      ]
     },
     "execution_count": 6,
     "metadata": {},
     "output_type": "execute_result"
    }
   ],
   "source": [
    "data.Sex.cat.codes.head()"
   ]
  },
  {
   "cell_type": "markdown",
   "id": "4cc7c1e9-533d-4f36-b0e1-ca4edf9d88a9",
   "metadata": {},
   "source": [
    "Now we'll make a list of continuous, categorical, and dependent values. Notice `Pclass` is no longer considered a categorical value because it has an order \"1,2, or 3.\""
   ]
  },
  {
   "cell_type": "code",
   "execution_count": 7,
   "id": "e11aab0e-21f8-4fd6-805f-743335101503",
   "metadata": {},
   "outputs": [],
   "source": [
    "categorical=['Sex', 'Embarked']\n",
    "continuous=['Age', 'SibSp', 'Parch', 'LogFare',\"Pclass\"]\n",
    "dependent='Survived'"
   ]
  },
  {
   "cell_type": "markdown",
   "id": "3b41c351-11ab-4ec4-9f2c-7f9761a647fa",
   "metadata": {},
   "source": [
    "## Binary Splits"
   ]
  },
  {
   "cell_type": "markdown",
   "id": "84f8e5e2-43c9-4cca-84d1-dc57a7925d71",
   "metadata": {},
   "source": [
    "In order to create Random Forests, we need to create decision trees, which are what Random Forests are made out of.\n",
    "\n",
    "Decision trees are made of binary splits on the data. A binary split is where all rows of data are split between one or two groups, whether they are above or below some threshold. \n",
    "\n",
    "For example: we can split the Sex Feature with a threshold of `0.5` because the categorical values for sex are `0` or `1`."
   ]
  },
  {
   "cell_type": "code",
   "execution_count": 8,
   "id": "4faccf86-7b0f-4a95-9dcf-4fafd03177a4",
   "metadata": {},
   "outputs": [
    {
     "name": "stderr",
     "output_type": "stream",
     "text": [
      "C:\\Users\\tuvshno\\anaconda3\\Lib\\site-packages\\seaborn\\categorical.py:641: FutureWarning: The default of observed=False is deprecated and will be changed to True in a future version of pandas. Pass observed=False to retain current behavior or observed=True to adopt the future default and silence this warning.\n",
      "  grouped_vals = vals.groupby(grouper)\n",
      "C:\\Users\\tuvshno\\anaconda3\\Lib\\site-packages\\seaborn\\categorical.py:641: FutureWarning: The default of observed=False is deprecated and will be changed to True in a future version of pandas. Pass observed=False to retain current behavior or observed=True to adopt the future default and silence this warning.\n",
      "  grouped_vals = vals.groupby(grouper)\n"
     ]
    },
    {
     "data": {
      "image/png": "[encoded data removed]",
      "text/plain": [
       "<Figure size 1100x500 with 2 Axes>"
      ]
     },
     "metadata": {},
     "output_type": "display_data"
    }
   ],
   "source": [
    "import seaborn as sns\n",
    "\n",
    "fig, axs = plt.subplots(1,2, figsize=(11,5))\n",
    "sns.barplot(data=data, y=dependent, x=\"Sex\", ax=axs[0]).set(title=\"Survival rate\")\n",
    "sns.countplot(data=data, x=\"Sex\", ax=axs[1]).set(title=\"Histogram\");                                                     "
   ]
  },
  {
   "cell_type": "markdown",
   "id": "03715db8-7bf5-4234-8338-f8a1133a2ba9",
   "metadata": {},
   "source": [
    "Here we can see that if we split the data into two groups for sex, there is a survival rate of around >70% for females and <20% for males."
   ]
  },
  {
   "cell_type": "markdown",
   "id": "8a6b5111-6154-46c0-ae9d-5b647651bded",
   "metadata": {},
   "source": [
    "We could create a \"model\" which says that if the passenger is female, she survives."
   ]
  },
  {
   "cell_type": "code",
   "execution_count": 9,
   "id": "10065e12-d8a9-43f2-8f27-1f78d852240a",
   "metadata": {},
   "outputs": [],
   "source": [
    "from numpy import random\n",
    "from sklearn.model_selection import train_test_split\n",
    "\n",
    "trn_df, val_df = train_test_split(data, test_size=0.25) # Split the train and validation sets\n",
    "trn_df[categorical] = trn_df[categorical].apply(lambda x: x.cat.codes) # Convert the categorical variables to their number\n",
    "val_df[categorical] = val_df[categorical].apply(lambda x: x.cat.codes)  # Convert the categorical variables to their number"
   ]
  },
  {
   "cell_type": "markdown",
   "id": "dc0fb034-48b5-4cc7-9ef0-a30c4d358eed",
   "metadata": {},
   "source": [
    "In the above step, we split the training and validation data and transformed our categorical variables to their numerical counterpart.\n",
    "\n",
    "Now we can create our independent and dependent variables."
   ]
  },
  {
   "cell_type": "code",
   "execution_count": 10,
   "id": "4a48d141-1200-4531-8677-adca2d8fe565",
   "metadata": {},
   "outputs": [],
   "source": [
    "def xs_y(df):\n",
    "    xs = df[categorical+continuous].copy()\n",
    "    return xs, df[dependent] if dependent in df else None\n",
    "\n",
    "trn_xs, trn_y = xs_y(trn_df)\n",
    "val_xs, val_y = xs_y(val_df)"
   ]
  },
  {
   "cell_type": "markdown",
   "id": "dbcab38a-bcb0-4066-b6eb-9c9b158d3914",
   "metadata": {},
   "source": [
    "These are our predictions for the model where females survive."
   ]
  },
  {
   "cell_type": "code",
   "execution_count": 11,
   "id": "8de48e12-4915-4e3d-ab1e-58ac9de131aa",
   "metadata": {},
   "outputs": [
    {
     "data": {
      "text/plain": [
       "819    False\n",
       "107    False\n",
       "744    False\n",
       "323     True\n",
       "340    False\n",
       "       ...  \n",
       "563    False\n",
       "570    False\n",
       "322     True\n",
       "137    False\n",
       "302    False\n",
       "Name: Sex, Length: 223, dtype: bool"
      ]
     },
     "execution_count": 11,
     "metadata": {},
     "output_type": "execute_result"
    }
   ],
   "source": [
    "preds = val_xs.Sex==0\n",
    "preds"
   ]
  },
  {
   "cell_type": "code",
   "execution_count": 12,
   "id": "6b2699a1-9696-4266-bd3e-35ee8188d1b3",
   "metadata": {},
   "outputs": [
    {
     "data": {
      "text/plain": [
       "0.18385650224215247"
      ]
     },
     "execution_count": 12,
     "metadata": {},
     "output_type": "execute_result"
    }
   ],
   "source": [
    "from sklearn.metrics import mean_absolute_error\n",
    "mean_absolute_error(val_y, preds)"
   ]
  },
  {
   "cell_type": "markdown",
   "id": "419d4aab-8210-45ba-b2c6-29277fcb6cb6",
   "metadata": {},
   "source": [
    "Instead of splitting on a categorical variable, we can split on a continuous variable such as `logFare`. "
   ]
  },
  {
   "cell_type": "code",
   "execution_count": 13,
   "id": "42b354a1-5bd1-45f4-9c4e-e6c7c728d6de",
   "metadata": {},
   "outputs": [
    {
     "name": "stderr",
     "output_type": "stream",
     "text": [
      "C:\\Users\\tuvshno\\anaconda3\\Lib\\site-packages\\seaborn\\categorical.py:1794: FutureWarning: use_inf_as_na option is deprecated and will be removed in a future version. Convert inf values to NaN before operating instead.\n",
      "  with pd.option_context('mode.use_inf_as_na', True):\n",
      "C:\\Users\\tuvshno\\anaconda3\\Lib\\site-packages\\seaborn\\categorical.py:1794: FutureWarning: use_inf_as_na option is deprecated and will be removed in a future version. Convert inf values to NaN before operating instead.\n",
      "  with pd.option_context('mode.use_inf_as_na', True):\n",
      "C:\\Users\\tuvshno\\anaconda3\\Lib\\site-packages\\seaborn\\_oldcore.py:1119: FutureWarning: use_inf_as_na option is deprecated and will be removed in a future version. Convert inf values to NaN before operating instead.\n",
      "  with pd.option_context('mode.use_inf_as_na', True):\n"
     ]
    },
    {
     "data": {
      "text/plain": [
       "<Axes: xlabel='LogFare', ylabel='Density'>"
      ]
     },
     "execution_count": 13,
     "metadata": {},
     "output_type": "execute_result"
    },
    {
     "data": {
      "image/png": "[encoded data removed]",
      "text/plain": [
       "<Figure size 1100x500 with 2 Axes>"
      ]
     },
     "metadata": {},
     "output_type": "display_data"
    }
   ],
   "source": [
    "df_fare = trn_df[trn_df.LogFare > 0]\n",
    "fig, axs = plt.subplots(1,2, figsize=(11,5))\n",
    "sns.boxenplot(data=df_fare, x=dependent, y=\"LogFare\", ax=axs[0])\n",
    "sns.kdeplot(data=df_fare, x=\"LogFare\", ax=axs[1])"
   ]
  },
  {
   "cell_type": "markdown",
   "id": "1bd0597b-2bd1-42a3-88e0-fce2f1c68cd6",
   "metadata": {},
   "source": [
    "The boxenplot above shows the quantiles of LogFare for each group `Survived == 0` and `Survived == 1`. It shows that the average logfare for passengers that didn't survive waqs around `2.5` and survived passengers was around `3.2`. So if you paid more for your ticket the more likely you could have survived."
   ]
  },
  {
   "cell_type": "code",
   "execution_count": 14,
   "id": "9f919522-c7e1-4cdf-9eb4-293d03fe134d",
   "metadata": {},
   "outputs": [
    {
     "data": {
      "text/plain": [
       "0.3542600896860987"
      ]
     },
     "execution_count": 14,
     "metadata": {},
     "output_type": "execute_result"
    }
   ],
   "source": [
    "preds = val_xs.LogFare>2.7\n",
    "mean_absolute_error(val_y, preds)"
   ]
  },
  {
   "cell_type": "markdown",
   "id": "35f26cac-0dae-45b4-9431-828b540eb5eb",
   "metadata": {},
   "source": [
    "We've tried two split points for `Sex` and `LogFare`. Now we'd like to try out more split points for each column to find the best possible split points.\n",
    "\n",
    "Here's how we could do that for `Age`"
   ]
  },
  {
   "cell_type": "code",
   "execution_count": 15,
   "id": "facc4491-d716-4e5d-a4e9-7d7be770ff85",
   "metadata": {},
   "outputs": [
    {
     "data": {
      "text/plain": [
       "array([ 0.42,  0.67,  0.75,  0.83,  0.92,  1.  ,  2.  ,  3.  ,  4.  ,\n",
       "        5.  ,  6.  ,  7.  ,  8.  ,  9.  , 11.  , 12.  , 13.  , 14.  ,\n",
       "       14.5 , 15.  , 16.  , 17.  , 18.  , 19.  , 20.  , 20.5 , 21.  ,\n",
       "       22.  , 23.  , 23.5 , 24.  , 24.5 , 25.  , 26.  , 27.  , 28.  ,\n",
       "       28.5 , 29.  , 30.  , 30.5 , 31.  , 32.  , 32.5 , 33.  , 34.  ,\n",
       "       34.5 , 35.  , 36.  , 37.  , 38.  , 39.  , 40.  , 40.5 , 41.  ,\n",
       "       42.  , 43.  , 44.  , 45.  , 45.5 , 46.  , 47.  , 48.  , 49.  ,\n",
       "       50.  , 51.  , 52.  , 53.  , 54.  , 55.  , 56.  , 57.  , 58.  ,\n",
       "       59.  , 60.  , 61.  , 62.  , 63.  , 64.  , 65.  , 66.  , 70.  ,\n",
       "       70.5 , 71.  , 74.  ])"
      ]
     },
     "execution_count": 15,
     "metadata": {},
     "output_type": "execute_result"
    }
   ],
   "source": [
    "nm = 'Age' # Feature name\n",
    "col = trn_xs[nm] # Get all the rows from the feature\n",
    "unq = col.unique() # Get all the unique values \n",
    "unq.sort() # Sort for better visualization\n",
    "unq"
   ]
  },
  {
   "cell_type": "markdown",
   "id": "0cdf1622-897e-4d2c-b13e-660051a8fb04",
   "metadata": {},
   "source": [
    "In order to find the best score for them, we could use the measure of `impurity` which is a measure of the likelihood of an incorrect classification of a randomly selected data point. We could measure the similarity of the rows by taking the standard deviation of the dependent variable. \n",
    "\n",
    "If it is higher then that means the rows are more different to each other, meaning they answered differently from each other more often. We'll then multiply this by the number of rows since a bigger group has more impact than a smaller group."
   ]
  },
  {
   "cell_type": "code",
   "execution_count": 16,
   "id": "6c21c9e7-7c5d-444e-9418-c198229a5c51",
   "metadata": {},
   "outputs": [],
   "source": [
    "def _side_score(side, y):\n",
    "    tot = side.sum()\n",
    "    if tot<=1: return 0\n",
    "    return y[side].std()*tot\n",
    "        \n",
    "def score(col, y, split):\n",
    "    lhs = col<=split # Getting the left and side of the \"split\" of the specied \"col\"\n",
    "    return (_side_score(lhs,y) + _side_score(~lhs,y))/len(y) # Returning the scores of the left and right hand side"
   ]
  },
  {
   "cell_type": "markdown",
   "id": "0436dafe-f84b-40ac-b1fd-5e82dd902223",
   "metadata": {},
   "source": [
    "Now we can find which split scored the lowest for Age."
   ]
  },
  {
   "cell_type": "code",
   "execution_count": 17,
   "id": "1378ec26-0601-4679-befd-c19b0cf3a01e",
   "metadata": {},
   "outputs": [
    {
     "data": {
      "text/plain": [
       "0.92"
      ]
     },
     "execution_count": 17,
     "metadata": {},
     "output_type": "execute_result"
    }
   ],
   "source": [
    "scores = np.array([score(col, trn_y, o) for o in unq if not np.isnan(o)])\n",
    "unq[scores.argmin()]"
   ]
  },
  {
   "cell_type": "markdown",
   "id": "259829c1-b4ad-449b-b117-450dde0a49e0",
   "metadata": {},
   "source": [
    "This means that the most optimal split is 6."
   ]
  },
  {
   "cell_type": "markdown",
   "id": "e01b1f7d-105b-4be1-8fb1-a80c7f93578c",
   "metadata": {},
   "source": [
    "Now we can write a function that implements this idea:"
   ]
  },
  {
   "cell_type": "code",
   "execution_count": 18,
   "id": "f46ea94a-d203-42be-817c-cd261f20b7bc",
   "metadata": {},
   "outputs": [],
   "source": [
    "def min_col(df, nm):\n",
    "    col, y = df[nm], df[dependent] # Get the Rows for that feature and the dependent variable\n",
    "    unq = col.dropna().unique() # Collect all the unique values for that feature\n",
    "    scores = np.array([score(col, y, o) for o in unq if not np.isnan(o)]) # Calculate the scores for each unique value\n",
    "    idx = scores.argmin() # Find the value of the lowest score\n",
    "    return unq[idx], scores[idx] # Return the value and its score"
   ]
  },
  {
   "cell_type": "code",
   "execution_count": 19,
   "id": "85dd8644-3908-4d82-b38e-7eca5d2c28ef",
   "metadata": {},
   "outputs": [
    {
     "data": {
      "text/plain": [
       "(0.92, 0.4753472236859963)"
      ]
     },
     "execution_count": 19,
     "metadata": {},
     "output_type": "execute_result"
    }
   ],
   "source": [
    "min_col(trn_df, \"Age\")"
   ]
  },
  {
   "cell_type": "markdown",
   "id": "0a3378d9-9341-45d9-bbf8-dd283ce03b7b",
   "metadata": {},
   "source": [
    "Now we can do all the features:"
   ]
  },
  {
   "cell_type": "code",
   "execution_count": 20,
   "id": "4659394b-3bbd-43e0-b783-17c6bdb92f52",
   "metadata": {},
   "outputs": [
    {
     "data": {
      "text/plain": [
       "{'Sex': (0, 0.4128496335545108),\n",
       " 'Embarked': (0, 0.47211011124864427),\n",
       " 'Age': (0.92, 0.4753472236859963),\n",
       " 'SibSp': (4, 0.47539954347088925),\n",
       " 'Parch': (0, 0.4783782811394168),\n",
       " 'LogFare': (3.8732821771117156, 0.4611329759446849),\n",
       " 'Pclass': (2, 0.45680605969958216)}"
      ]
     },
     "execution_count": 20,
     "metadata": {},
     "output_type": "execute_result"
    }
   ],
   "source": [
    "cols = categorical+continuous\n",
    "{o:min_col(trn_df, o) for o in cols}"
   ]
  },
  {
   "cell_type": "markdown",
   "id": "dd732e5c-025b-49a8-bc1c-fe9ce9c22e1e",
   "metadata": {},
   "source": [
    "According to the data, `Sex<=0` is the best split.\n",
    "\n",
    "This is called the OneR classifier, which is suprisingly one of the most effect classifiers. Since its so simple, it makes for a great baseline."
   ]
  },
  {
   "cell_type": "markdown",
   "id": "644856d2-2f3b-45dc-9941-9b4681fae02a",
   "metadata": {},
   "source": [
    "## Creating a Decision Tree"
   ]
  },
  {
   "cell_type": "markdown",
   "id": "497f143c-7348-4f53-88da-36df29b5e7ea",
   "metadata": {},
   "source": [
    "Now we want to improve the OneR classifier that only split based on `Sex`.\n",
    "\n",
    "In order to do this, we could keep splitting based off the best split in the original split.\n",
    "\n",
    "Meaning that after we split on `Sex` between `Female` and `Male`, we could continue splitting for both `Female` and `Male`.\n",
    "\n",
    "In order to do that, we need to remove `Sex` from the cols and split our data into two groups"
   ]
  },
  {
   "cell_type": "code",
   "execution_count": 21,
   "id": "fab42f4d-e354-45d7-a7e9-12094a645cd0",
   "metadata": {},
   "outputs": [
    {
     "data": {
      "text/plain": [
       "['Sex', 'Embarked', 'Age', 'SibSp', 'Parch', 'LogFare', 'Pclass']"
      ]
     },
     "execution_count": 21,
     "metadata": {},
     "output_type": "execute_result"
    }
   ],
   "source": [
    "cols"
   ]
  },
  {
   "cell_type": "code",
   "execution_count": 22,
   "id": "b7e6c9e5-bfff-409c-9ff7-a2fdcf2ba8bd",
   "metadata": {},
   "outputs": [],
   "source": [
    "cols.remove(\"Sex\")\n",
    "isMale = trn_df.Sex==1\n",
    "males, females = trn_df[isMale], trn_df[~isMale]"
   ]
  },
  {
   "cell_type": "markdown",
   "id": "5af9ce0a-e7ea-475f-82b1-fe69f623e7fa",
   "metadata": {},
   "source": [
    "Now we want to find the best split for males:"
   ]
  },
  {
   "cell_type": "code",
   "execution_count": 23,
   "id": "e5f1da51-b241-434d-8e08-80f2269315df",
   "metadata": {},
   "outputs": [
    {
     "data": {
      "text/plain": [
       "{'Embarked': (0, 0.3836040020185199),\n",
       " 'Age': (12.0, 0.37500322863869534),\n",
       " 'SibSp': (4, 0.3861250871739465),\n",
       " 'Parch': (0, 0.3862814273244743),\n",
       " 'LogFare': (3.305053521109253, 0.3690595819081184),\n",
       " 'Pclass': (1, 0.370627280132763)}"
      ]
     },
     "execution_count": 23,
     "metadata": {},
     "output_type": "execute_result"
    }
   ],
   "source": [
    "{o: min_col(males, o) for o in cols}"
   ]
  },
  {
   "cell_type": "markdown",
   "id": "43de6497-6585-469f-bf49-d9a4b47fb47a",
   "metadata": {},
   "source": [
    "And the best split for females:"
   ]
  },
  {
   "cell_type": "code",
   "execution_count": 24,
   "id": "8b0d1351-8ca0-4d8b-aa14-998a6381156e",
   "metadata": {},
   "outputs": [
    {
     "data": {
      "text/plain": [
       "{'Embarked': (0, 0.4437598901898941),\n",
       " 'Age': (57.0, 0.44692121336571633),\n",
       " 'SibSp': (2, 0.4263298533279017),\n",
       " 'Parch': (3, 0.447363934352049),\n",
       " 'LogFare': (4.256321678298823, 0.39413178309571123),\n",
       " 'Pclass': (2, 0.358649380592919)}"
      ]
     },
     "execution_count": 24,
     "metadata": {},
     "output_type": "execute_result"
    }
   ],
   "source": [
    "{o: min_col(females, o) for o in cols}"
   ]
  },
  {
   "cell_type": "markdown",
   "id": "c45ebfe2-7bed-49d1-a294-e67df28c07ba",
   "metadata": {},
   "source": [
    "We can see that the best split for `Male` is  `LogFare` and for `Female` is `Pclass`\n",
    "\n",
    "By adding these rules, we've created a Deicison Tree, where the model will first check if whether Sex is male or female and then check LogFare or Pclass. We could then repeat the process for more splits.\n",
    "\n",
    "We can utilize the DecisionTreeClassifier from sklearn to do this for us."
   ]
  },
  {
   "cell_type": "code",
   "execution_count": 25,
   "id": "a84adce3-6a44-489c-837c-7d3d2bafca2b",
   "metadata": {},
   "outputs": [],
   "source": [
    "from sklearn.tree import DecisionTreeClassifier, export_graphviz\n",
    "\n",
    "m = DecisionTreeClassifier(max_leaf_nodes=4).fit(trn_xs, trn_y)"
   ]
  },
  {
   "cell_type": "code",
   "execution_count": 26,
   "id": "1d9ef73f-2498-4a6d-b34f-c19b55612bee",
   "metadata": {},
   "outputs": [],
   "source": [
    "import graphviz\n",
    "import re \n",
    "\n",
    "def draw_tree(t, df, size=10, ratio=0.6, precision=2, **kwargs):\n",
    "    s=export_graphviz(t, out_file=None, feature_names=df.columns, filled=True, rounded=True,\n",
    "                      special_characters=True, rotate=False, precision=precision, **kwargs)\n",
    "    return graphviz.Source(re.sub('Tree {', f'Tree {{ size={size}; ratio={ratio}', s))"
   ]
  },
  {
   "cell_type": "code",
   "execution_count": 27,
   "id": "f1136ca5-45c8-4b38-a314-3b32f14e47fd",
   "metadata": {},
   "outputs": [
    {
     "data": {
      "image/svg+xml": [
       "<?xml version=\"1.0\" encoding=\"UTF-8\" standalone=\"no\"?>\n",
       "<!DOCTYPE svg PUBLIC \"-//W3C//DTD SVG 1.1//EN\"\n",
       " \"http://www.w3.org/Graphics/SVG/1.1/DTD/svg11.dtd\">\n",
       "<!-- Generated by graphviz version 2.46.0 (20210118.1747)\n",
       " -->\n",
       "<!-- Title: Tree Pages: 1 -->\n",
       "<svg width=\"526pt\" height=\"319pt\"\n",
       " viewBox=\"0.00 0.00 526.00 318.80\" xmlns=\"http://www.w3.org/2000/svg\" xmlns:xlink=\"http://www.w3.org/1999/xlink\">\n",
       "<g id=\"graph0\" class=\"graph\" transform=\"scale(1 1) rotate(0) translate(4 314.8)\">\n",
       "<title>Tree</title>\n",
       "<polygon fill=\"white\" stroke=\"transparent\" points=\"-4,4 -4,-314.8 522,-314.8 522,4 -4,4\"/>\n",
       "<!-- 0 -->\n",
       "<g id=\"node1\" class=\"node\">\n",
       "<title>0</title>\n",
       "<path fill=\"#f4caac\" stroke=\"black\" d=\"M309.5,-304C309.5,-304 203.5,-304 203.5,-304 197.5,-304 191.5,-298 191.5,-292 191.5,-292 191.5,-248 191.5,-248 191.5,-242 197.5,-236 203.5,-236 203.5,-236 309.5,-236 309.5,-236 315.5,-236 321.5,-242 321.5,-248 321.5,-248 321.5,-292 321.5,-292 321.5,-298 315.5,-304 309.5,-304\"/>\n",
       "<text text-anchor=\"start\" x=\"226\" y=\"-288.8\" font-family=\"Helvetica,sans-Serif\" font-size=\"14.00\">Sex ≤ 0.5</text>\n",
       "<text text-anchor=\"start\" x=\"223\" y=\"-273.8\" font-family=\"Helvetica,sans-Serif\" font-size=\"14.00\">gini = 0.46</text>\n",
       "<text text-anchor=\"start\" x=\"209\" y=\"-258.8\" font-family=\"Helvetica,sans-Serif\" font-size=\"14.00\">samples = 668</text>\n",
       "<text text-anchor=\"start\" x=\"199.5\" y=\"-243.8\" font-family=\"Helvetica,sans-Serif\" font-size=\"14.00\">value = [423, 245]</text>\n",
       "</g>\n",
       "<!-- 1 -->\n",
       "<g id=\"node2\" class=\"node\">\n",
       "<title>1</title>\n",
       "<path fill=\"#8ac5f0\" stroke=\"black\" d=\"M235.5,-180C235.5,-180 137.5,-180 137.5,-180 131.5,-180 125.5,-174 125.5,-168 125.5,-168 125.5,-124 125.5,-124 125.5,-118 131.5,-112 137.5,-112 137.5,-112 235.5,-112 235.5,-112 241.5,-112 247.5,-118 247.5,-124 247.5,-124 247.5,-168 247.5,-168 247.5,-174 241.5,-180 235.5,-180\"/>\n",
       "<text text-anchor=\"start\" x=\"147\" y=\"-164.8\" font-family=\"Helvetica,sans-Serif\" font-size=\"14.00\">Pclass ≤ 2.5</text>\n",
       "<text text-anchor=\"start\" x=\"153\" y=\"-149.8\" font-family=\"Helvetica,sans-Serif\" font-size=\"14.00\">gini = 0.41</text>\n",
       "<text text-anchor=\"start\" x=\"139\" y=\"-134.8\" font-family=\"Helvetica,sans-Serif\" font-size=\"14.00\">samples = 230</text>\n",
       "<text text-anchor=\"start\" x=\"133.5\" y=\"-119.8\" font-family=\"Helvetica,sans-Serif\" font-size=\"14.00\">value = [67, 163]</text>\n",
       "</g>\n",
       "<!-- 0&#45;&gt;1 -->\n",
       "<g id=\"edge1\" class=\"edge\">\n",
       "<title>0&#45;&gt;1</title>\n",
       "<path fill=\"none\" stroke=\"black\" d=\"M237.56,-235.99C229.23,-221.47 219.36,-204.26 210.52,-188.86\"/>\n",
       "<polygon fill=\"black\" stroke=\"black\" points=\"213.47,-186.97 205.46,-180.04 207.4,-190.46 213.47,-186.97\"/>\n",
       "<text text-anchor=\"middle\" x=\"198.92\" y=\"-200.47\" font-family=\"Helvetica,sans-Serif\" font-size=\"14.00\">True</text>\n",
       "</g>\n",
       "<!-- 2 -->\n",
       "<g id=\"node5\" class=\"node\">\n",
       "<title>2</title>\n",
       "<path fill=\"#eb9e67\" stroke=\"black\" d=\"M375.5,-180C375.5,-180 277.5,-180 277.5,-180 271.5,-180 265.5,-174 265.5,-168 265.5,-168 265.5,-124 265.5,-124 265.5,-118 271.5,-112 277.5,-112 277.5,-112 375.5,-112 375.5,-112 381.5,-112 387.5,-118 387.5,-124 387.5,-124 387.5,-168 387.5,-168 387.5,-174 381.5,-180 375.5,-180\"/>\n",
       "<text text-anchor=\"start\" x=\"277.5\" y=\"-164.8\" font-family=\"Helvetica,sans-Serif\" font-size=\"14.00\">LogFare ≤ 3.31</text>\n",
       "<text text-anchor=\"start\" x=\"297.5\" y=\"-149.8\" font-family=\"Helvetica,sans-Serif\" font-size=\"14.00\">gini = 0.3</text>\n",
       "<text text-anchor=\"start\" x=\"279\" y=\"-134.8\" font-family=\"Helvetica,sans-Serif\" font-size=\"14.00\">samples = 438</text>\n",
       "<text text-anchor=\"start\" x=\"273.5\" y=\"-119.8\" font-family=\"Helvetica,sans-Serif\" font-size=\"14.00\">value = [356, 82]</text>\n",
       "</g>\n",
       "<!-- 0&#45;&gt;2 -->\n",
       "<g id=\"edge4\" class=\"edge\">\n",
       "<title>0&#45;&gt;2</title>\n",
       "<path fill=\"none\" stroke=\"black\" d=\"M275.44,-235.99C283.77,-221.47 293.64,-204.26 302.48,-188.86\"/>\n",
       "<polygon fill=\"black\" stroke=\"black\" points=\"305.6,-190.46 307.54,-180.04 299.53,-186.97 305.6,-190.46\"/>\n",
       "<text text-anchor=\"middle\" x=\"314.08\" y=\"-200.47\" font-family=\"Helvetica,sans-Serif\" font-size=\"14.00\">False</text>\n",
       "</g>\n",
       "<!-- 3 -->\n",
       "<g id=\"node3\" class=\"node\">\n",
       "<title>3</title>\n",
       "<path fill=\"#44a2e6\" stroke=\"black\" d=\"M101,-58.5C101,-58.5 12,-58.5 12,-58.5 6,-58.5 0,-52.5 0,-46.5 0,-46.5 0,-17.5 0,-17.5 0,-11.5 6,-5.5 12,-5.5 12,-5.5 101,-5.5 101,-5.5 107,-5.5 113,-11.5 113,-17.5 113,-17.5 113,-46.5 113,-46.5 113,-52.5 107,-58.5 101,-58.5\"/>\n",
       "<text text-anchor=\"start\" x=\"27.5\" y=\"-43.3\" font-family=\"Helvetica,sans-Serif\" font-size=\"14.00\">gini = 0.1</text>\n",
       "<text text-anchor=\"start\" x=\"9\" y=\"-28.3\" font-family=\"Helvetica,sans-Serif\" font-size=\"14.00\">samples = 117</text>\n",
       "<text text-anchor=\"start\" x=\"8\" y=\"-13.3\" font-family=\"Helvetica,sans-Serif\" font-size=\"14.00\">value = [6, 111]</text>\n",
       "</g>\n",
       "<!-- 1&#45;&gt;3 -->\n",
       "<g id=\"edge2\" class=\"edge\">\n",
       "<title>1&#45;&gt;3</title>\n",
       "<path fill=\"none\" stroke=\"black\" d=\"M147.85,-111.7C130.87,-97.07 111,-79.95 94.14,-65.43\"/>\n",
       "<polygon fill=\"black\" stroke=\"black\" points=\"95.99,-62.4 86.13,-58.52 91.42,-67.7 95.99,-62.4\"/>\n",
       "</g>\n",
       "<!-- 4 -->\n",
       "<g id=\"node4\" class=\"node\">\n",
       "<title>4</title>\n",
       "<path fill=\"#fbece2\" stroke=\"black\" d=\"M232,-58.5C232,-58.5 143,-58.5 143,-58.5 137,-58.5 131,-52.5 131,-46.5 131,-46.5 131,-17.5 131,-17.5 131,-11.5 137,-5.5 143,-5.5 143,-5.5 232,-5.5 232,-5.5 238,-5.5 244,-11.5 244,-17.5 244,-17.5 244,-46.5 244,-46.5 244,-52.5 238,-58.5 232,-58.5\"/>\n",
       "<text text-anchor=\"start\" x=\"158.5\" y=\"-43.3\" font-family=\"Helvetica,sans-Serif\" font-size=\"14.00\">gini = 0.5</text>\n",
       "<text text-anchor=\"start\" x=\"140\" y=\"-28.3\" font-family=\"Helvetica,sans-Serif\" font-size=\"14.00\">samples = 113</text>\n",
       "<text text-anchor=\"start\" x=\"139\" y=\"-13.3\" font-family=\"Helvetica,sans-Serif\" font-size=\"14.00\">value = [61, 52]</text>\n",
       "</g>\n",
       "<!-- 1&#45;&gt;4 -->\n",
       "<g id=\"edge3\" class=\"edge\">\n",
       "<title>1&#45;&gt;4</title>\n",
       "<path fill=\"none\" stroke=\"black\" d=\"M186.8,-111.7C186.92,-98.13 187.06,-82.43 187.18,-68.63\"/>\n",
       "<polygon fill=\"black\" stroke=\"black\" points=\"190.68,-68.55 187.27,-58.52 183.68,-68.49 190.68,-68.55\"/>\n",
       "</g>\n",
       "<!-- 5 -->\n",
       "<g id=\"node6\" class=\"node\">\n",
       "<title>5</title>\n",
       "<path fill=\"#e89254\" stroke=\"black\" d=\"M374.5,-58.5C374.5,-58.5 276.5,-58.5 276.5,-58.5 270.5,-58.5 264.5,-52.5 264.5,-46.5 264.5,-46.5 264.5,-17.5 264.5,-17.5 264.5,-11.5 270.5,-5.5 276.5,-5.5 276.5,-5.5 374.5,-5.5 374.5,-5.5 380.5,-5.5 386.5,-11.5 386.5,-17.5 386.5,-17.5 386.5,-46.5 386.5,-46.5 386.5,-52.5 380.5,-58.5 374.5,-58.5\"/>\n",
       "<text text-anchor=\"start\" x=\"292\" y=\"-43.3\" font-family=\"Helvetica,sans-Serif\" font-size=\"14.00\">gini = 0.21</text>\n",
       "<text text-anchor=\"start\" x=\"278\" y=\"-28.3\" font-family=\"Helvetica,sans-Serif\" font-size=\"14.00\">samples = 312</text>\n",
       "<text text-anchor=\"start\" x=\"272.5\" y=\"-13.3\" font-family=\"Helvetica,sans-Serif\" font-size=\"14.00\">value = [275, 37]</text>\n",
       "</g>\n",
       "<!-- 2&#45;&gt;5 -->\n",
       "<g id=\"edge5\" class=\"edge\">\n",
       "<title>2&#45;&gt;5</title>\n",
       "<path fill=\"none\" stroke=\"black\" d=\"M326.2,-111.7C326.08,-98.13 325.94,-82.43 325.82,-68.63\"/>\n",
       "<polygon fill=\"black\" stroke=\"black\" points=\"329.32,-68.49 325.73,-58.52 322.32,-68.55 329.32,-68.49\"/>\n",
       "</g>\n",
       "<!-- 6 -->\n",
       "<g id=\"node7\" class=\"node\">\n",
       "<title>6</title>\n",
       "<path fill=\"#f3c7a7\" stroke=\"black\" d=\"M506,-58.5C506,-58.5 417,-58.5 417,-58.5 411,-58.5 405,-52.5 405,-46.5 405,-46.5 405,-17.5 405,-17.5 405,-11.5 411,-5.5 417,-5.5 417,-5.5 506,-5.5 506,-5.5 512,-5.5 518,-11.5 518,-17.5 518,-17.5 518,-46.5 518,-46.5 518,-52.5 512,-58.5 506,-58.5\"/>\n",
       "<text text-anchor=\"start\" x=\"428\" y=\"-43.3\" font-family=\"Helvetica,sans-Serif\" font-size=\"14.00\">gini = 0.46</text>\n",
       "<text text-anchor=\"start\" x=\"414\" y=\"-28.3\" font-family=\"Helvetica,sans-Serif\" font-size=\"14.00\">samples = 126</text>\n",
       "<text text-anchor=\"start\" x=\"413\" y=\"-13.3\" font-family=\"Helvetica,sans-Serif\" font-size=\"14.00\">value = [81, 45]</text>\n",
       "</g>\n",
       "<!-- 2&#45;&gt;6 -->\n",
       "<g id=\"edge6\" class=\"edge\">\n",
       "<title>2&#45;&gt;6</title>\n",
       "<path fill=\"none\" stroke=\"black\" d=\"M366.64,-111.7C384.43,-96.94 405.28,-79.64 422.89,-65.03\"/>\n",
       "<polygon fill=\"black\" stroke=\"black\" points=\"425.27,-67.6 430.73,-58.52 420.8,-62.22 425.27,-67.6\"/>\n",
       "</g>\n",
       "</g>\n",
       "</svg>\n"
      ],
      "text/plain": [
       "<graphviz.sources.Source at 0x24b24b8e610>"
      ]
     },
     "execution_count": 27,
     "metadata": {},
     "output_type": "execute_result"
    }
   ],
   "source": [
    "draw_tree(m, trn_xs, size=10)"
   ]
  },
  {
   "cell_type": "markdown",
   "id": "864ae8db-4946-4e4a-99da-b960fcdf88ea",
   "metadata": {},
   "source": [
    "The graph shows a decision tree and where it splits. The blue nodes show higher chance of survival where the organe nodes show lower chance of survival.\n",
    "\n",
    "Each node has a \"sample\" which indicate how many rows match that node. \"Gini\" is another measure of impurity. Value shows how many values were either not survived or survived."
   ]
  },
  {
   "cell_type": "markdown",
   "id": "b524d92b-756d-4cef-8d1b-fe1d536a8c08",
   "metadata": {},
   "source": [
    "We could also make a bigger tree."
   ]
  },
  {
   "cell_type": "code",
   "execution_count": 28,
   "id": "81d1f030-baea-46ca-8e4c-c85549ccd81f",
   "metadata": {},
   "outputs": [
    {
     "data": {
      "image/svg+xml": [
       "<?xml version=\"1.0\" encoding=\"UTF-8\" standalone=\"no\"?>\n",
       "<!DOCTYPE svg PUBLIC \"-//W3C//DTD SVG 1.1//EN\"\n",
       " \"http://www.w3.org/Graphics/SVG/1.1/DTD/svg11.dtd\">\n",
       "<!-- Generated by graphviz version 2.46.0 (20210118.1747)\n",
       " -->\n",
       "<!-- Title: Tree Pages: 1 -->\n",
       "<svg width=\"864pt\" height=\"521pt\"\n",
       " viewBox=\"0.00 0.00 864.00 521.08\" xmlns=\"http://www.w3.org/2000/svg\" xmlns:xlink=\"http://www.w3.org/1999/xlink\">\n",
       "<g id=\"graph0\" class=\"graph\" transform=\"scale(0.84 0.84) rotate(0) translate(4 618.4)\">\n",
       "<title>Tree</title>\n",
       "<polygon fill=\"white\" stroke=\"transparent\" points=\"-4,4 -4,-618.4 1028,-618.4 1028,4 -4,4\"/>\n",
       "<!-- 0 -->\n",
       "<g id=\"node1\" class=\"node\">\n",
       "<title>0</title>\n",
       "<path fill=\"#f4caac\" stroke=\"black\" d=\"M546.5,-612C546.5,-612 440.5,-612 440.5,-612 434.5,-612 428.5,-606 428.5,-600 428.5,-600 428.5,-556 428.5,-556 428.5,-550 434.5,-544 440.5,-544 440.5,-544 546.5,-544 546.5,-544 552.5,-544 558.5,-550 558.5,-556 558.5,-556 558.5,-600 558.5,-600 558.5,-606 552.5,-612 546.5,-612\"/>\n",
       "<text text-anchor=\"start\" x=\"463\" y=\"-596.8\" font-family=\"Helvetica,sans-Serif\" font-size=\"14.00\">Sex ≤ 0.5</text>\n",
       "<text text-anchor=\"start\" x=\"460\" y=\"-581.8\" font-family=\"Helvetica,sans-Serif\" font-size=\"14.00\">gini = 0.46</text>\n",
       "<text text-anchor=\"start\" x=\"446\" y=\"-566.8\" font-family=\"Helvetica,sans-Serif\" font-size=\"14.00\">samples = 668</text>\n",
       "<text text-anchor=\"start\" x=\"436.5\" y=\"-551.8\" font-family=\"Helvetica,sans-Serif\" font-size=\"14.00\">value = [423, 245]</text>\n",
       "</g>\n",
       "<!-- 1 -->\n",
       "<g id=\"node2\" class=\"node\">\n",
       "<title>1</title>\n",
       "<path fill=\"#8ac5f0\" stroke=\"black\" d=\"M414.5,-500C414.5,-500 316.5,-500 316.5,-500 310.5,-500 304.5,-494 304.5,-488 304.5,-488 304.5,-444 304.5,-444 304.5,-438 310.5,-432 316.5,-432 316.5,-432 414.5,-432 414.5,-432 420.5,-432 426.5,-438 426.5,-444 426.5,-444 426.5,-488 426.5,-488 426.5,-494 420.5,-500 414.5,-500\"/>\n",
       "<text text-anchor=\"start\" x=\"326\" y=\"-484.8\" font-family=\"Helvetica,sans-Serif\" font-size=\"14.00\">Pclass ≤ 2.5</text>\n",
       "<text text-anchor=\"start\" x=\"332\" y=\"-469.8\" font-family=\"Helvetica,sans-Serif\" font-size=\"14.00\">gini = 0.41</text>\n",
       "<text text-anchor=\"start\" x=\"318\" y=\"-454.8\" font-family=\"Helvetica,sans-Serif\" font-size=\"14.00\">samples = 230</text>\n",
       "<text text-anchor=\"start\" x=\"312.5\" y=\"-439.8\" font-family=\"Helvetica,sans-Serif\" font-size=\"14.00\">value = [67, 163]</text>\n",
       "</g>\n",
       "<!-- 0&#45;&gt;1 -->\n",
       "<g id=\"edge1\" class=\"edge\">\n",
       "<title>0&#45;&gt;1</title>\n",
       "<path fill=\"none\" stroke=\"black\" d=\"M455.1,-544C441.55,-532.36 426.17,-519.14 412.03,-506.99\"/>\n",
       "<polygon fill=\"black\" stroke=\"black\" points=\"414.18,-504.22 404.32,-500.36 409.62,-509.53 414.18,-504.22\"/>\n",
       "<text text-anchor=\"middle\" x=\"406.2\" y=\"-521.59\" font-family=\"Helvetica,sans-Serif\" font-size=\"14.00\">True</text>\n",
       "</g>\n",
       "<!-- 8 -->\n",
       "<g id=\"node9\" class=\"node\">\n",
       "<title>8</title>\n",
       "<path fill=\"#eb9e67\" stroke=\"black\" d=\"M681.5,-500C681.5,-500 583.5,-500 583.5,-500 577.5,-500 571.5,-494 571.5,-488 571.5,-488 571.5,-444 571.5,-444 571.5,-438 577.5,-432 583.5,-432 583.5,-432 681.5,-432 681.5,-432 687.5,-432 693.5,-438 693.5,-444 693.5,-444 693.5,-488 693.5,-488 693.5,-494 687.5,-500 681.5,-500\"/>\n",
       "<text text-anchor=\"start\" x=\"583.5\" y=\"-484.8\" font-family=\"Helvetica,sans-Serif\" font-size=\"14.00\">LogFare ≤ 3.31</text>\n",
       "<text text-anchor=\"start\" x=\"603.5\" y=\"-469.8\" font-family=\"Helvetica,sans-Serif\" font-size=\"14.00\">gini = 0.3</text>\n",
       "<text text-anchor=\"start\" x=\"585\" y=\"-454.8\" font-family=\"Helvetica,sans-Serif\" font-size=\"14.00\">samples = 438</text>\n",
       "<text text-anchor=\"start\" x=\"579.5\" y=\"-439.8\" font-family=\"Helvetica,sans-Serif\" font-size=\"14.00\">value = [356, 82]</text>\n",
       "</g>\n",
       "<!-- 0&#45;&gt;8 -->\n",
       "<g id=\"edge8\" class=\"edge\">\n",
       "<title>0&#45;&gt;8</title>\n",
       "<path fill=\"none\" stroke=\"black\" d=\"M535.2,-544C550.05,-532.25 566.92,-518.9 582.4,-506.65\"/>\n",
       "<polygon fill=\"black\" stroke=\"black\" points=\"584.67,-509.31 590.34,-500.36 580.33,-503.82 584.67,-509.31\"/>\n",
       "<text text-anchor=\"middle\" x=\"587.45\" y=\"-521.49\" font-family=\"Helvetica,sans-Serif\" font-size=\"14.00\">False</text>\n",
       "</g>\n",
       "<!-- 2 -->\n",
       "<g id=\"node3\" class=\"node\">\n",
       "<title>2</title>\n",
       "<path fill=\"#44a2e6\" stroke=\"black\" d=\"M220.5,-389C220.5,-389 130.5,-389 130.5,-389 124.5,-389 118.5,-383 118.5,-377 118.5,-377 118.5,-333 118.5,-333 118.5,-327 124.5,-321 130.5,-321 130.5,-321 220.5,-321 220.5,-321 226.5,-321 232.5,-327 232.5,-333 232.5,-333 232.5,-377 232.5,-377 232.5,-383 226.5,-389 220.5,-389\"/>\n",
       "<text text-anchor=\"start\" x=\"126.5\" y=\"-373.8\" font-family=\"Helvetica,sans-Serif\" font-size=\"14.00\">LogFare ≤ 3.41</text>\n",
       "<text text-anchor=\"start\" x=\"146.5\" y=\"-358.8\" font-family=\"Helvetica,sans-Serif\" font-size=\"14.00\">gini = 0.1</text>\n",
       "<text text-anchor=\"start\" x=\"128\" y=\"-343.8\" font-family=\"Helvetica,sans-Serif\" font-size=\"14.00\">samples = 117</text>\n",
       "<text text-anchor=\"start\" x=\"127\" y=\"-328.8\" font-family=\"Helvetica,sans-Serif\" font-size=\"14.00\">value = [6, 111]</text>\n",
       "</g>\n",
       "<!-- 1&#45;&gt;2 -->\n",
       "<g id=\"edge2\" class=\"edge\">\n",
       "<title>1&#45;&gt;2</title>\n",
       "<path fill=\"none\" stroke=\"black\" d=\"M307.72,-431.85C286.8,-419.85 263.02,-406.21 241.45,-393.84\"/>\n",
       "<polygon fill=\"black\" stroke=\"black\" points=\"243.09,-390.74 232.68,-388.8 239.61,-396.81 243.09,-390.74\"/>\n",
       "</g>\n",
       "<!-- 5 -->\n",
       "<g id=\"node6\" class=\"node\">\n",
       "<title>5</title>\n",
       "<path fill=\"#fbece2\" stroke=\"black\" d=\"M410,-389C410,-389 321,-389 321,-389 315,-389 309,-383 309,-377 309,-377 309,-333 309,-333 309,-327 315,-321 321,-321 321,-321 410,-321 410,-321 416,-321 422,-327 422,-333 422,-333 422,-377 422,-377 422,-383 416,-389 410,-389\"/>\n",
       "<text text-anchor=\"start\" x=\"328\" y=\"-373.8\" font-family=\"Helvetica,sans-Serif\" font-size=\"14.00\">SibSp ≤ 0.5</text>\n",
       "<text text-anchor=\"start\" x=\"336.5\" y=\"-358.8\" font-family=\"Helvetica,sans-Serif\" font-size=\"14.00\">gini = 0.5</text>\n",
       "<text text-anchor=\"start\" x=\"318\" y=\"-343.8\" font-family=\"Helvetica,sans-Serif\" font-size=\"14.00\">samples = 113</text>\n",
       "<text text-anchor=\"start\" x=\"317\" y=\"-328.8\" font-family=\"Helvetica,sans-Serif\" font-size=\"14.00\">value = [61, 52]</text>\n",
       "</g>\n",
       "<!-- 1&#45;&gt;5 -->\n",
       "<g id=\"edge5\" class=\"edge\">\n",
       "<title>1&#45;&gt;5</title>\n",
       "<path fill=\"none\" stroke=\"black\" d=\"M365.5,-431.7C365.5,-421.46 365.5,-410.02 365.5,-399.21\"/>\n",
       "<polygon fill=\"black\" stroke=\"black\" points=\"369,-399.09 365.5,-389.09 362,-399.09 369,-399.09\"/>\n",
       "</g>\n",
       "<!-- 3 -->\n",
       "<g id=\"node4\" class=\"node\">\n",
       "<title>3</title>\n",
       "<path fill=\"#53aae8\" stroke=\"black\" d=\"M93,-269.5C93,-269.5 12,-269.5 12,-269.5 6,-269.5 0,-263.5 0,-257.5 0,-257.5 0,-228.5 0,-228.5 0,-222.5 6,-216.5 12,-216.5 12,-216.5 93,-216.5 93,-216.5 99,-216.5 105,-222.5 105,-228.5 105,-228.5 105,-257.5 105,-257.5 105,-263.5 99,-269.5 93,-269.5\"/>\n",
       "<text text-anchor=\"start\" x=\"19\" y=\"-254.3\" font-family=\"Helvetica,sans-Serif\" font-size=\"14.00\">gini = 0.21</text>\n",
       "<text text-anchor=\"start\" x=\"9\" y=\"-239.3\" font-family=\"Helvetica,sans-Serif\" font-size=\"14.00\">samples = 51</text>\n",
       "<text text-anchor=\"start\" x=\"8\" y=\"-224.3\" font-family=\"Helvetica,sans-Serif\" font-size=\"14.00\">value = [6, 45]</text>\n",
       "</g>\n",
       "<!-- 2&#45;&gt;3 -->\n",
       "<g id=\"edge3\" class=\"edge\">\n",
       "<title>2&#45;&gt;3</title>\n",
       "<path fill=\"none\" stroke=\"black\" d=\"M138.6,-321C122.78,-306.86 104.38,-290.39 88.65,-276.33\"/>\n",
       "<polygon fill=\"black\" stroke=\"black\" points=\"90.96,-273.7 81.17,-269.64 86.29,-278.91 90.96,-273.7\"/>\n",
       "</g>\n",
       "<!-- 4 -->\n",
       "<g id=\"node5\" class=\"node\">\n",
       "<title>4</title>\n",
       "<path fill=\"#399de5\" stroke=\"black\" d=\"M216,-269.5C216,-269.5 135,-269.5 135,-269.5 129,-269.5 123,-263.5 123,-257.5 123,-257.5 123,-228.5 123,-228.5 123,-222.5 129,-216.5 135,-216.5 135,-216.5 216,-216.5 216,-216.5 222,-216.5 228,-222.5 228,-228.5 228,-228.5 228,-257.5 228,-257.5 228,-263.5 222,-269.5 216,-269.5\"/>\n",
       "<text text-anchor=\"start\" x=\"146.5\" y=\"-254.3\" font-family=\"Helvetica,sans-Serif\" font-size=\"14.00\">gini = 0.0</text>\n",
       "<text text-anchor=\"start\" x=\"132\" y=\"-239.3\" font-family=\"Helvetica,sans-Serif\" font-size=\"14.00\">samples = 66</text>\n",
       "<text text-anchor=\"start\" x=\"131\" y=\"-224.3\" font-family=\"Helvetica,sans-Serif\" font-size=\"14.00\">value = [0, 66]</text>\n",
       "</g>\n",
       "<!-- 2&#45;&gt;4 -->\n",
       "<g id=\"edge4\" class=\"edge\">\n",
       "<title>2&#45;&gt;4</title>\n",
       "<path fill=\"none\" stroke=\"black\" d=\"M175.5,-321C175.5,-308.01 175.5,-293.07 175.5,-279.83\"/>\n",
       "<polygon fill=\"black\" stroke=\"black\" points=\"179,-279.64 175.5,-269.64 172,-279.64 179,-279.64\"/>\n",
       "</g>\n",
       "<!-- 6 -->\n",
       "<g id=\"node7\" class=\"node\">\n",
       "<title>6</title>\n",
       "<path fill=\"#bbddf6\" stroke=\"black\" d=\"M347,-269.5C347,-269.5 258,-269.5 258,-269.5 252,-269.5 246,-263.5 246,-257.5 246,-257.5 246,-228.5 246,-228.5 246,-222.5 252,-216.5 258,-216.5 258,-216.5 347,-216.5 347,-216.5 353,-216.5 359,-222.5 359,-228.5 359,-228.5 359,-257.5 359,-257.5 359,-263.5 353,-269.5 347,-269.5\"/>\n",
       "<text text-anchor=\"start\" x=\"269\" y=\"-254.3\" font-family=\"Helvetica,sans-Serif\" font-size=\"14.00\">gini = 0.48</text>\n",
       "<text text-anchor=\"start\" x=\"259\" y=\"-239.3\" font-family=\"Helvetica,sans-Serif\" font-size=\"14.00\">samples = 63</text>\n",
       "<text text-anchor=\"start\" x=\"254\" y=\"-224.3\" font-family=\"Helvetica,sans-Serif\" font-size=\"14.00\">value = [25, 38]</text>\n",
       "</g>\n",
       "<!-- 5&#45;&gt;6 -->\n",
       "<g id=\"edge6\" class=\"edge\">\n",
       "<title>5&#45;&gt;6</title>\n",
       "<path fill=\"none\" stroke=\"black\" d=\"M346.6,-321C338.94,-307.63 330.1,-292.18 322.35,-278.65\"/>\n",
       "<polygon fill=\"black\" stroke=\"black\" points=\"325.19,-276.58 317.18,-269.64 319.12,-280.06 325.19,-276.58\"/>\n",
       "</g>\n",
       "<!-- 7 -->\n",
       "<g id=\"node8\" class=\"node\">\n",
       "<title>7</title>\n",
       "<path fill=\"#efb286\" stroke=\"black\" d=\"M478,-269.5C478,-269.5 389,-269.5 389,-269.5 383,-269.5 377,-263.5 377,-257.5 377,-257.5 377,-228.5 377,-228.5 377,-222.5 383,-216.5 389,-216.5 389,-216.5 478,-216.5 478,-216.5 484,-216.5 490,-222.5 490,-228.5 490,-228.5 490,-257.5 490,-257.5 490,-263.5 484,-269.5 478,-269.5\"/>\n",
       "<text text-anchor=\"start\" x=\"404.5\" y=\"-254.3\" font-family=\"Helvetica,sans-Serif\" font-size=\"14.00\">gini = 0.4</text>\n",
       "<text text-anchor=\"start\" x=\"390\" y=\"-239.3\" font-family=\"Helvetica,sans-Serif\" font-size=\"14.00\">samples = 50</text>\n",
       "<text text-anchor=\"start\" x=\"385\" y=\"-224.3\" font-family=\"Helvetica,sans-Serif\" font-size=\"14.00\">value = [36, 14]</text>\n",
       "</g>\n",
       "<!-- 5&#45;&gt;7 -->\n",
       "<g id=\"edge7\" class=\"edge\">\n",
       "<title>5&#45;&gt;7</title>\n",
       "<path fill=\"none\" stroke=\"black\" d=\"M385.9,-321C394.25,-307.5 403.9,-291.89 412.32,-278.26\"/>\n",
       "<polygon fill=\"black\" stroke=\"black\" points=\"415.37,-279.98 417.65,-269.64 409.42,-276.3 415.37,-279.98\"/>\n",
       "</g>\n",
       "<!-- 9 -->\n",
       "<g id=\"node10\" class=\"node\">\n",
       "<title>9</title>\n",
       "<path fill=\"#e89254\" stroke=\"black\" d=\"M681.5,-389C681.5,-389 583.5,-389 583.5,-389 577.5,-389 571.5,-383 571.5,-377 571.5,-377 571.5,-333 571.5,-333 571.5,-327 577.5,-321 583.5,-321 583.5,-321 681.5,-321 681.5,-321 687.5,-321 693.5,-327 693.5,-333 693.5,-333 693.5,-377 693.5,-377 693.5,-383 687.5,-389 681.5,-389\"/>\n",
       "<text text-anchor=\"start\" x=\"593\" y=\"-373.8\" font-family=\"Helvetica,sans-Serif\" font-size=\"14.00\">Age ≤ 20.25</text>\n",
       "<text text-anchor=\"start\" x=\"599\" y=\"-358.8\" font-family=\"Helvetica,sans-Serif\" font-size=\"14.00\">gini = 0.21</text>\n",
       "<text text-anchor=\"start\" x=\"585\" y=\"-343.8\" font-family=\"Helvetica,sans-Serif\" font-size=\"14.00\">samples = 312</text>\n",
       "<text text-anchor=\"start\" x=\"579.5\" y=\"-328.8\" font-family=\"Helvetica,sans-Serif\" font-size=\"14.00\">value = [275, 37]</text>\n",
       "</g>\n",
       "<!-- 8&#45;&gt;9 -->\n",
       "<g id=\"edge9\" class=\"edge\">\n",
       "<title>8&#45;&gt;9</title>\n",
       "<path fill=\"none\" stroke=\"black\" d=\"M632.5,-431.7C632.5,-421.46 632.5,-410.02 632.5,-399.21\"/>\n",
       "<polygon fill=\"black\" stroke=\"black\" points=\"636,-399.09 632.5,-389.09 629,-399.09 636,-399.09\"/>\n",
       "</g>\n",
       "<!-- 16 -->\n",
       "<g id=\"node17\" class=\"node\">\n",
       "<title>16</title>\n",
       "<path fill=\"#f3c7a7\" stroke=\"black\" d=\"M881,-389C881,-389 792,-389 792,-389 786,-389 780,-383 780,-377 780,-377 780,-333 780,-333 780,-327 786,-321 792,-321 792,-321 881,-321 881,-321 887,-321 893,-327 893,-333 893,-333 893,-377 893,-377 893,-383 887,-389 881,-389\"/>\n",
       "<text text-anchor=\"start\" x=\"799\" y=\"-373.8\" font-family=\"Helvetica,sans-Serif\" font-size=\"14.00\">SibSp ≤ 0.5</text>\n",
       "<text text-anchor=\"start\" x=\"803\" y=\"-358.8\" font-family=\"Helvetica,sans-Serif\" font-size=\"14.00\">gini = 0.46</text>\n",
       "<text text-anchor=\"start\" x=\"789\" y=\"-343.8\" font-family=\"Helvetica,sans-Serif\" font-size=\"14.00\">samples = 126</text>\n",
       "<text text-anchor=\"start\" x=\"788\" y=\"-328.8\" font-family=\"Helvetica,sans-Serif\" font-size=\"14.00\">value = [81, 45]</text>\n",
       "</g>\n",
       "<!-- 8&#45;&gt;16 -->\n",
       "<g id=\"edge16\" class=\"edge\">\n",
       "<title>8&#45;&gt;16</title>\n",
       "<path fill=\"none\" stroke=\"black\" d=\"M693.71,-432.3C718.06,-419.28 746.13,-404.29 770.9,-391.05\"/>\n",
       "<polygon fill=\"black\" stroke=\"black\" points=\"772.7,-394.06 779.87,-386.26 769.4,-387.89 772.7,-394.06\"/>\n",
       "</g>\n",
       "<!-- 10 -->\n",
       "<g id=\"node11\" class=\"node\">\n",
       "<title>10</title>\n",
       "<path fill=\"#f0b58a\" stroke=\"black\" d=\"M609,-269.5C609,-269.5 520,-269.5 520,-269.5 514,-269.5 508,-263.5 508,-257.5 508,-257.5 508,-228.5 508,-228.5 508,-222.5 514,-216.5 520,-216.5 520,-216.5 609,-216.5 609,-216.5 615,-216.5 621,-222.5 621,-228.5 621,-228.5 621,-257.5 621,-257.5 621,-263.5 615,-269.5 609,-269.5\"/>\n",
       "<text text-anchor=\"start\" x=\"531\" y=\"-254.3\" font-family=\"Helvetica,sans-Serif\" font-size=\"14.00\">gini = 0.41</text>\n",
       "<text text-anchor=\"start\" x=\"521\" y=\"-239.3\" font-family=\"Helvetica,sans-Serif\" font-size=\"14.00\">samples = 55</text>\n",
       "<text text-anchor=\"start\" x=\"516\" y=\"-224.3\" font-family=\"Helvetica,sans-Serif\" font-size=\"14.00\">value = [39, 16]</text>\n",
       "</g>\n",
       "<!-- 9&#45;&gt;10 -->\n",
       "<g id=\"edge10\" class=\"edge\">\n",
       "<title>9&#45;&gt;10</title>\n",
       "<path fill=\"none\" stroke=\"black\" d=\"M612.1,-321C603.75,-307.5 594.1,-291.89 585.68,-278.26\"/>\n",
       "<polygon fill=\"black\" stroke=\"black\" points=\"588.58,-276.3 580.35,-269.64 582.63,-279.98 588.58,-276.3\"/>\n",
       "</g>\n",
       "<!-- 11 -->\n",
       "<g id=\"node12\" class=\"node\">\n",
       "<title>11</title>\n",
       "<path fill=\"#e78c4b\" stroke=\"black\" d=\"M749.5,-277C749.5,-277 651.5,-277 651.5,-277 645.5,-277 639.5,-271 639.5,-265 639.5,-265 639.5,-221 639.5,-221 639.5,-215 645.5,-209 651.5,-209 651.5,-209 749.5,-209 749.5,-209 755.5,-209 761.5,-215 761.5,-221 761.5,-221 761.5,-265 761.5,-265 761.5,-271 755.5,-277 749.5,-277\"/>\n",
       "<text text-anchor=\"start\" x=\"665.5\" y=\"-261.8\" font-family=\"Helvetica,sans-Serif\" font-size=\"14.00\">Age ≤ 32.5</text>\n",
       "<text text-anchor=\"start\" x=\"667\" y=\"-246.8\" font-family=\"Helvetica,sans-Serif\" font-size=\"14.00\">gini = 0.15</text>\n",
       "<text text-anchor=\"start\" x=\"653\" y=\"-231.8\" font-family=\"Helvetica,sans-Serif\" font-size=\"14.00\">samples = 257</text>\n",
       "<text text-anchor=\"start\" x=\"647.5\" y=\"-216.8\" font-family=\"Helvetica,sans-Serif\" font-size=\"14.00\">value = [236, 21]</text>\n",
       "</g>\n",
       "<!-- 9&#45;&gt;11 -->\n",
       "<g id=\"edge11\" class=\"edge\">\n",
       "<title>9&#45;&gt;11</title>\n",
       "<path fill=\"none\" stroke=\"black\" d=\"M652.9,-321C659.7,-310 667.36,-297.61 674.52,-286.02\"/>\n",
       "<polygon fill=\"black\" stroke=\"black\" points=\"677.6,-287.71 679.88,-277.36 671.64,-284.03 677.6,-287.71\"/>\n",
       "</g>\n",
       "<!-- 12 -->\n",
       "<g id=\"node13\" class=\"node\">\n",
       "<title>12</title>\n",
       "<path fill=\"#e89050\" stroke=\"black\" d=\"M683.5,-166C683.5,-166 585.5,-166 585.5,-166 579.5,-166 573.5,-160 573.5,-154 573.5,-154 573.5,-110 573.5,-110 573.5,-104 579.5,-98 585.5,-98 585.5,-98 683.5,-98 683.5,-98 689.5,-98 695.5,-104 695.5,-110 695.5,-110 695.5,-154 695.5,-154 695.5,-160 689.5,-166 683.5,-166\"/>\n",
       "<text text-anchor=\"start\" x=\"595\" y=\"-150.8\" font-family=\"Helvetica,sans-Serif\" font-size=\"14.00\">Age ≤ 24.75</text>\n",
       "<text text-anchor=\"start\" x=\"601\" y=\"-135.8\" font-family=\"Helvetica,sans-Serif\" font-size=\"14.00\">gini = 0.19</text>\n",
       "<text text-anchor=\"start\" x=\"587\" y=\"-120.8\" font-family=\"Helvetica,sans-Serif\" font-size=\"14.00\">samples = 171</text>\n",
       "<text text-anchor=\"start\" x=\"581.5\" y=\"-105.8\" font-family=\"Helvetica,sans-Serif\" font-size=\"14.00\">value = [153, 18]</text>\n",
       "</g>\n",
       "<!-- 11&#45;&gt;12 -->\n",
       "<g id=\"edge12\" class=\"edge\">\n",
       "<title>11&#45;&gt;12</title>\n",
       "<path fill=\"none\" stroke=\"black\" d=\"M680.34,-208.7C673.88,-198.03 666.64,-186.08 659.86,-174.88\"/>\n",
       "<polygon fill=\"black\" stroke=\"black\" points=\"662.71,-172.83 654.54,-166.09 656.72,-176.46 662.71,-172.83\"/>\n",
       "</g>\n",
       "<!-- 15 -->\n",
       "<g id=\"node16\" class=\"node\">\n",
       "<title>15</title>\n",
       "<path fill=\"#e68640\" stroke=\"black\" d=\"M807,-158.5C807,-158.5 726,-158.5 726,-158.5 720,-158.5 714,-152.5 714,-146.5 714,-146.5 714,-117.5 714,-117.5 714,-111.5 720,-105.5 726,-105.5 726,-105.5 807,-105.5 807,-105.5 813,-105.5 819,-111.5 819,-117.5 819,-117.5 819,-146.5 819,-146.5 819,-152.5 813,-158.5 807,-158.5\"/>\n",
       "<text text-anchor=\"start\" x=\"733\" y=\"-143.3\" font-family=\"Helvetica,sans-Serif\" font-size=\"14.00\">gini = 0.07</text>\n",
       "<text text-anchor=\"start\" x=\"723\" y=\"-128.3\" font-family=\"Helvetica,sans-Serif\" font-size=\"14.00\">samples = 86</text>\n",
       "<text text-anchor=\"start\" x=\"722\" y=\"-113.3\" font-family=\"Helvetica,sans-Serif\" font-size=\"14.00\">value = [83, 3]</text>\n",
       "</g>\n",
       "<!-- 11&#45;&gt;15 -->\n",
       "<g id=\"edge15\" class=\"edge\">\n",
       "<title>11&#45;&gt;15</title>\n",
       "<path fill=\"none\" stroke=\"black\" d=\"M720.66,-208.7C728.55,-195.68 737.59,-180.75 745.55,-167.6\"/>\n",
       "<polygon fill=\"black\" stroke=\"black\" points=\"748.67,-169.2 750.86,-158.83 742.69,-165.57 748.67,-169.2\"/>\n",
       "</g>\n",
       "<!-- 13 -->\n",
       "<g id=\"node14\" class=\"node\">\n",
       "<title>13</title>\n",
       "<path fill=\"#e78b48\" stroke=\"black\" d=\"M614,-54.5C614,-54.5 525,-54.5 525,-54.5 519,-54.5 513,-48.5 513,-42.5 513,-42.5 513,-13.5 513,-13.5 513,-7.5 519,-1.5 525,-1.5 525,-1.5 614,-1.5 614,-1.5 620,-1.5 626,-7.5 626,-13.5 626,-13.5 626,-42.5 626,-42.5 626,-48.5 620,-54.5 614,-54.5\"/>\n",
       "<text text-anchor=\"start\" x=\"536\" y=\"-39.3\" font-family=\"Helvetica,sans-Serif\" font-size=\"14.00\">gini = 0.13</text>\n",
       "<text text-anchor=\"start\" x=\"522\" y=\"-24.3\" font-family=\"Helvetica,sans-Serif\" font-size=\"14.00\">samples = 112</text>\n",
       "<text text-anchor=\"start\" x=\"521\" y=\"-9.3\" font-family=\"Helvetica,sans-Serif\" font-size=\"14.00\">value = [104, 8]</text>\n",
       "</g>\n",
       "<!-- 12&#45;&gt;13 -->\n",
       "<g id=\"edge13\" class=\"edge\">\n",
       "<title>12&#45;&gt;13</title>\n",
       "<path fill=\"none\" stroke=\"black\" d=\"M613.4,-97.88C606.32,-86.78 598.41,-74.37 591.28,-63.18\"/>\n",
       "<polygon fill=\"black\" stroke=\"black\" points=\"594.09,-61.07 585.76,-54.52 588.19,-64.83 594.09,-61.07\"/>\n",
       "</g>\n",
       "<!-- 14 -->\n",
       "<g id=\"node15\" class=\"node\">\n",
       "<title>14</title>\n",
       "<path fill=\"#ea9b61\" stroke=\"black\" d=\"M745,-54.5C745,-54.5 656,-54.5 656,-54.5 650,-54.5 644,-48.5 644,-42.5 644,-42.5 644,-13.5 644,-13.5 644,-7.5 650,-1.5 656,-1.5 656,-1.5 745,-1.5 745,-1.5 751,-1.5 757,-7.5 757,-13.5 757,-13.5 757,-42.5 757,-42.5 757,-48.5 751,-54.5 745,-54.5\"/>\n",
       "<text text-anchor=\"start\" x=\"667\" y=\"-39.3\" font-family=\"Helvetica,sans-Serif\" font-size=\"14.00\">gini = 0.28</text>\n",
       "<text text-anchor=\"start\" x=\"657\" y=\"-24.3\" font-family=\"Helvetica,sans-Serif\" font-size=\"14.00\">samples = 59</text>\n",
       "<text text-anchor=\"start\" x=\"652\" y=\"-9.3\" font-family=\"Helvetica,sans-Serif\" font-size=\"14.00\">value = [49, 10]</text>\n",
       "</g>\n",
       "<!-- 12&#45;&gt;14 -->\n",
       "<g id=\"edge14\" class=\"edge\">\n",
       "<title>12&#45;&gt;14</title>\n",
       "<path fill=\"none\" stroke=\"black\" d=\"M655.93,-97.88C663.12,-86.78 671.14,-74.37 678.38,-63.18\"/>\n",
       "<polygon fill=\"black\" stroke=\"black\" points=\"681.49,-64.82 683.99,-54.52 675.62,-61.01 681.49,-64.82\"/>\n",
       "</g>\n",
       "<!-- 17 -->\n",
       "<g id=\"node18\" class=\"node\">\n",
       "<title>17</title>\n",
       "<path fill=\"#f7d9c4\" stroke=\"black\" d=\"M881,-269.5C881,-269.5 792,-269.5 792,-269.5 786,-269.5 780,-263.5 780,-257.5 780,-257.5 780,-228.5 780,-228.5 780,-222.5 786,-216.5 792,-216.5 792,-216.5 881,-216.5 881,-216.5 887,-216.5 893,-222.5 893,-228.5 893,-228.5 893,-257.5 893,-257.5 893,-263.5 887,-269.5 881,-269.5\"/>\n",
       "<text text-anchor=\"start\" x=\"803\" y=\"-254.3\" font-family=\"Helvetica,sans-Serif\" font-size=\"14.00\">gini = 0.48</text>\n",
       "<text text-anchor=\"start\" x=\"793\" y=\"-239.3\" font-family=\"Helvetica,sans-Serif\" font-size=\"14.00\">samples = 68</text>\n",
       "<text text-anchor=\"start\" x=\"788\" y=\"-224.3\" font-family=\"Helvetica,sans-Serif\" font-size=\"14.00\">value = [40, 28]</text>\n",
       "</g>\n",
       "<!-- 16&#45;&gt;17 -->\n",
       "<g id=\"edge17\" class=\"edge\">\n",
       "<title>16&#45;&gt;17</title>\n",
       "<path fill=\"none\" stroke=\"black\" d=\"M836.5,-321C836.5,-308.01 836.5,-293.07 836.5,-279.83\"/>\n",
       "<polygon fill=\"black\" stroke=\"black\" points=\"840,-279.64 836.5,-269.64 833,-279.64 840,-279.64\"/>\n",
       "</g>\n",
       "<!-- 18 -->\n",
       "<g id=\"node19\" class=\"node\">\n",
       "<title>18</title>\n",
       "<path fill=\"#f0b58b\" stroke=\"black\" d=\"M1012,-269.5C1012,-269.5 923,-269.5 923,-269.5 917,-269.5 911,-263.5 911,-257.5 911,-257.5 911,-228.5 911,-228.5 911,-222.5 917,-216.5 923,-216.5 923,-216.5 1012,-216.5 1012,-216.5 1018,-216.5 1024,-222.5 1024,-228.5 1024,-228.5 1024,-257.5 1024,-257.5 1024,-263.5 1018,-269.5 1012,-269.5\"/>\n",
       "<text text-anchor=\"start\" x=\"934\" y=\"-254.3\" font-family=\"Helvetica,sans-Serif\" font-size=\"14.00\">gini = 0.41</text>\n",
       "<text text-anchor=\"start\" x=\"924\" y=\"-239.3\" font-family=\"Helvetica,sans-Serif\" font-size=\"14.00\">samples = 58</text>\n",
       "<text text-anchor=\"start\" x=\"919\" y=\"-224.3\" font-family=\"Helvetica,sans-Serif\" font-size=\"14.00\">value = [41, 17]</text>\n",
       "</g>\n",
       "<!-- 16&#45;&gt;18 -->\n",
       "<g id=\"edge18\" class=\"edge\">\n",
       "<title>16&#45;&gt;18</title>\n",
       "<path fill=\"none\" stroke=\"black\" d=\"M875.8,-321C892.64,-306.86 912.25,-290.39 929,-276.33\"/>\n",
       "<polygon fill=\"black\" stroke=\"black\" points=\"931.56,-278.75 936.97,-269.64 927.06,-273.39 931.56,-278.75\"/>\n",
       "</g>\n",
       "</g>\n",
       "</svg>\n"
      ],
      "text/plain": [
       "<graphviz.sources.Source at 0x24b25309950>"
      ]
     },
     "execution_count": 28,
     "metadata": {},
     "output_type": "execute_result"
    }
   ],
   "source": [
    "m = DecisionTreeClassifier(min_samples_leaf=50)\n",
    "m.fit(trn_xs, trn_y)\n",
    "draw_tree(m, trn_xs, size=12)"
   ]
  },
  {
   "cell_type": "code",
   "execution_count": 29,
   "id": "ecfd28d9-3c2d-49d3-bb53-c8e04f907d0c",
   "metadata": {},
   "outputs": [
    {
     "data": {
      "text/plain": [
       "0.21524663677130046"
      ]
     },
     "execution_count": 29,
     "metadata": {},
     "output_type": "execute_result"
    }
   ],
   "source": [
    "mean_absolute_error(val_y, m.predict(val_xs))"
   ]
  },
  {
   "cell_type": "markdown",
   "id": "f0ca4b83-21bf-4366-8314-0e50cd293933",
   "metadata": {},
   "source": [
    "## Random Forests"
   ]
  },
  {
   "cell_type": "markdown",
   "id": "3f4b0d0c-adef-4ace-930b-5cacdb1a427a",
   "metadata": {},
   "source": [
    "The ideology of Random Forests is based on the idea of bagging. Due to the fact that we can't make bigger trees than the one above, as they have already reached samples of 50, we could instead make lots of trees and take the average of their predictions. This is called bagging. The reason why this works is because the average of lots of uncorrelated random errors in zero! But this adds an additional caveat to making the decison trees, they must be from random subsets of data so we can make a bunch of uncorrelated models."
   ]
  },
  {
   "cell_type": "code",
   "execution_count": 44,
   "id": "7ae3968f-df75-4aa4-b107-7fe64e8c0229",
   "metadata": {},
   "outputs": [],
   "source": [
    "def get_tree(prop=0.75):\n",
    "    n = len(trn_y)\n",
    "    idxs = random.choice(n, int(n*prop)) # Get random indexes \n",
    "    # Returning a fitted decision tree based on those random indexes \n",
    "    return DecisionTreeClassifier(min_samples_leaf=5).fit(trn_xs.iloc[idxs], trn_y.iloc[idxs])"
   ]
  },
  {
   "cell_type": "code",
   "execution_count": 45,
   "id": "6ae4b470-6d48-480a-b9e5-de4f54a832b0",
   "metadata": {},
   "outputs": [
    {
     "data": {
      "text/plain": [
       "[DecisionTreeClassifier(min_samples_leaf=5),\n",
       " DecisionTreeClassifier(min_samples_leaf=5),\n",
       " DecisionTreeClassifier(min_samples_leaf=5),\n",
       " DecisionTreeClassifier(min_samples_leaf=5),\n",
       " DecisionTreeClassifier(min_samples_leaf=5)]"
      ]
     },
     "execution_count": 45,
     "metadata": {},
     "output_type": "execute_result"
    }
   ],
   "source": [
    "trees = [get_tree() for t in range(100)]\n",
    "trees[:5]"
   ]
  },
  {
   "cell_type": "markdown",
   "id": "5abf2f7e-add3-4bf1-9f1f-cb4da7adedaf",
   "metadata": {},
   "source": [
    "Our prediction will be the average of all the trees."
   ]
  },
  {
   "cell_type": "code",
   "execution_count": 47,
   "id": "0cc64a3d-4560-4b24-a583-6ccf15efc364",
   "metadata": {},
   "outputs": [
    {
     "data": {
      "text/plain": [
       "0.226457399103139"
      ]
     },
     "execution_count": 47,
     "metadata": {},
     "output_type": "execute_result"
    }
   ],
   "source": [
    "all_probs = [t.predict(val_xs) for t in trees]\n",
    "avg_probs = np.stack(all_probs).mean(0)\n",
    "\n",
    "mean_absolute_error(val_y, avg_probs)"
   ]
  },
  {
   "cell_type": "markdown",
   "id": "f076fa01-ab93-4523-ba53-360ea80deb64",
   "metadata": {},
   "source": [
    "This is similar to what `sklearn`'s `RandomForestClassifier` does. The only addition is that it also takes a random subset of features along with the random subset of data."
   ]
  },
  {
   "cell_type": "code",
   "execution_count": 50,
   "id": "fcf9a028-0fa8-4d99-8e26-2acd4f3e2f58",
   "metadata": {},
   "outputs": [
    {
     "data": {
      "text/plain": [
       "0.18834080717488788"
      ]
     },
     "execution_count": 50,
     "metadata": {},
     "output_type": "execute_result"
    }
   ],
   "source": [
    "from sklearn.ensemble import RandomForestClassifier\n",
    "\n",
    "rf = RandomForestClassifier(100, min_samples_leaf=5)\n",
    "rf.fit(trn_xs, trn_y);\n",
    "mean_absolute_error(val_y, rf.predict(val_xs))"
   ]
  },
  {
   "cell_type": "markdown",
   "id": "afec1559-77d2-46b6-9591-eba802ae7d6e",
   "metadata": {},
   "source": [
    "Notice we our implementation of Random Forest's were had a little bit more error than the `sklearn` Random Forest Model"
   ]
  },
  {
   "cell_type": "markdown",
   "id": "918c8754-acf3-41d0-8533-3e2ae0269ed7",
   "metadata": {},
   "source": [
    "Another great thing about Random Forests is that it has great diagnostic tools to help us understand how our data is affecting the predictions."
   ]
  },
  {
   "cell_type": "code",
   "execution_count": 51,
   "id": "86816375-e43b-4c9b-a959-3c6bc14a52fb",
   "metadata": {},
   "outputs": [
    {
     "data": {
      "image/png": "[encoded data removed]",
      "text/plain": [
       "<Figure size 640x480 with 1 Axes>"
      ]
     },
     "metadata": {},
     "output_type": "display_data"
    }
   ],
   "source": [
    "pd.DataFrame(dict(cols=trn_xs.columns, imp=m.feature_importances_)).plot('cols', 'imp', 'barh');"
   ]
  },
  {
   "cell_type": "markdown",
   "id": "ac8dceb8-2871-4327-90c6-9640a05944de",
   "metadata": {},
   "source": [
    "This data shows which feature is the most important predictor. "
   ]
  },
  {
   "cell_type": "markdown",
   "id": "74887001-bed7-45e6-b609-576dfb2cdf83",
   "metadata": {},
   "source": [
    "## Conclusion"
   ]
  },
  {
   "cell_type": "markdown",
   "id": "86131d9a-e3de-43fe-a01f-3f09c57a38f7",
   "metadata": {},
   "source": [
    "This notebook has shown how to build Random Forests from a simple OneR Model. This notebook really showed how \"simple\" models can be performant on tabular data. They are more straightfoward to utilize and can provide detailed insights on the data faster than other models.\n",
    "\n",
    "Another great thing about Random Forests is that they are not very complicated. We were able to implement the important factors of a Random Forest Model inside of this notebook fairly quickly. They are also not sensitive to issues such as normalization, interaction, or non-linear transoformations unlike other models, which make them easier to work with and harder to mess up!\n"
   ]
  }
 ],
 "metadata": {
  "kernelspec": {
   "display_name": "Python 3 (ipykernel)",
   "language": "python",
   "name": "python3"
  },
  "language_info": {
   "codemirror_mode": {
    "name": "ipython",
    "version": 3
   },
   "file_extension": ".py",
   "mimetype": "text/x-python",
   "name": "python",
   "nbconvert_exporter": "python",
   "pygments_lexer": "ipython3",
   "version": "3.11.7"
  }
 },
 "nbformat": 4,
 "nbformat_minor": 5
}
