{
 "cells": [
  {
   "cell_type": "markdown",
   "id": "697d54a7-d908-49e1-b141-476f5f2a444b",
   "metadata": {},
   "source": [
    "## Introduction"
   ]
  },
  {
   "cell_type": "markdown",
   "id": "aeea4419-e001-4488-95fa-0309b8e78239",
   "metadata": {},
   "source": [
    "This Notebook will implement a deep learning model for the Titanic Survival Classification problem from scratch!"
   ]
  },
  {
   "cell_type": "code",
   "execution_count": 487,
   "id": "add94e34-8b8d-49bc-b82a-153ae110573d",
   "metadata": {},
   "outputs": [],
   "source": [
    "import torch\n",
    "import numpy as np\n",
    "import pandas as pd"
   ]
  },
  {
   "cell_type": "markdown",
   "id": "1600fd4a-f58f-4e1a-8ab2-80594c1a900b",
   "metadata": {},
   "source": [
    "## Clean data"
   ]
  },
  {
   "cell_type": "code",
   "execution_count": 488,
   "id": "8f994a7f-6942-4379-a243-ad5d6606a4ac",
   "metadata": {},
   "outputs": [
    {
     "data": {
      "text/html": [
       "<div>\n",
       "<style scoped>\n",
       "    .dataframe tbody tr th:only-of-type {\n",
       "        vertical-align: middle;\n",
       "    }\n",
       "\n",
       "    .dataframe tbody tr th {\n",
       "        vertical-align: top;\n",
       "    }\n",
       "\n",
       "    .dataframe thead th {\n",
       "        text-align: right;\n",
       "    }\n",
       "</style>\n",
       "<table border=\"1\" class=\"dataframe\">\n",
       "  <thead>\n",
       "    <tr style=\"text-align: right;\">\n",
       "      <th></th>\n",
       "      <th>PassengerId</th>\n",
       "      <th>Survived</th>\n",
       "      <th>Pclass</th>\n",
       "      <th>Name</th>\n",
       "      <th>Sex</th>\n",
       "      <th>Age</th>\n",
       "      <th>SibSp</th>\n",
       "      <th>Parch</th>\n",
       "      <th>Ticket</th>\n",
       "      <th>Fare</th>\n",
       "      <th>Cabin</th>\n",
       "      <th>Embarked</th>\n",
       "    </tr>\n",
       "  </thead>\n",
       "  <tbody>\n",
       "    <tr>\n",
       "      <th>0</th>\n",
       "      <td>1</td>\n",
       "      <td>0</td>\n",
       "      <td>3</td>\n",
       "      <td>Braund, Mr. Owen Harris</td>\n",
       "      <td>male</td>\n",
       "      <td>22.0</td>\n",
       "      <td>1</td>\n",
       "      <td>0</td>\n",
       "      <td>A/5 21171</td>\n",
       "      <td>7.2500</td>\n",
       "      <td>NaN</td>\n",
       "      <td>S</td>\n",
       "    </tr>\n",
       "    <tr>\n",
       "      <th>1</th>\n",
       "      <td>2</td>\n",
       "      <td>1</td>\n",
       "      <td>1</td>\n",
       "      <td>Cumings, Mrs. John Bradley (Florence Briggs Thayer)</td>\n",
       "      <td>female</td>\n",
       "      <td>38.0</td>\n",
       "      <td>1</td>\n",
       "      <td>0</td>\n",
       "      <td>PC 17599</td>\n",
       "      <td>71.2833</td>\n",
       "      <td>C85</td>\n",
       "      <td>C</td>\n",
       "    </tr>\n",
       "    <tr>\n",
       "      <th>2</th>\n",
       "      <td>3</td>\n",
       "      <td>1</td>\n",
       "      <td>3</td>\n",
       "      <td>Heikkinen, Miss. Laina</td>\n",
       "      <td>female</td>\n",
       "      <td>26.0</td>\n",
       "      <td>0</td>\n",
       "      <td>0</td>\n",
       "      <td>STON/O2. 3101282</td>\n",
       "      <td>7.9250</td>\n",
       "      <td>NaN</td>\n",
       "      <td>S</td>\n",
       "    </tr>\n",
       "    <tr>\n",
       "      <th>3</th>\n",
       "      <td>4</td>\n",
       "      <td>1</td>\n",
       "      <td>1</td>\n",
       "      <td>Futrelle, Mrs. Jacques Heath (Lily May Peel)</td>\n",
       "      <td>female</td>\n",
       "      <td>35.0</td>\n",
       "      <td>1</td>\n",
       "      <td>0</td>\n",
       "      <td>113803</td>\n",
       "      <td>53.1000</td>\n",
       "      <td>C123</td>\n",
       "      <td>S</td>\n",
       "    </tr>\n",
       "    <tr>\n",
       "      <th>4</th>\n",
       "      <td>5</td>\n",
       "      <td>0</td>\n",
       "      <td>3</td>\n",
       "      <td>Allen, Mr. William Henry</td>\n",
       "      <td>male</td>\n",
       "      <td>35.0</td>\n",
       "      <td>0</td>\n",
       "      <td>0</td>\n",
       "      <td>373450</td>\n",
       "      <td>8.0500</td>\n",
       "      <td>NaN</td>\n",
       "      <td>S</td>\n",
       "    </tr>\n",
       "    <tr>\n",
       "      <th>...</th>\n",
       "      <td>...</td>\n",
       "      <td>...</td>\n",
       "      <td>...</td>\n",
       "      <td>...</td>\n",
       "      <td>...</td>\n",
       "      <td>...</td>\n",
       "      <td>...</td>\n",
       "      <td>...</td>\n",
       "      <td>...</td>\n",
       "      <td>...</td>\n",
       "      <td>...</td>\n",
       "      <td>...</td>\n",
       "    </tr>\n",
       "    <tr>\n",
       "      <th>886</th>\n",
       "      <td>887</td>\n",
       "      <td>0</td>\n",
       "      <td>2</td>\n",
       "      <td>Montvila, Rev. Juozas</td>\n",
       "      <td>male</td>\n",
       "      <td>27.0</td>\n",
       "      <td>0</td>\n",
       "      <td>0</td>\n",
       "      <td>211536</td>\n",
       "      <td>13.0000</td>\n",
       "      <td>NaN</td>\n",
       "      <td>S</td>\n",
       "    </tr>\n",
       "    <tr>\n",
       "      <th>887</th>\n",
       "      <td>888</td>\n",
       "      <td>1</td>\n",
       "      <td>1</td>\n",
       "      <td>Graham, Miss. Margaret Edith</td>\n",
       "      <td>female</td>\n",
       "      <td>19.0</td>\n",
       "      <td>0</td>\n",
       "      <td>0</td>\n",
       "      <td>112053</td>\n",
       "      <td>30.0000</td>\n",
       "      <td>B42</td>\n",
       "      <td>S</td>\n",
       "    </tr>\n",
       "    <tr>\n",
       "      <th>888</th>\n",
       "      <td>889</td>\n",
       "      <td>0</td>\n",
       "      <td>3</td>\n",
       "      <td>Johnston, Miss. Catherine Helen \"Carrie\"</td>\n",
       "      <td>female</td>\n",
       "      <td>NaN</td>\n",
       "      <td>1</td>\n",
       "      <td>2</td>\n",
       "      <td>W./C. 6607</td>\n",
       "      <td>23.4500</td>\n",
       "      <td>NaN</td>\n",
       "      <td>S</td>\n",
       "    </tr>\n",
       "    <tr>\n",
       "      <th>889</th>\n",
       "      <td>890</td>\n",
       "      <td>1</td>\n",
       "      <td>1</td>\n",
       "      <td>Behr, Mr. Karl Howell</td>\n",
       "      <td>male</td>\n",
       "      <td>26.0</td>\n",
       "      <td>0</td>\n",
       "      <td>0</td>\n",
       "      <td>111369</td>\n",
       "      <td>30.0000</td>\n",
       "      <td>C148</td>\n",
       "      <td>C</td>\n",
       "    </tr>\n",
       "    <tr>\n",
       "      <th>890</th>\n",
       "      <td>891</td>\n",
       "      <td>0</td>\n",
       "      <td>3</td>\n",
       "      <td>Dooley, Mr. Patrick</td>\n",
       "      <td>male</td>\n",
       "      <td>32.0</td>\n",
       "      <td>0</td>\n",
       "      <td>0</td>\n",
       "      <td>370376</td>\n",
       "      <td>7.7500</td>\n",
       "      <td>NaN</td>\n",
       "      <td>Q</td>\n",
       "    </tr>\n",
       "  </tbody>\n",
       "</table>\n",
       "<p>891 rows × 12 columns</p>\n",
       "</div>"
      ],
      "text/plain": [
       "     PassengerId  Survived  Pclass   \n",
       "0              1         0       3  \\\n",
       "1              2         1       1   \n",
       "2              3         1       3   \n",
       "3              4         1       1   \n",
       "4              5         0       3   \n",
       "..           ...       ...     ...   \n",
       "886          887         0       2   \n",
       "887          888         1       1   \n",
       "888          889         0       3   \n",
       "889          890         1       1   \n",
       "890          891         0       3   \n",
       "\n",
       "                                                    Name     Sex   Age  SibSp   \n",
       "0                                Braund, Mr. Owen Harris    male  22.0      1  \\\n",
       "1    Cumings, Mrs. John Bradley (Florence Briggs Thayer)  female  38.0      1   \n",
       "2                                 Heikkinen, Miss. Laina  female  26.0      0   \n",
       "3           Futrelle, Mrs. Jacques Heath (Lily May Peel)  female  35.0      1   \n",
       "4                               Allen, Mr. William Henry    male  35.0      0   \n",
       "..                                                   ...     ...   ...    ...   \n",
       "886                                Montvila, Rev. Juozas    male  27.0      0   \n",
       "887                         Graham, Miss. Margaret Edith  female  19.0      0   \n",
       "888             Johnston, Miss. Catherine Helen \"Carrie\"  female   NaN      1   \n",
       "889                                Behr, Mr. Karl Howell    male  26.0      0   \n",
       "890                                  Dooley, Mr. Patrick    male  32.0      0   \n",
       "\n",
       "     Parch            Ticket     Fare Cabin Embarked  \n",
       "0        0         A/5 21171   7.2500   NaN        S  \n",
       "1        0          PC 17599  71.2833   C85        C  \n",
       "2        0  STON/O2. 3101282   7.9250   NaN        S  \n",
       "3        0            113803  53.1000  C123        S  \n",
       "4        0            373450   8.0500   NaN        S  \n",
       "..     ...               ...      ...   ...      ...  \n",
       "886      0            211536  13.0000   NaN        S  \n",
       "887      0            112053  30.0000   B42        S  \n",
       "888      2        W./C. 6607  23.4500   NaN        S  \n",
       "889      0            111369  30.0000  C148        C  \n",
       "890      0            370376   7.7500   NaN        Q  \n",
       "\n",
       "[891 rows x 12 columns]"
      ]
     },
     "execution_count": 488,
     "metadata": {},
     "output_type": "execute_result"
    }
   ],
   "source": [
    "data = pd.read_csv('train.csv')\n",
    "data"
   ]
  },
  {
   "cell_type": "code",
   "execution_count": 489,
   "id": "4f5f56b4-14d7-4a2e-a366-746f031b6981",
   "metadata": {},
   "outputs": [
    {
     "data": {
      "text/plain": [
       "PassengerId      0\n",
       "Survived         0\n",
       "Pclass           0\n",
       "Name             0\n",
       "Sex              0\n",
       "Age            177\n",
       "SibSp            0\n",
       "Parch            0\n",
       "Ticket           0\n",
       "Fare             0\n",
       "Cabin          687\n",
       "Embarked         2\n",
       "dtype: int64"
      ]
     },
     "execution_count": 489,
     "metadata": {},
     "output_type": "execute_result"
    }
   ],
   "source": [
    "# Shows the number of missing values in each feature\n",
    "data.isna().sum()"
   ]
  },
  {
   "cell_type": "markdown",
   "id": "f2fda0c3-4085-4a21-94eb-0185aa7707af",
   "metadata": {},
   "source": [
    "We currently have missing values for the Age, Cabin, and Embarked. So we are going to fill those values using the mode of the feature."
   ]
  },
  {
   "cell_type": "code",
   "execution_count": 490,
   "id": "047f865b-d3a6-4d87-b039-452258af6c3b",
   "metadata": {},
   "outputs": [
    {
     "data": {
      "text/plain": [
       "PassengerId                      1\n",
       "Survived                       0.0\n",
       "Pclass                         3.0\n",
       "Name           Abbing, Mr. Anthony\n",
       "Sex                           male\n",
       "Age                           24.0\n",
       "SibSp                          0.0\n",
       "Parch                          0.0\n",
       "Ticket                        1601\n",
       "Fare                          8.05\n",
       "Cabin                      B96 B98\n",
       "Embarked                         S\n",
       "Name: 0, dtype: object"
      ]
     },
     "execution_count": 490,
     "metadata": {},
     "output_type": "execute_result"
    }
   ],
   "source": [
    "# Passes the mode of each feature\n",
    "modes = data.mode().iloc[0]\n",
    "modes"
   ]
  },
  {
   "cell_type": "code",
   "execution_count": 491,
   "id": "b474fab5-fef4-450b-ae3c-53659da4d7f5",
   "metadata": {},
   "outputs": [],
   "source": [
    "# Fill those missing values\n",
    "data.fillna(modes, inplace=True)"
   ]
  },
  {
   "cell_type": "code",
   "execution_count": 492,
   "id": "a275ee2a-ec99-4fba-b45d-a52ded4a71d1",
   "metadata": {},
   "outputs": [
    {
     "data": {
      "text/plain": [
       "PassengerId    0\n",
       "Survived       0\n",
       "Pclass         0\n",
       "Name           0\n",
       "Sex            0\n",
       "Age            0\n",
       "SibSp          0\n",
       "Parch          0\n",
       "Ticket         0\n",
       "Fare           0\n",
       "Cabin          0\n",
       "Embarked       0\n",
       "dtype: int64"
      ]
     },
     "execution_count": 492,
     "metadata": {},
     "output_type": "execute_result"
    }
   ],
   "source": [
    "data.isna().sum()"
   ]
  },
  {
   "cell_type": "markdown",
   "id": "41188d5d-4c52-4889-9ce8-7c4e4e57b1f5",
   "metadata": {},
   "source": [
    "## Feature Engineering"
   ]
  },
  {
   "cell_type": "code",
   "execution_count": 493,
   "id": "4278fffc-d92c-42fb-8d34-41b93ae29116",
   "metadata": {
    "scrolled": true
   },
   "outputs": [
    {
     "data": {
      "text/html": [
       "<div>\n",
       "<style scoped>\n",
       "    .dataframe tbody tr th:only-of-type {\n",
       "        vertical-align: middle;\n",
       "    }\n",
       "\n",
       "    .dataframe tbody tr th {\n",
       "        vertical-align: top;\n",
       "    }\n",
       "\n",
       "    .dataframe thead th {\n",
       "        text-align: right;\n",
       "    }\n",
       "</style>\n",
       "<table border=\"1\" class=\"dataframe\">\n",
       "  <thead>\n",
       "    <tr style=\"text-align: right;\">\n",
       "      <th></th>\n",
       "      <th>PassengerId</th>\n",
       "      <th>Survived</th>\n",
       "      <th>Pclass</th>\n",
       "      <th>Age</th>\n",
       "      <th>SibSp</th>\n",
       "      <th>Parch</th>\n",
       "      <th>Fare</th>\n",
       "    </tr>\n",
       "  </thead>\n",
       "  <tbody>\n",
       "    <tr>\n",
       "      <th>count</th>\n",
       "      <td>891.000000</td>\n",
       "      <td>891.000000</td>\n",
       "      <td>891.000000</td>\n",
       "      <td>891.000000</td>\n",
       "      <td>891.000000</td>\n",
       "      <td>891.000000</td>\n",
       "      <td>891.000000</td>\n",
       "    </tr>\n",
       "    <tr>\n",
       "      <th>mean</th>\n",
       "      <td>446.000000</td>\n",
       "      <td>0.383838</td>\n",
       "      <td>2.308642</td>\n",
       "      <td>28.566970</td>\n",
       "      <td>0.523008</td>\n",
       "      <td>0.381594</td>\n",
       "      <td>32.204208</td>\n",
       "    </tr>\n",
       "    <tr>\n",
       "      <th>std</th>\n",
       "      <td>257.353842</td>\n",
       "      <td>0.486592</td>\n",
       "      <td>0.836071</td>\n",
       "      <td>13.199572</td>\n",
       "      <td>1.102743</td>\n",
       "      <td>0.806057</td>\n",
       "      <td>49.693429</td>\n",
       "    </tr>\n",
       "    <tr>\n",
       "      <th>min</th>\n",
       "      <td>1.000000</td>\n",
       "      <td>0.000000</td>\n",
       "      <td>1.000000</td>\n",
       "      <td>0.420000</td>\n",
       "      <td>0.000000</td>\n",
       "      <td>0.000000</td>\n",
       "      <td>0.000000</td>\n",
       "    </tr>\n",
       "    <tr>\n",
       "      <th>25%</th>\n",
       "      <td>223.500000</td>\n",
       "      <td>0.000000</td>\n",
       "      <td>2.000000</td>\n",
       "      <td>22.000000</td>\n",
       "      <td>0.000000</td>\n",
       "      <td>0.000000</td>\n",
       "      <td>7.910400</td>\n",
       "    </tr>\n",
       "    <tr>\n",
       "      <th>50%</th>\n",
       "      <td>446.000000</td>\n",
       "      <td>0.000000</td>\n",
       "      <td>3.000000</td>\n",
       "      <td>24.000000</td>\n",
       "      <td>0.000000</td>\n",
       "      <td>0.000000</td>\n",
       "      <td>14.454200</td>\n",
       "    </tr>\n",
       "    <tr>\n",
       "      <th>75%</th>\n",
       "      <td>668.500000</td>\n",
       "      <td>1.000000</td>\n",
       "      <td>3.000000</td>\n",
       "      <td>35.000000</td>\n",
       "      <td>1.000000</td>\n",
       "      <td>0.000000</td>\n",
       "      <td>31.000000</td>\n",
       "    </tr>\n",
       "    <tr>\n",
       "      <th>max</th>\n",
       "      <td>891.000000</td>\n",
       "      <td>1.000000</td>\n",
       "      <td>3.000000</td>\n",
       "      <td>80.000000</td>\n",
       "      <td>8.000000</td>\n",
       "      <td>6.000000</td>\n",
       "      <td>512.329200</td>\n",
       "    </tr>\n",
       "  </tbody>\n",
       "</table>\n",
       "</div>"
      ],
      "text/plain": [
       "       PassengerId    Survived      Pclass         Age       SibSp   \n",
       "count   891.000000  891.000000  891.000000  891.000000  891.000000  \\\n",
       "mean    446.000000    0.383838    2.308642   28.566970    0.523008   \n",
       "std     257.353842    0.486592    0.836071   13.199572    1.102743   \n",
       "min       1.000000    0.000000    1.000000    0.420000    0.000000   \n",
       "25%     223.500000    0.000000    2.000000   22.000000    0.000000   \n",
       "50%     446.000000    0.000000    3.000000   24.000000    0.000000   \n",
       "75%     668.500000    1.000000    3.000000   35.000000    1.000000   \n",
       "max     891.000000    1.000000    3.000000   80.000000    8.000000   \n",
       "\n",
       "            Parch        Fare  \n",
       "count  891.000000  891.000000  \n",
       "mean     0.381594   32.204208  \n",
       "std      0.806057   49.693429  \n",
       "min      0.000000    0.000000  \n",
       "25%      0.000000    7.910400  \n",
       "50%      0.000000   14.454200  \n",
       "75%      0.000000   31.000000  \n",
       "max      6.000000  512.329200  "
      ]
     },
     "execution_count": 493,
     "metadata": {},
     "output_type": "execute_result"
    }
   ],
   "source": [
    "data.describe(include=(np.number))"
   ]
  },
  {
   "cell_type": "code",
   "execution_count": 494,
   "id": "81dcfeaa-0b08-41dc-b212-e162fc1ac785",
   "metadata": {},
   "outputs": [
    {
     "data": {
      "text/plain": [
       "<Axes: >"
      ]
     },
     "execution_count": 494,
     "metadata": {},
     "output_type": "execute_result"
    },
    {
     "data": {
      "image/png": "[encoded data removed]",
      "text/plain": [
       "<Figure size 640x480 with 1 Axes>"
      ]
     },
     "metadata": {},
     "output_type": "display_data"
    }
   ],
   "source": [
    "data[\"Fare\"].hist()"
   ]
  },
  {
   "cell_type": "markdown",
   "id": "c347f79f-095b-4160-830c-3b7e6d53cbc5",
   "metadata": {},
   "source": [
    "The Fare Feature is a long tailed distribution, meaning that the majority of the occurences are at the head of the distrubition. \n",
    "\n",
    "It is known that these types of distributions in feature data can have negative performance effects in linear models. So I am going to take the log of the features to create an even distribution."
   ]
  },
  {
   "cell_type": "code",
   "execution_count": 495,
   "id": "3ce473fe-73be-4041-b473-763006e7da89",
   "metadata": {},
   "outputs": [],
   "source": [
    "# Log of the Fare (+1 because there are some zeros inside the Fare)\n",
    "data[\"Fare\"] = np.log(data[\"Fare\"] + 1) "
   ]
  },
  {
   "cell_type": "code",
   "execution_count": 496,
   "id": "b7fc5575-4927-4e06-a368-042fe784a316",
   "metadata": {},
   "outputs": [
    {
     "data": {
      "text/plain": [
       "<Axes: >"
      ]
     },
     "execution_count": 496,
     "metadata": {},
     "output_type": "execute_result"
    },
    {
     "data": {
      "image/png": "[encoded data removed]",
      "text/plain": [
       "<Figure size 640x480 with 1 Axes>"
      ]
     },
     "metadata": {},
     "output_type": "display_data"
    }
   ],
   "source": [
    "data[\"Fare\"].hist()"
   ]
  },
  {
   "cell_type": "code",
   "execution_count": 497,
   "id": "2d152f1e-a35e-4d9d-9af9-b4cd7f682c1e",
   "metadata": {},
   "outputs": [],
   "source": [
    "data[\"LogFare\"] = np.log(data[\"Fare\"] + 1) "
   ]
  },
  {
   "cell_type": "markdown",
   "id": "a6fd0ce8-9d87-45df-9577-c50e7445eaba",
   "metadata": {},
   "source": [
    "Now we want to seperate our non-numerical features into dummy features so we can place a numerical representation on them.\n",
    "\n",
    "We will do this by converting each features unique outputs to a feature and place a true or false value. These true or false values later convert to binary."
   ]
  },
  {
   "cell_type": "code",
   "execution_count": 498,
   "id": "a65dceb3-34cc-4e0a-b4e9-aa323cf45ccf",
   "metadata": {},
   "outputs": [
    {
     "data": {
      "text/html": [
       "<div>\n",
       "<style scoped>\n",
       "    .dataframe tbody tr th:only-of-type {\n",
       "        vertical-align: middle;\n",
       "    }\n",
       "\n",
       "    .dataframe tbody tr th {\n",
       "        vertical-align: top;\n",
       "    }\n",
       "\n",
       "    .dataframe thead th {\n",
       "        text-align: right;\n",
       "    }\n",
       "</style>\n",
       "<table border=\"1\" class=\"dataframe\">\n",
       "  <thead>\n",
       "    <tr style=\"text-align: right;\">\n",
       "      <th></th>\n",
       "      <th>Name</th>\n",
       "      <th>Sex</th>\n",
       "      <th>Ticket</th>\n",
       "      <th>Cabin</th>\n",
       "      <th>Embarked</th>\n",
       "    </tr>\n",
       "  </thead>\n",
       "  <tbody>\n",
       "    <tr>\n",
       "      <th>count</th>\n",
       "      <td>891</td>\n",
       "      <td>891</td>\n",
       "      <td>891</td>\n",
       "      <td>891</td>\n",
       "      <td>891</td>\n",
       "    </tr>\n",
       "    <tr>\n",
       "      <th>unique</th>\n",
       "      <td>891</td>\n",
       "      <td>2</td>\n",
       "      <td>681</td>\n",
       "      <td>147</td>\n",
       "      <td>3</td>\n",
       "    </tr>\n",
       "    <tr>\n",
       "      <th>top</th>\n",
       "      <td>Braund, Mr. Owen Harris</td>\n",
       "      <td>male</td>\n",
       "      <td>347082</td>\n",
       "      <td>B96 B98</td>\n",
       "      <td>S</td>\n",
       "    </tr>\n",
       "    <tr>\n",
       "      <th>freq</th>\n",
       "      <td>1</td>\n",
       "      <td>577</td>\n",
       "      <td>7</td>\n",
       "      <td>691</td>\n",
       "      <td>646</td>\n",
       "    </tr>\n",
       "  </tbody>\n",
       "</table>\n",
       "</div>"
      ],
      "text/plain": [
       "                           Name   Sex  Ticket    Cabin Embarked\n",
       "count                       891   891     891      891      891\n",
       "unique                      891     2     681      147        3\n",
       "top     Braund, Mr. Owen Harris  male  347082  B96 B98        S\n",
       "freq                          1   577       7      691      646"
      ]
     },
     "execution_count": 498,
     "metadata": {},
     "output_type": "execute_result"
    }
   ],
   "source": [
    "data.describe(include=[object])"
   ]
  },
  {
   "cell_type": "code",
   "execution_count": 499,
   "id": "f3cbae3c-0f28-4391-aae5-2dc6dd1fe876",
   "metadata": {
    "scrolled": true
   },
   "outputs": [],
   "source": [
    "data = pd.get_dummies(data, columns=[\"Sex\", \"Pclass\", \"Embarked\"])"
   ]
  },
  {
   "cell_type": "code",
   "execution_count": 500,
   "id": "0a357582-8722-4c44-85ba-ff0bd47d7039",
   "metadata": {},
   "outputs": [
    {
     "data": {
      "text/plain": [
       "Index(['PassengerId', 'Survived', 'Name', 'Age', 'SibSp', 'Parch', 'Ticket',\n",
       "       'Fare', 'Cabin', 'LogFare', 'Sex_female', 'Sex_male', 'Pclass_1',\n",
       "       'Pclass_2', 'Pclass_3', 'Embarked_C', 'Embarked_Q', 'Embarked_S'],\n",
       "      dtype='object')"
      ]
     },
     "execution_count": 500,
     "metadata": {},
     "output_type": "execute_result"
    }
   ],
   "source": [
    "data.columns"
   ]
  },
  {
   "cell_type": "code",
   "execution_count": 501,
   "id": "4b9cc202-d6cd-41ec-baa2-c505cd485e7e",
   "metadata": {},
   "outputs": [
    {
     "data": {
      "text/html": [
       "<div>\n",
       "<style scoped>\n",
       "    .dataframe tbody tr th:only-of-type {\n",
       "        vertical-align: middle;\n",
       "    }\n",
       "\n",
       "    .dataframe tbody tr th {\n",
       "        vertical-align: top;\n",
       "    }\n",
       "\n",
       "    .dataframe thead th {\n",
       "        text-align: right;\n",
       "    }\n",
       "</style>\n",
       "<table border=\"1\" class=\"dataframe\">\n",
       "  <thead>\n",
       "    <tr style=\"text-align: right;\">\n",
       "      <th></th>\n",
       "      <th>Sex_female</th>\n",
       "      <th>Sex_male</th>\n",
       "      <th>Pclass_1</th>\n",
       "      <th>Pclass_2</th>\n",
       "      <th>Pclass_3</th>\n",
       "      <th>Embarked_C</th>\n",
       "      <th>Embarked_Q</th>\n",
       "      <th>Embarked_S</th>\n",
       "    </tr>\n",
       "  </thead>\n",
       "  <tbody>\n",
       "    <tr>\n",
       "      <th>0</th>\n",
       "      <td>False</td>\n",
       "      <td>True</td>\n",
       "      <td>False</td>\n",
       "      <td>False</td>\n",
       "      <td>True</td>\n",
       "      <td>False</td>\n",
       "      <td>False</td>\n",
       "      <td>True</td>\n",
       "    </tr>\n",
       "    <tr>\n",
       "      <th>1</th>\n",
       "      <td>True</td>\n",
       "      <td>False</td>\n",
       "      <td>True</td>\n",
       "      <td>False</td>\n",
       "      <td>False</td>\n",
       "      <td>True</td>\n",
       "      <td>False</td>\n",
       "      <td>False</td>\n",
       "    </tr>\n",
       "    <tr>\n",
       "      <th>2</th>\n",
       "      <td>True</td>\n",
       "      <td>False</td>\n",
       "      <td>False</td>\n",
       "      <td>False</td>\n",
       "      <td>True</td>\n",
       "      <td>False</td>\n",
       "      <td>False</td>\n",
       "      <td>True</td>\n",
       "    </tr>\n",
       "    <tr>\n",
       "      <th>3</th>\n",
       "      <td>True</td>\n",
       "      <td>False</td>\n",
       "      <td>True</td>\n",
       "      <td>False</td>\n",
       "      <td>False</td>\n",
       "      <td>False</td>\n",
       "      <td>False</td>\n",
       "      <td>True</td>\n",
       "    </tr>\n",
       "    <tr>\n",
       "      <th>4</th>\n",
       "      <td>False</td>\n",
       "      <td>True</td>\n",
       "      <td>False</td>\n",
       "      <td>False</td>\n",
       "      <td>True</td>\n",
       "      <td>False</td>\n",
       "      <td>False</td>\n",
       "      <td>True</td>\n",
       "    </tr>\n",
       "  </tbody>\n",
       "</table>\n",
       "</div>"
      ],
      "text/plain": [
       "   Sex_female  Sex_male  Pclass_1  Pclass_2  Pclass_3  Embarked_C  Embarked_Q   \n",
       "0       False      True     False     False      True       False       False  \\\n",
       "1        True     False      True     False     False        True       False   \n",
       "2        True     False     False     False      True       False       False   \n",
       "3        True     False      True     False     False       False       False   \n",
       "4       False      True     False     False      True       False       False   \n",
       "\n",
       "   Embarked_S  \n",
       "0        True  \n",
       "1       False  \n",
       "2        True  \n",
       "3        True  \n",
       "4        True  "
      ]
     },
     "execution_count": 501,
     "metadata": {},
     "output_type": "execute_result"
    }
   ],
   "source": [
    "added_cols = ['Sex_female', 'Sex_male', 'Pclass_1', 'Pclass_2', 'Pclass_3', 'Embarked_C', 'Embarked_Q', 'Embarked_S']\n",
    "data[added_cols].head()"
   ]
  },
  {
   "cell_type": "markdown",
   "id": "4c53d750-23e8-467d-8af1-7b89acb07ebb",
   "metadata": {},
   "source": [
    "## Converting to Tensors"
   ]
  },
  {
   "cell_type": "code",
   "execution_count": 502,
   "id": "bb550bc7-cb51-44d5-b2b4-dedcee34b8d2",
   "metadata": {},
   "outputs": [],
   "source": [
    "from torch import tensor"
   ]
  },
  {
   "cell_type": "code",
   "execution_count": 503,
   "id": "96a394f2-d40d-4ae7-af3f-8bfce99be60b",
   "metadata": {},
   "outputs": [],
   "source": [
    "# Create our dependent variable\n",
    "t_dep = tensor(data.Survived)"
   ]
  },
  {
   "cell_type": "code",
   "execution_count": 504,
   "id": "28e940bc-34c9-4583-8d89-88c5bf4aa4bb",
   "metadata": {},
   "outputs": [
    {
     "data": {
      "text/plain": [
       "PassengerId      int64\n",
       "Survived         int64\n",
       "Name            object\n",
       "Age            float64\n",
       "SibSp            int64\n",
       "Parch            int64\n",
       "Ticket          object\n",
       "Fare           float64\n",
       "Cabin           object\n",
       "LogFare        float64\n",
       "Sex_female        bool\n",
       "Sex_male          bool\n",
       "Pclass_1          bool\n",
       "Pclass_2          bool\n",
       "Pclass_3          bool\n",
       "Embarked_C        bool\n",
       "Embarked_Q        bool\n",
       "Embarked_S        bool\n",
       "dtype: object"
      ]
     },
     "execution_count": 504,
     "metadata": {},
     "output_type": "execute_result"
    }
   ],
   "source": [
    "data.dtypes"
   ]
  },
  {
   "cell_type": "code",
   "execution_count": 505,
   "id": "f3fa4b6f-9888-4398-92f0-6afc63ff82d8",
   "metadata": {},
   "outputs": [
    {
     "data": {
      "text/plain": [
       "['Age',\n",
       " 'SibSp',\n",
       " 'Parch',\n",
       " 'LogFare',\n",
       " 'Sex_female',\n",
       " 'Sex_male',\n",
       " 'Pclass_1',\n",
       " 'Pclass_2',\n",
       " 'Pclass_3',\n",
       " 'Embarked_C',\n",
       " 'Embarked_Q',\n",
       " 'Embarked_S']"
      ]
     },
     "execution_count": 505,
     "metadata": {},
     "output_type": "execute_result"
    }
   ],
   "source": [
    "# Create our independent variables\n",
    "indep_cols = [\"Age\", \"SibSp\", \"Parch\", \"LogFare\"] + added_cols\n",
    "indep_cols"
   ]
  },
  {
   "cell_type": "code",
   "execution_count": 506,
   "id": "4b74464a-0658-4ccf-879f-32de1326221b",
   "metadata": {},
   "outputs": [
    {
     "data": {
      "text/plain": [
       "array([[22.0, 1, 0, ..., False, False, True],\n",
       "       [38.0, 1, 0, ..., True, False, False],\n",
       "       [26.0, 0, 0, ..., False, False, True],\n",
       "       ...,\n",
       "       [24.0, 1, 2, ..., False, False, True],\n",
       "       [26.0, 0, 0, ..., True, False, False],\n",
       "       [32.0, 0, 0, ..., False, True, False]], dtype=object)"
      ]
     },
     "execution_count": 506,
     "metadata": {},
     "output_type": "execute_result"
    }
   ],
   "source": [
    "data[indep_cols].values"
   ]
  },
  {
   "cell_type": "code",
   "execution_count": 507,
   "id": "29c8f3a5-6162-47fe-b896-b096e53991a6",
   "metadata": {},
   "outputs": [
    {
     "data": {
      "text/plain": [
       "tensor([[22.,  1.,  0.,  ...,  0.,  0.,  1.],\n",
       "        [38.,  1.,  0.,  ...,  1.,  0.,  0.],\n",
       "        [26.,  0.,  0.,  ...,  0.,  0.,  1.],\n",
       "        ...,\n",
       "        [24.,  1.,  2.,  ...,  0.,  0.,  1.],\n",
       "        [26.,  0.,  0.,  ...,  1.,  0.,  0.],\n",
       "        [32.,  0.,  0.,  ...,  0.,  1.,  0.]], dtype=torch.float64)"
      ]
     },
     "execution_count": 507,
     "metadata": {},
     "output_type": "execute_result"
    }
   ],
   "source": [
    "# Tensors are unable to convert a dtype object so we have to convert this to have homogenous values\n",
    "t_indep_arr = np.array(data[indep_cols].values, dtype=float)\n",
    "t_indep = torch.tensor(t_indep_arr)\n",
    "t_indep"
   ]
  },
  {
   "cell_type": "code",
   "execution_count": 508,
   "id": "196edf6b-f17d-41e6-b0f8-56ff7e9cd93f",
   "metadata": {},
   "outputs": [
    {
     "data": {
      "text/plain": [
       "torch.Size([891, 12])"
      ]
     },
     "execution_count": 508,
     "metadata": {},
     "output_type": "execute_result"
    }
   ],
   "source": [
    "t_indep.shape"
   ]
  },
  {
   "cell_type": "markdown",
   "id": "0e91489d-9b9c-4f14-81cf-23d598439dcd",
   "metadata": {},
   "source": [
    "## Creating the model"
   ]
  },
  {
   "cell_type": "markdown",
   "id": "23b43d4f-28bd-46c8-9d9a-05e9bfd77cbb",
   "metadata": {},
   "source": [
    "First we need to initialize the parameter tensors. Each value inside this tensor corellates to the parameter of each feature that will be adjusted through backpropogation.  "
   ]
  },
  {
   "cell_type": "code",
   "execution_count": 509,
   "id": "1b3fdb7d-ab3c-4dfc-9b03-041f72be6ea1",
   "metadata": {},
   "outputs": [
    {
     "data": {
      "text/plain": [
       "tensor([ 0.0475,  0.1757, -0.2910,  0.4944, -0.4225, -0.4774,  0.3277,  0.3220,\n",
       "         0.4963,  0.2614,  0.0395,  0.3586])"
      ]
     },
     "execution_count": 509,
     "metadata": {},
     "output_type": "execute_result"
    }
   ],
   "source": [
    "n_coeff = t_indep.shape[1]\n",
    "coeffs = torch.rand(n_coeff)-0.5 # More even distribution between -0.5 and 0.5 rather than 0 to 1\n",
    "coeffs"
   ]
  },
  {
   "cell_type": "markdown",
   "id": "b5d4ac21-dcde-4e2c-8ec1-890f234579a2",
   "metadata": {},
   "source": [
    "Notice there is one value for each feature."
   ]
  },
  {
   "cell_type": "markdown",
   "id": "e7410a94-90e4-49f7-a646-53e5d07119a7",
   "metadata": {},
   "source": [
    "### Normalizing the Features"
   ]
  },
  {
   "cell_type": "code",
   "execution_count": 510,
   "id": "a0cff8ff-99ce-4191-b410-32dc755b7c85",
   "metadata": {},
   "outputs": [
    {
     "data": {
      "text/plain": [
       "tensor([[ 1.0446,  0.1757, -0.0000,  ...,  0.0000,  0.0000,  0.3586],\n",
       "        [ 1.8043,  0.1757, -0.0000,  ...,  0.2614,  0.0000,  0.0000],\n",
       "        [ 1.2345,  0.0000, -0.0000,  ...,  0.0000,  0.0000,  0.3586],\n",
       "        ...,\n",
       "        [ 1.1396,  0.1757, -0.5820,  ...,  0.0000,  0.0000,  0.3586],\n",
       "        [ 1.2345,  0.0000, -0.0000,  ...,  0.2614,  0.0000,  0.0000],\n",
       "        [ 1.5194,  0.0000, -0.0000,  ...,  0.0000,  0.0395,  0.0000]],\n",
       "       dtype=torch.float64)"
      ]
     },
     "execution_count": 510,
     "metadata": {},
     "output_type": "execute_result"
    }
   ],
   "source": [
    "# Matrix and Vector Multiply using brodcasting\n",
    "# Multiplying each row of t_indep by the vector coeffs\n",
    "t_indep*coeffs"
   ]
  },
  {
   "cell_type": "markdown",
   "id": "74c81d5a-91b4-4441-8551-c5dca45afe83",
   "metadata": {},
   "source": [
    "Notice how some of the values are larger than the others. Specifically the first column \"Age\" is larger than the others because we didn't normalize it. So we are going to normalize the values by taking dividing by the max value of the feature."
   ]
  },
  {
   "cell_type": "code",
   "execution_count": 511,
   "id": "93610c90-b020-4204-a47b-83c02ce68c91",
   "metadata": {},
   "outputs": [
    {
     "data": {
      "text/plain": [
       "tensor([80.0000,  8.0000,  6.0000,  1.9797,  1.0000,  1.0000,  1.0000,  1.0000,\n",
       "         1.0000,  1.0000,  1.0000,  1.0000], dtype=torch.float64)"
      ]
     },
     "execution_count": 511,
     "metadata": {},
     "output_type": "execute_result"
    }
   ],
   "source": [
    "vals, indicies = t_indep.max(dim=0)\n",
    "vals"
   ]
  },
  {
   "cell_type": "code",
   "execution_count": 512,
   "id": "b3ad3462-161f-4a3a-af11-1733a0fe8cc1",
   "metadata": {},
   "outputs": [],
   "source": [
    "t_indep = t_indep / vals"
   ]
  },
  {
   "cell_type": "code",
   "execution_count": 513,
   "id": "cc4b4866-fda6-4528-99cb-af83a2c6bef9",
   "metadata": {},
   "outputs": [
    {
     "data": {
      "text/plain": [
       "tensor([[0.2750, 0.1250, 0.0000,  ..., 0.0000, 0.0000, 1.0000],\n",
       "        [0.4750, 0.1250, 0.0000,  ..., 1.0000, 0.0000, 0.0000],\n",
       "        [0.3250, 0.0000, 0.0000,  ..., 0.0000, 0.0000, 1.0000],\n",
       "        ...,\n",
       "        [0.3000, 0.1250, 0.3333,  ..., 0.0000, 0.0000, 1.0000],\n",
       "        [0.3250, 0.0000, 0.0000,  ..., 1.0000, 0.0000, 0.0000],\n",
       "        [0.4000, 0.0000, 0.0000,  ..., 0.0000, 1.0000, 0.0000]],\n",
       "       dtype=torch.float64)"
      ]
     },
     "execution_count": 513,
     "metadata": {},
     "output_type": "execute_result"
    }
   ],
   "source": [
    "t_indep"
   ]
  },
  {
   "cell_type": "markdown",
   "id": "104d7cd6-b909-4f4c-a178-1aa67df12e9b",
   "metadata": {},
   "source": [
    "### Understanding t_indep*coeffs"
   ]
  },
  {
   "cell_type": "code",
   "execution_count": 514,
   "id": "4a7d19db-1fd3-4e62-8f92-71d195cd49cd",
   "metadata": {},
   "outputs": [
    {
     "name": "stdout",
     "output_type": "stream",
     "text": [
      "torch.Size([891, 12])\n",
      "torch.Size([12])\n"
     ]
    }
   ],
   "source": [
    "print(t_indep.shape)\n",
    "print(coeffs.shape)"
   ]
  },
  {
   "cell_type": "markdown",
   "id": "f5297fff-2d99-4b60-85c8-fd9845258f68",
   "metadata": {},
   "source": [
    "Each row inside of `t_indep` can be described as the input vector that contains `n` features.\n",
    "\n",
    "Each value inside the `coeffs` is the parameter for each feature. It will have a size of `n`. This is also known as the \"weights\".\n",
    "\n",
    "We will element wise multiply each feature in each row of `t_indep` by the respective parameter inside of `coeff`. \n",
    "\n",
    "This will result in a tensor `preds` of the same size as the original `t_indep` where each row contains the features multiplied by their respective weight."
   ]
  },
  {
   "cell_type": "code",
   "execution_count": 515,
   "id": "0575e590-2ec6-4f5b-b132-de817f3778e8",
   "metadata": {},
   "outputs": [
    {
     "data": {
      "text/plain": [
       "torch.Size([891, 12])"
      ]
     },
     "execution_count": 515,
     "metadata": {},
     "output_type": "execute_result"
    }
   ],
   "source": [
    "# Now the predictions are going to be the procuct of the input matrix and the parameter vector\n",
    "preds = (t_indep*coeffs)\n",
    "preds.shape"
   ]
  },
  {
   "cell_type": "markdown",
   "id": "d8f2d474-1e96-4fd8-a06c-e51f0b2b9621",
   "metadata": {},
   "source": [
    "Now based on the architecture of neural networks, the neuron is the sum of the all the features by their respective weight (and a bias, but i haven't added a bias in this network). Therefore, we just get the sum of the features for each row. That's why we sum across \"1\" because that means row wise sum."
   ]
  },
  {
   "cell_type": "code",
   "execution_count": 516,
   "id": "a6de78bf-32db-4deb-a719-8a43262ec087",
   "metadata": {},
   "outputs": [
    {
     "data": {
      "text/plain": [
       "torch.Size([891])"
      ]
     },
     "execution_count": 516,
     "metadata": {},
     "output_type": "execute_result"
    }
   ],
   "source": [
    "preds = preds.sum(axis=1)\n",
    "preds.shape"
   ]
  },
  {
   "cell_type": "markdown",
   "id": "9d0f90c7-556d-436d-8ec0-1bab3de69366",
   "metadata": {},
   "source": [
    "We now have a resulting array that is 891, which is the number of rows that we originally had. The reason why is because we caluclated the prediction of that data row by taking the sum of the features inside of `preds`."
   ]
  },
  {
   "cell_type": "code",
   "execution_count": 517,
   "id": "97f68963-ccfe-49ed-a710-99685d320358",
   "metadata": {},
   "outputs": [
    {
     "data": {
      "text/plain": [
       "tensor([0.6959, 0.6267, 0.7375, 0.7080, 0.6890, 0.3667, 0.6413, 0.7482, 0.6640,\n",
       "        0.5632], dtype=torch.float64)"
      ]
     },
     "execution_count": 517,
     "metadata": {},
     "output_type": "execute_result"
    }
   ],
   "source": [
    "preds[:10]"
   ]
  },
  {
   "cell_type": "markdown",
   "id": "760d0f77-e0a4-411e-9050-58f9addffbae",
   "metadata": {},
   "source": [
    "The predictions aren't great but that's because we havent gone through any training. At most, these are just random values multiplied and summed together."
   ]
  },
  {
   "cell_type": "markdown",
   "id": "f1aa7ad7-c82e-432d-819c-18522f3cbfb6",
   "metadata": {},
   "source": [
    "### Loss"
   ]
  },
  {
   "cell_type": "markdown",
   "id": "c733f725-2477-4bb1-b3fa-a1e72d738517",
   "metadata": {},
   "source": [
    "We now have to calulate how good those predictions are by caulcating the loss. We will use the Mean Absolute Value Loss. This means that we take the difference between the prediction and actual value and take the absolute value and mean of them."
   ]
  },
  {
   "cell_type": "code",
   "execution_count": 518,
   "id": "e926ca6f-dac7-47c1-926c-654bad6daded",
   "metadata": {
    "scrolled": true
   },
   "outputs": [
    {
     "data": {
      "text/plain": [
       "tensor(0.5312, dtype=torch.float64)"
      ]
     },
     "execution_count": 518,
     "metadata": {},
     "output_type": "execute_result"
    }
   ],
   "source": [
    "loss = torch.abs(preds-t_dep).mean()\n",
    "loss"
   ]
  },
  {
   "cell_type": "markdown",
   "id": "684ebe0f-d0ec-45cc-9f00-5247ff51b31a",
   "metadata": {},
   "source": [
    "So now that we have derived ability to calculate predictions and calculate loss. Let's make some functions for them."
   ]
  },
  {
   "cell_type": "markdown",
   "id": "7e7e6c5d-e68d-4e08-8564-973ccbd41853",
   "metadata": {},
   "source": [
    "### Calculate Predictions and Loss"
   ]
  },
  {
   "cell_type": "code",
   "execution_count": 519,
   "id": "2840d255-991d-47c7-8f4d-85b9f62d0ae3",
   "metadata": {},
   "outputs": [],
   "source": [
    "# Calculate preds by taking the product of the features vector and weights then row sum \n",
    "def calc_preds(coeffs, indeps): return (indeps*coeffs).sum(axis=1)\n",
    "    \n",
    "# Calculate the loss by taking the mean absolute difference between the predictions and actual values \n",
    "def calc_loss(coeffs, indeps, deps): return torch.abs(calc_preds(coeffs, indeps)-deps).mean()"
   ]
  },
  {
   "cell_type": "markdown",
   "id": "fe1fff78-7aa3-4138-8dba-86355faee7b9",
   "metadata": {},
   "source": [
    "## Gradient Descent"
   ]
  },
  {
   "cell_type": "markdown",
   "id": "a926a3cb-8422-4074-b31c-a8b530d4cc73",
   "metadata": {},
   "source": [
    "Because we want adjust the weights of the network, we want to calulate the derivatives of the `coeffs` because they contain our weights. We do this by using `requires_grad_()` which tells pytorch to calculate gradients for the `coeffs`."
   ]
  },
  {
   "cell_type": "code",
   "execution_count": 520,
   "id": "264271f4-c927-4352-95a0-6ae6919a5562",
   "metadata": {},
   "outputs": [
    {
     "data": {
      "text/plain": [
       "tensor([ 0.0475,  0.1757, -0.2910,  0.4944, -0.4225, -0.4774,  0.3277,  0.3220,\n",
       "         0.4963,  0.2614,  0.0395,  0.3586], requires_grad=True)"
      ]
     },
     "execution_count": 520,
     "metadata": {},
     "output_type": "execute_result"
    }
   ],
   "source": [
    "coeffs.requires_grad_()"
   ]
  },
  {
   "cell_type": "code",
   "execution_count": 521,
   "id": "11ba599b-f116-4b7e-be95-af9643946e1b",
   "metadata": {},
   "outputs": [
    {
     "data": {
      "text/plain": [
       "tensor(0.5312, dtype=torch.float64, grad_fn=<MeanBackward0>)"
      ]
     },
     "execution_count": 521,
     "metadata": {},
     "output_type": "execute_result"
    }
   ],
   "source": [
    "loss = calc_loss(coeffs, t_indep, t_dep)\n",
    "loss"
   ]
  },
  {
   "cell_type": "markdown",
   "id": "66d41fa7-8fe3-42a8-af35-0b528ed04e09",
   "metadata": {},
   "source": [
    "Now in the loss, we have a `grad_fn` which is the gradient function to calculate the gradients of each weight."
   ]
  },
  {
   "cell_type": "code",
   "execution_count": 522,
   "id": "f72aebf9-dd84-4c33-8f30-65b19fdb0d29",
   "metadata": {},
   "outputs": [],
   "source": [
    "loss.backward()"
   ]
  },
  {
   "cell_type": "markdown",
   "id": "f12480d8-6f0a-4f56-8a2c-9c09ea28f654",
   "metadata": {},
   "source": [
    "We can calcualte the gradient by calling the `.backward()` function "
   ]
  },
  {
   "cell_type": "code",
   "execution_count": 523,
   "id": "ddd9dd10-9658-4a7a-995c-d6e10c3df356",
   "metadata": {},
   "outputs": [
    {
     "data": {
      "text/plain": [
       "tensor([ 0.0914,  0.0199,  0.0041,  0.1171, -0.1706,  0.4029, -0.0629,  0.0112,\n",
       "         0.2840, -0.0202,  0.0191,  0.2334])"
      ]
     },
     "execution_count": 523,
     "metadata": {},
     "output_type": "execute_result"
    }
   ],
   "source": [
    "coeffs.grad"
   ]
  },
  {
   "cell_type": "markdown",
   "id": "fd35d7f5-9282-4566-8ed4-da10bf4d25ed",
   "metadata": {},
   "source": [
    "As you can see now, we now have the gradients for each weight in `coeffs`. The greater the value means that weight has more of an affect on the loss.\n",
    "\n",
    "For example: `coeffs.grad[0] = -0.0940` means that if we increase this weight, it will decrease the loss and vice versa"
   ]
  },
  {
   "cell_type": "markdown",
   "id": "a1eca6ec-5686-49b4-83c5-5c5ccc11efda",
   "metadata": {},
   "source": [
    "### Backpropogation"
   ]
  },
  {
   "cell_type": "markdown",
   "id": "c4159f6a-a6b7-48e5-8a8a-5c575d3e92b5",
   "metadata": {},
   "source": [
    "So now we want to adjust the weights inside of `coeffs` based on the gradients inside of `coeffs.grad`.\n",
    "\n",
    "The way we do that is to subtract the original weight by the gradient. \n",
    "\n",
    "We want to be careful not to overjump down the gradient of the loss so we are going to multiply each gradient by a `learning rate`."
   ]
  },
  {
   "cell_type": "code",
   "execution_count": 524,
   "id": "9bf87f80-7964-413f-8df0-0e70d8050290",
   "metadata": {},
   "outputs": [
    {
     "name": "stdout",
     "output_type": "stream",
     "text": [
      "tensor(0.4958, dtype=torch.float64)\n"
     ]
    }
   ],
   "source": [
    "# One step \n",
    "with torch.no_grad():\n",
    "    coeffs.sub_(coeffs.grad*0.1)\n",
    "    print(calc_loss(coeffs, t_indep, t_dep))"
   ]
  },
  {
   "cell_type": "markdown",
   "id": "e0ece9bb-4173-4e56-ab23-83e5b07fbc37",
   "metadata": {},
   "source": [
    "Notice our loss has gone down from `0.5249` to `0.4967`"
   ]
  },
  {
   "cell_type": "markdown",
   "id": "afeb63ab-d158-4291-b5d6-88608a585328",
   "metadata": {},
   "source": [
    "## Training the linear model"
   ]
  },
  {
   "cell_type": "markdown",
   "id": "3573e47d-021b-4470-aa49-cca1501a5d39",
   "metadata": {},
   "source": [
    "We need to seperate the training and validation set. I am going to use FastAI for this. I am also going to randomly split the data. For this data, it won't be a big deal. Thought it is dangerous to randomly split data for validation sets."
   ]
  },
  {
   "cell_type": "code",
   "execution_count": 525,
   "id": "7c3fdaa4-4933-418b-a58f-658cc8ed353e",
   "metadata": {},
   "outputs": [],
   "source": [
    "from fastai.data.transforms import RandomSplitter\n",
    "trn_split, val_split = RandomSplitter()(data)"
   ]
  },
  {
   "cell_type": "code",
   "execution_count": 526,
   "id": "a434d1a9-ba9f-4e3b-aec8-ab623a9758fb",
   "metadata": {},
   "outputs": [
    {
     "data": {
      "text/plain": [
       "(#178) [323,508,783,738,68,715,546,167,156,658...]"
      ]
     },
     "execution_count": 526,
     "metadata": {},
     "output_type": "execute_result"
    }
   ],
   "source": [
    "val_split"
   ]
  },
  {
   "cell_type": "code",
   "execution_count": 527,
   "id": "217535a8-6a1a-4796-9299-50d013673c35",
   "metadata": {},
   "outputs": [
    {
     "data": {
      "text/plain": [
       "(713, 178)"
      ]
     },
     "execution_count": 527,
     "metadata": {},
     "output_type": "execute_result"
    }
   ],
   "source": [
    "trn_indep, val_indep = t_indep[trn_split], t_indep[val_split]\n",
    "trn_dep, val_dep = t_dep[trn_split], t_dep[val_split]\n",
    "len(trn_indep), len(val_indep)"
   ]
  },
  {
   "cell_type": "markdown",
   "id": "a077464f-8aca-441e-81ad-9f850a7b1d9c",
   "metadata": {},
   "source": [
    "Now we have our data, we want to write some more functions for the rest of the training loop based on our previous derivations."
   ]
  },
  {
   "cell_type": "code",
   "execution_count": 528,
   "id": "8a8e6cb2-58b4-46ac-a8be-4acaf98a1128",
   "metadata": {},
   "outputs": [],
   "source": [
    "# Calculate the coefficients by subtracting the product of the gradients by a learning rate \n",
    "def update_coeffs(coeffs, lr): coeffs.sub_(coeffs.grad * lr)"
   ]
  },
  {
   "cell_type": "code",
   "execution_count": 529,
   "id": "04904e17-b295-4900-a96f-607df8fc5db0",
   "metadata": {},
   "outputs": [],
   "source": [
    "# One epoch of a training loop requries calculating the loss, calcuating the gradients, then updating the weights by the loss\n",
    "def one_epoch(epoch, lr):\n",
    "    loss = calc_loss(coeffs, trn_indep, trn_dep)\n",
    "    loss.backward()\n",
    "    with torch.no_grad(): \n",
    "        update_coeffs(coeffs, lr)\n",
    "    print(f\"{loss:.3f}\", end=\"; \")"
   ]
  },
  {
   "cell_type": "code",
   "execution_count": 530,
   "id": "6f064761-972d-42d0-b8cb-012928925021",
   "metadata": {},
   "outputs": [],
   "source": [
    "# Return a tensor of the number of weights based on a random distribution between -0.5 and 0.5\n",
    "def init_coeffs(): return (torch.rand(n_coeff)-0.5).requires_grad_()"
   ]
  },
  {
   "cell_type": "code",
   "execution_count": 531,
   "id": "6b3dcb05-da06-4be7-9326-64aba26452d9",
   "metadata": {},
   "outputs": [],
   "source": [
    "def train_model(epochs=30, lr=0.01):\n",
    "    coeffs = init_coeffs()\n",
    "    for i in range(epochs): \n",
    "        one_epoch(coeffs, lr=lr)\n",
    "    return coeffs"
   ]
  },
  {
   "cell_type": "code",
   "execution_count": 532,
   "id": "5207a370-26a2-421b-9d1b-5e1cffd31990",
   "metadata": {},
   "outputs": [
    {
     "name": "stdout",
     "output_type": "stream",
     "text": [
      "0.496; 0.482; 0.461; 0.434; 0.401; 0.365; 0.330; 0.344; 0.392; 0.425; 0.436; 0.423; 0.395; 0.363; 0.341; 0.337; 0.355; 0.410; "
     ]
    }
   ],
   "source": [
    "coeffs = train_model(18, lr=0.02)"
   ]
  },
  {
   "cell_type": "markdown",
   "id": "75a77190-8970-40e4-90c7-b0eee39e8bf1",
   "metadata": {},
   "source": [
    "Now we have a weights that result in a loss at `0.322`"
   ]
  },
  {
   "cell_type": "code",
   "execution_count": 533,
   "id": "9208ffc1-9817-4965-a865-2ee652753f29",
   "metadata": {},
   "outputs": [
    {
     "data": {
      "text/plain": [
       "{'Age': tensor(-0.2957, grad_fn=<UnbindBackward0>),\n",
       " 'SibSp': tensor(0.0721, grad_fn=<UnbindBackward0>),\n",
       " 'Parch': tensor(-0.2245, grad_fn=<UnbindBackward0>),\n",
       " 'LogFare': tensor(-0.1420, grad_fn=<UnbindBackward0>),\n",
       " 'Sex_female': tensor(0.2128, grad_fn=<UnbindBackward0>),\n",
       " 'Sex_male': tensor(0.3099, grad_fn=<UnbindBackward0>),\n",
       " 'Pclass_1': tensor(0.1911, grad_fn=<UnbindBackward0>),\n",
       " 'Pclass_2': tensor(-0.2124, grad_fn=<UnbindBackward0>),\n",
       " 'Pclass_3': tensor(0.0704, grad_fn=<UnbindBackward0>),\n",
       " 'Embarked_C': tensor(0.2759, grad_fn=<UnbindBackward0>),\n",
       " 'Embarked_Q': tensor(0.0249, grad_fn=<UnbindBackward0>),\n",
       " 'Embarked_S': tensor(0.2550, grad_fn=<UnbindBackward0>)}"
      ]
     },
     "execution_count": 533,
     "metadata": {},
     "output_type": "execute_result"
    }
   ],
   "source": [
    "def show_coeffs(): return dict(zip(indep_cols, coeffs))\n",
    "show_coeffs()"
   ]
  },
  {
   "cell_type": "markdown",
   "id": "ff3c7384-62e8-40c4-934e-5bc38b1deea3",
   "metadata": {},
   "source": [
    "By the data, it shows that females had more of a chance of surviving than males, the higher your age the more likely you are to not surviving, etc.\n"
   ]
  },
  {
   "cell_type": "markdown",
   "id": "7231ce62-5ebd-47db-bc94-0acadaf128c5",
   "metadata": {},
   "source": [
    "### Measuring Accuracy"
   ]
  },
  {
   "cell_type": "code",
   "execution_count": 534,
   "id": "89ef3437-3ad6-4217-ba29-400b8781c14b",
   "metadata": {},
   "outputs": [],
   "source": [
    "preds = calc_preds(coeffs, val_indep)"
   ]
  },
  {
   "cell_type": "code",
   "execution_count": 535,
   "id": "c76c047a-28e4-4d68-bc1a-1e12ad0e266e",
   "metadata": {},
   "outputs": [
    {
     "data": {
      "text/plain": [
       "tensor([False,  True,  True,  True, False,  True, False,  True, False,  True])"
      ]
     },
     "execution_count": 535,
     "metadata": {},
     "output_type": "execute_result"
    }
   ],
   "source": [
    "# Calculate the number of predictions we got correct (assuming > 0.5 means survived)\n",
    "results = val_dep.bool()==(preds>0.5)\n",
    "results[:10]"
   ]
  },
  {
   "cell_type": "code",
   "execution_count": 536,
   "id": "153e9345-bd1b-4dea-8f81-b49db3ece837",
   "metadata": {},
   "outputs": [
    {
     "data": {
      "text/plain": [
       "tensor(0.6067)"
      ]
     },
     "execution_count": 536,
     "metadata": {},
     "output_type": "execute_result"
    }
   ],
   "source": [
    "results.float().mean()"
   ]
  },
  {
   "cell_type": "code",
   "execution_count": 537,
   "id": "106719a1-7fdc-4613-9ed9-ccd5ec5e1e27",
   "metadata": {},
   "outputs": [],
   "source": [
    "def acc(coeffs): return (train_dep.bool()==(calc_preds(coeffs, val_indep)>0.5)).float().mean()"
   ]
  },
  {
   "cell_type": "code",
   "execution_count": 538,
   "id": "fd90d3c7-b6bf-408e-8eac-76d9b20a5719",
   "metadata": {},
   "outputs": [
    {
     "data": {
      "text/plain": [
       "tensor(0.6017)"
      ]
     },
     "execution_count": 538,
     "metadata": {},
     "output_type": "execute_result"
    }
   ],
   "source": [
    "acc(coeffs)"
   ]
  },
  {
   "cell_type": "markdown",
   "id": "7240bf27-b4b9-4d5e-8cd9-a54fff47193b",
   "metadata": {},
   "source": [
    "### Using Sigmoids"
   ]
  },
  {
   "cell_type": "code",
   "execution_count": 539,
   "id": "4c6b315f-8c1a-48c3-821d-f204d0c81223",
   "metadata": {},
   "outputs": [
    {
     "data": {
      "text/plain": [
       "tensor([0.0393, 0.4295, 0.3778, 0.4634, 0.3533, 0.4825, 0.0896, 0.1255, 0.1662,\n",
       "        0.1747], dtype=torch.float64, grad_fn=<SliceBackward0>)"
      ]
     },
     "execution_count": 539,
     "metadata": {},
     "output_type": "execute_result"
    }
   ],
   "source": [
    "preds[:10]"
   ]
  },
  {
   "cell_type": "markdown",
   "id": "e9c62700-bc10-428c-8f44-e168022df58e",
   "metadata": {},
   "source": [
    "Notice that some of our values are negative. We can use the sigmoid function to squish the value between 0 and 1."
   ]
  },
  {
   "cell_type": "code",
   "execution_count": 540,
   "id": "39f8049f-d047-4c45-8937-07a83be71127",
   "metadata": {},
   "outputs": [],
   "source": [
    "def calc_preds(coeffs, indeps): return torch.sigmoid((indeps*coeffs).sum(axis=1))"
   ]
  },
  {
   "cell_type": "code",
   "execution_count": 541,
   "id": "54d2e1fd-1f7a-4de6-8a91-0cf703be134f",
   "metadata": {
    "scrolled": true
   },
   "outputs": [
    {
     "name": "stdout",
     "output_type": "stream",
     "text": [
      "0.525; 0.521; 0.513; 0.501; 0.485; 0.464; 0.441; 0.415; 0.391; 0.369; 0.350; 0.335; 0.324; 0.315; 0.308; 0.302; 0.297; 0.292; 0.287; 0.282; 0.277; 0.272; 0.267; 0.261; 0.256; 0.250; 0.244; 0.239; 0.234; 0.229; "
     ]
    }
   ],
   "source": [
    "coeffs = train_model(lr=0.2)"
   ]
  },
  {
   "cell_type": "code",
   "execution_count": 542,
   "id": "acb5d118-0dc8-4e0e-9242-8845aaac1a1b",
   "metadata": {},
   "outputs": [
    {
     "data": {
      "text/plain": [
       "tensor(0.6452)"
      ]
     },
     "execution_count": 542,
     "metadata": {},
     "output_type": "execute_result"
    }
   ],
   "source": [
    "acc(coeffs)"
   ]
  },
  {
   "cell_type": "markdown",
   "id": "da189212",
   "metadata": {},
   "source": [
    "This time we trained the model with a final sigmoid neuron."
   ]
  },
  {
   "cell_type": "markdown",
   "id": "67ef1c62",
   "metadata": {},
   "source": [
    "## Using matrix product"
   ]
  },
  {
   "cell_type": "markdown",
   "id": "e716452b",
   "metadata": {},
   "source": [
    "Our previous implementation `val_indeps*coeffs` utilized a vector of weights to do the matrix vector product. This inherently means that there is only one layer. If we want to add multiple layers, we need to convert the coeffs into a matrix. This requires the matrix product using `val_indeps@coeffs`."
   ]
  },
  {
   "cell_type": "markdown",
   "id": "534f973f",
   "metadata": {},
   "source": [
    "This means we need to change how we are calculating our predictions."
   ]
  },
  {
   "cell_type": "code",
   "execution_count": 543,
   "id": "0f24e095",
   "metadata": {},
   "outputs": [],
   "source": [
    "def calc_preds(coeffs, indeps): return torch.sigmoid(indeps@coeffs)"
   ]
  },
  {
   "cell_type": "code",
   "execution_count": 544,
   "id": "7621de5d",
   "metadata": {},
   "outputs": [],
   "source": [
    "# Create a matrix of (n_coeff, 1), in order to do matmul, the dtypes must be the same\n",
    "def init_coeffs(): return (torch.rand(n_coeff, 1, dtype=torch.float64)*0.01).requires_grad_()"
   ]
  },
  {
   "cell_type": "code",
   "execution_count": 545,
   "id": "9ef8623e",
   "metadata": {},
   "outputs": [],
   "source": [
    "# Convert our dependent variables vectors into matrices\n",
    "trn_dep = trn_dep[:, None]\n",
    "val_dep = val_dep[:, None]"
   ]
  },
  {
   "cell_type": "code",
   "execution_count": 546,
   "id": "ee5cf97c",
   "metadata": {},
   "outputs": [
    {
     "data": {
      "text/plain": [
       "torch.Size([713, 1])"
      ]
     },
     "execution_count": 546,
     "metadata": {},
     "output_type": "execute_result"
    }
   ],
   "source": [
    "trn_dep.shape"
   ]
  },
  {
   "cell_type": "code",
   "execution_count": 547,
   "id": "9dc92e43",
   "metadata": {},
   "outputs": [
    {
     "data": {
      "text/plain": [
       "torch.float64"
      ]
     },
     "execution_count": 547,
     "metadata": {},
     "output_type": "execute_result"
    }
   ],
   "source": [
    "coeffs = init_coeffs()\n",
    "coeffs[0].dtype"
   ]
  },
  {
   "cell_type": "code",
   "execution_count": 548,
   "id": "b01755f9",
   "metadata": {},
   "outputs": [
    {
     "name": "stdout",
     "output_type": "stream",
     "text": [
      "0.501; 0.459; 0.392; 0.340; 0.312; 0.292; 0.273; 0.253; 0.234; 0.221; 0.213; 0.210; 0.208; 0.208; 0.209; 0.209; 0.210; 0.210; 0.211; 0.211; 0.210; 0.209; 0.208; 0.207; 0.206; 0.204; 0.202; 0.201; 0.200; 0.199; "
     ]
    }
   ],
   "source": [
    "coeffs = train_model(lr=2)"
   ]
  },
  {
   "cell_type": "code",
   "execution_count": 549,
   "id": "df25a254",
   "metadata": {},
   "outputs": [
    {
     "data": {
      "text/plain": [
       "tensor([[0.0013],\n",
       "        [0.0053],\n",
       "        [0.0013],\n",
       "        [0.0078],\n",
       "        [0.0028],\n",
       "        [0.0040],\n",
       "        [0.0098],\n",
       "        [0.0027],\n",
       "        [0.0054],\n",
       "        [0.0061],\n",
       "        [0.0024],\n",
       "        [0.0040]], dtype=torch.float64, requires_grad=True)"
      ]
     },
     "execution_count": 549,
     "metadata": {},
     "output_type": "execute_result"
    }
   ],
   "source": [
    "coeffs"
   ]
  },
  {
   "cell_type": "code",
   "execution_count": 550,
   "id": "6215637c",
   "metadata": {},
   "outputs": [
    {
     "data": {
      "text/plain": [
       "tensor(0.3857)"
      ]
     },
     "execution_count": 550,
     "metadata": {},
     "output_type": "execute_result"
    }
   ],
   "source": [
    "acc(coeffs)"
   ]
  },
  {
   "cell_type": "markdown",
   "id": "845162f8",
   "metadata": {},
   "source": [
    "## Neural Network"
   ]
  },
  {
   "cell_type": "markdown",
   "id": "40e5bcbf",
   "metadata": {},
   "source": [
    "Now we are going to scale up the number of hidden layer neurons to create a neural network."
   ]
  },
  {
   "cell_type": "code",
   "execution_count": 551,
   "id": "b948c60d",
   "metadata": {},
   "outputs": [],
   "source": [
    "def init_coeffs(n_hidden=20):\n",
    "    layer1 = (torch.rand(n_coeff, n_hidden, dtype=torch.float64)-0.5)/n_hidden\n",
    "    layer2 = torch.rand(n_hidden, 1, dtype=torch.float64)-0.3\n",
    "    const = torch.rand(1, dtype=torch.float64)[0]\n",
    "    return layer1.requires_grad_(),layer2.requires_grad_(),const.requires_grad_()"
   ]
  },
  {
   "cell_type": "markdown",
   "id": "a144ee1b",
   "metadata": {},
   "source": [
    "`Layer 1` is the hidden layer where the the shape is (number of features, number of hidden layers). We subtract 0.5 and divide by n_hidden in order to normalize the weights.\n",
    "\n",
    "`Layer 2` converts the hidden layers to an singular output\n",
    "\n",
    "`Const` is a constant that we add."
   ]
  },
  {
   "cell_type": "code",
   "execution_count": 552,
   "id": "4b30c6fe",
   "metadata": {},
   "outputs": [
    {
     "name": "stdout",
     "output_type": "stream",
     "text": [
      "torch.Size([])\n"
     ]
    }
   ],
   "source": [
    "coeffs = init_coeffs()\n",
    "l1, l2, const = coeffs\n",
    "print(const.shape)"
   ]
  },
  {
   "cell_type": "code",
   "execution_count": 553,
   "id": "624ac206",
   "metadata": {},
   "outputs": [],
   "source": [
    "import torch.nn.functional as F\n",
    "\n",
    "def calc_preds(coeffs, indeps):\n",
    "    l1, l2, const = coeffs\n",
    "    res = F.relu(indeps@l1) # Takes the Relu of the outputs of the matmul\n",
    "    res = res@l2 + const # Converts to a singular output and adds the const\n",
    "    return torch.sigmoid(res) # Takes the sigmoid"
   ]
  },
  {
   "cell_type": "code",
   "execution_count": 554,
   "id": "f253ece5",
   "metadata": {},
   "outputs": [],
   "source": [
    "def update_coeffs(coeffs, lr):\n",
    "    for layer in coeffs: layer.sub_(layer.grad * lr)"
   ]
  },
  {
   "cell_type": "code",
   "execution_count": 555,
   "id": "7bed977c",
   "metadata": {},
   "outputs": [
    {
     "name": "stdout",
     "output_type": "stream",
     "text": [
      "0.529; 0.515; 0.499; 0.471; 0.427; 0.368; 0.304; 0.255; 0.229; 0.220; 0.217; 0.213; 0.206; 0.200; 0.198; 0.199; 0.199; 0.198; 0.197; 0.196; 0.196; 0.196; 0.196; 0.196; 0.196; 0.196; 0.196; 0.196; 0.196; 0.196; "
     ]
    }
   ],
   "source": [
    "coeffs = train_model(lr=1.4)"
   ]
  },
  {
   "cell_type": "code",
   "execution_count": 556,
   "id": "7f25a8e0",
   "metadata": {},
   "outputs": [
    {
     "data": {
      "text/plain": [
       "tensor(0.3857)"
      ]
     },
     "execution_count": 556,
     "metadata": {},
     "output_type": "execute_result"
    }
   ],
   "source": [
    "acc(coeffs)"
   ]
  },
  {
   "cell_type": "markdown",
   "id": "0a55294f",
   "metadata": {},
   "source": [
    "## Deep Learning"
   ]
  },
  {
   "cell_type": "markdown",
   "id": "3e513222",
   "metadata": {},
   "source": [
    "We are now going to add more hidden layers to the neural network."
   ]
  },
  {
   "cell_type": "code",
   "execution_count": 673,
   "id": "17cc1bbc",
   "metadata": {},
   "outputs": [],
   "source": [
    "def init_coeffs():\n",
    "    # 10 hidden layers, 10 neurons each\n",
    "    hiddens = [10, 10]\n",
    "    \n",
    "    # list of neurons in each layer [12, 10, 10, 1]\n",
    "    sizes = [n_coeff] + hiddens + [1] \n",
    "    n = len(sizes)\n",
    "    \n",
    "    # Create the tensors parameters for each layer using the shape sizes [12,10] [10,10] [10,1]\n",
    "    layers = [(torch.rand(sizes[i], sizes[i+1], dtype=torch.float64)-0.3)/sizes[i+1]*4 for i in range(n-1)]\n",
    "    \n",
    "    # Create the constants for each layer\n",
    "    consts = [(torch.rand(1, dtype=torch.float64)[0]-0.5)*0.1 for i in range(n-1)]\n",
    "    \n",
    "    # Add requires grad to the layers and constants\n",
    "    for l in layers: l.requires_grad_()\n",
    "    for l in consts: l.requires_grad_()\n",
    "    \n",
    "    return layers, consts"
   ]
  },
  {
   "cell_type": "code",
   "execution_count": 674,
   "id": "32dfe6ea",
   "metadata": {},
   "outputs": [],
   "source": [
    "import torch.nn.functional as F\n",
    "\n",
    "def calc_preds(coeffs, indeps):\n",
    "    # Getting the layers and constants from the coeffs\n",
    "    layers, consts = coeffs \n",
    "    \n",
    "    # 3 layers [12,10] [10,10] [10, 1]\n",
    "    n = len(layers) \n",
    "    \n",
    "    # current data inputs [?, 12]\n",
    "    res = indeps \n",
    "    for i, l in enumerate(layers): # for each layer\n",
    "        res = res@l + consts[i] #matmul and add the constant\n",
    "        if i!=n-1: # for every layer except the last, \n",
    "            res = F.relu(res) # put it through the relu\n",
    "            \n",
    "    return torch.sigmoid(res)  # return the sigmoid\n",
    "    "
   ]
  },
  {
   "cell_type": "code",
   "execution_count": 670,
   "id": "89decc63",
   "metadata": {},
   "outputs": [],
   "source": [
    "def update_coeffs(coeffs, lr):\n",
    "    layers, consts = coeffs\n",
    "    for layer in layers: layer.sub_(layer.grad * lr)\n",
    "    for layer in consts: layer.sub_(layer.grad * lr)        "
   ]
  },
  {
   "cell_type": "code",
   "execution_count": 671,
   "id": "ba4c0249",
   "metadata": {},
   "outputs": [
    {
     "name": "stdout",
     "output_type": "stream",
     "text": [
      "0.606; 0.521; 0.495; 0.485; 0.472; 0.455; 0.438; 0.422; 0.410; 0.401; 0.395; 0.391; 0.389; 0.387; 0.387; 0.386; 0.386; 0.386; 0.386; 0.386; 0.386; 0.386; 0.386; 0.386; 0.386; 0.386; 0.386; 0.386; 0.386; 0.386; "
     ]
    }
   ],
   "source": [
    "coeffs = train_model(lr=1.4)"
   ]
  },
  {
   "cell_type": "code",
   "execution_count": 672,
   "id": "79754601",
   "metadata": {},
   "outputs": [
    {
     "data": {
      "text/plain": [
       "tensor(0.3857)"
      ]
     },
     "execution_count": 672,
     "metadata": {},
     "output_type": "execute_result"
    }
   ],
   "source": [
    "acc(coeffs)"
   ]
  },
  {
   "cell_type": "markdown",
   "id": "0c9e96de",
   "metadata": {},
   "source": [
    "## Conclusions"
   ]
  },
  {
   "cell_type": "markdown",
   "id": "b2fbff5f",
   "metadata": {},
   "source": [
    "I learned alot from building this neural network from scratch using mostly numpy and basic pytorch functionality. There were lots of ups and downs with getting it to work. I really tried to dive deep and understand how the matrix multiply worked between each layer and why we use it.\n",
    "\n",
    "It's a from \"scratch\" model, but we didn't implement backpropogation. I cheated a bit using the pytorch `backward` and `requires_gradient`. But the understanding of backpropogation and how it works is enough for me. Each backward function is connected to the previous layer and the backpropogation is chained backward from the output back to the first layer and we use the `.grad` to update the parameters.\n",
    "\n",
    "With that being said, the accuracy is a bit finicky. Despite our loss going down in the training data, the validation accuracy was still low. This could be a sign of overfitting to the training data. This also could be how we set up the initial weights in the `coeffs`. We used `torch.rand` and try to normalize using the coeff shapes, but the values may still need to played around with more. \n",
    "\n",
    "A possible addition to the network could be to ensamble multiple neural networks together and take the mean of the data.\n",
    "\n",
    "For a problem like this, the model doesn't perform any better than a normal linear model or other models such as Random Forests, but it was a good experience to build it from the ground up."
   ]
  }
 ],
 "metadata": {
  "kernelspec": {
   "display_name": "Python 3 (ipykernel)",
   "language": "python",
   "name": "python3"
  },
  "language_info": {
   "codemirror_mode": {
    "name": "ipython",
    "version": 3
   },
   "file_extension": ".py",
   "mimetype": "text/x-python",
   "name": "python",
   "nbconvert_exporter": "python",
   "pygments_lexer": "ipython3",
   "version": "3.10.7"
  }
 },
 "nbformat": 4,
 "nbformat_minor": 5
}
