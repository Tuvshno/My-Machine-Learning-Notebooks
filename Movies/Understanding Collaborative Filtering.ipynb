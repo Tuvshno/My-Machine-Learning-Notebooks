{
 "cells": [
  {
   "cell_type": "markdown",
   "id": "1bc8dd0d-b890-4624-b1bf-32baf9b490f7",
   "metadata": {},
   "source": [
    "## Introduction\n",
    "This notebook will look into what collaborative filtering is, why it is used, how to use it, and how to implement it from scratch and using libraries.\n"
   ]
  },
  {
   "cell_type": "code",
   "execution_count": 1,
   "id": "6ada2681-751d-44ea-89ae-352cd249229f",
   "metadata": {},
   "outputs": [],
   "source": [
    "import os\n",
    "os.environ[\"KMP_DUPLICATE_LIB_OK\"]=\"TRUE\""
   ]
  },
  {
   "cell_type": "code",
   "execution_count": 2,
   "id": "e9fad53a-d7b5-4748-bcc7-de16f37f7a8b",
   "metadata": {},
   "outputs": [],
   "source": [
    "import torch\n",
    "import numpy as np\n",
    "import pandas as pd"
   ]
  },
  {
   "cell_type": "markdown",
   "id": "57869141-cfb9-4c28-8ec5-5d5c6a0d3cf7",
   "metadata": {},
   "source": [
    "## Why Collaborative Filtering?"
   ]
  },
  {
   "cell_type": "markdown",
   "id": "9abfe9b7-3ca1-4e70-989c-513a9f310e9c",
   "metadata": {},
   "source": [
    "When there is a problem of recommending things to people, collaborative filtering works to solve that problem. It works by taking taking products one user likes and matches it with another user who also likes similar products, and then recommends other products the matched user likes.\n",
    "\n",
    "The key foundational idea around collaborative filtering is the concept of latent factors, which can be described as embedding or numbers around a product that draw certain users to enjoy that product. \n",
    "\n",
    "We are going to explore this topic through the movie recommendation problem."
   ]
  },
  {
   "cell_type": "code",
   "execution_count": 4,
   "id": "d4f071db-2004-47d0-a8a9-8f495a22e3d8",
   "metadata": {},
   "outputs": [],
   "source": [
    "from fastai.collab import *\n",
    "from fastai.tabular.all import *"
   ]
  },
  {
   "cell_type": "markdown",
   "id": "7a8ca62d-9938-4f2b-a2ca-a3fe1aa212d0",
   "metadata": {},
   "source": [
    "There is a great dataset of movie recommendations with around 100,000 movies that we can expirement on and explore."
   ]
  },
  {
   "cell_type": "code",
   "execution_count": 5,
   "id": "a41c09d9-5379-45d1-91b5-87ef64565611",
   "metadata": {},
   "outputs": [],
   "source": [
    "path = untar_data(URLs.ML_100k)"
   ]
  },
  {
   "cell_type": "markdown",
   "id": "49e313ac-f3d7-48e8-852e-1efeb380f406",
   "metadata": {},
   "source": [
    "The data is tab seperated  and the columns are user, movie, rating, and timestamp. "
   ]
  },
  {
   "cell_type": "code",
   "execution_count": 8,
   "id": "b461046f-5b04-4501-aba8-643b8ccb272f",
   "metadata": {},
   "outputs": [
    {
     "data": {
      "text/html": [
       "<div>\n",
       "<style scoped>\n",
       "    .dataframe tbody tr th:only-of-type {\n",
       "        vertical-align: middle;\n",
       "    }\n",
       "\n",
       "    .dataframe tbody tr th {\n",
       "        vertical-align: top;\n",
       "    }\n",
       "\n",
       "    .dataframe thead th {\n",
       "        text-align: right;\n",
       "    }\n",
       "</style>\n",
       "<table border=\"1\" class=\"dataframe\">\n",
       "  <thead>\n",
       "    <tr style=\"text-align: right;\">\n",
       "      <th></th>\n",
       "      <th>user</th>\n",
       "      <th>movie</th>\n",
       "      <th>rating</th>\n",
       "      <th>timestamp</th>\n",
       "    </tr>\n",
       "  </thead>\n",
       "  <tbody>\n",
       "    <tr>\n",
       "      <th>0</th>\n",
       "      <td>196</td>\n",
       "      <td>242</td>\n",
       "      <td>3</td>\n",
       "      <td>881250949</td>\n",
       "    </tr>\n",
       "    <tr>\n",
       "      <th>1</th>\n",
       "      <td>186</td>\n",
       "      <td>302</td>\n",
       "      <td>3</td>\n",
       "      <td>891717742</td>\n",
       "    </tr>\n",
       "    <tr>\n",
       "      <th>2</th>\n",
       "      <td>22</td>\n",
       "      <td>377</td>\n",
       "      <td>1</td>\n",
       "      <td>878887116</td>\n",
       "    </tr>\n",
       "    <tr>\n",
       "      <th>3</th>\n",
       "      <td>244</td>\n",
       "      <td>51</td>\n",
       "      <td>2</td>\n",
       "      <td>880606923</td>\n",
       "    </tr>\n",
       "    <tr>\n",
       "      <th>4</th>\n",
       "      <td>166</td>\n",
       "      <td>346</td>\n",
       "      <td>1</td>\n",
       "      <td>886397596</td>\n",
       "    </tr>\n",
       "  </tbody>\n",
       "</table>\n",
       "</div>"
      ],
      "text/plain": [
       "   user  movie  rating  timestamp\n",
       "0   196    242       3  881250949\n",
       "1   186    302       3  891717742\n",
       "2    22    377       1  878887116\n",
       "3   244     51       2  880606923\n",
       "4   166    346       1  886397596"
      ]
     },
     "execution_count": 8,
     "metadata": {},
     "output_type": "execute_result"
    }
   ],
   "source": [
    "ratings = pd.read_csv(path/'u.data', delimiter='\\t', header=None,\n",
    "                     names=['user', 'movie', 'rating', 'timestamp'])\n",
    "ratings.head()"
   ]
  },
  {
   "cell_type": "markdown",
   "id": "8fae63b2-e92a-44ff-9eae-c65ed595dea9",
   "metadata": {},
   "source": [
    "![img](table.png)"
   ]
  },
  {
   "cell_type": "markdown",
   "id": "de6fe580-dbf5-42d6-b3a5-dc9b9ca52ce8",
   "metadata": {},
   "source": [
    "The purpose of collaborative filtering is to fill in these gaps between the users and movies. The reason why is that these are movies the user has not watched and if we can predict which movies they would most likely predict highly, we can recommend those movies to that users.\n",
    "\n",
    "The way to do this is to provide numbers describing a movie and users preferences such as having +1 or -1 depending on the factor.\n",
    "\n",
    "For example: these categories would be if the movie is about or user enjoys: science-fiction, action, and old movies"
   ]
  },
  {
   "cell_type": "code",
   "execution_count": 9,
   "id": "15dd4587-a328-42cf-aac8-c4cb224c7de0",
   "metadata": {},
   "outputs": [],
   "source": [
    "last_skywalker = np.array([0.98, 0.9, -0.9])"
   ]
  },
  {
   "cell_type": "code",
   "execution_count": 10,
   "id": "392b5c4c-a02a-40c1-b1ab-e53a1ec996c7",
   "metadata": {},
   "outputs": [],
   "source": [
    "user1 = np.array([0.9, 0.8, -0.6])"
   ]
  },
  {
   "cell_type": "markdown",
   "id": "3a649a28-d8e5-4283-8287-231fc6273754",
   "metadata": {},
   "source": [
    "This is saying that The Last Skywalker is a science-fiction movie, it has lots of action, and is not that old of a movie. \n",
    "\n",
    "It is also saying that the user likes science-fiction movies, like action movies, and doesn't like old movies that much.\n",
    "\n",
    "Therefore, if we calculate a match between the movie and the user, we should get a relatively high number."
   ]
  },
  {
   "cell_type": "code",
   "execution_count": 11,
   "id": "3aa93370-69a4-45de-898c-1d08949ea0e9",
   "metadata": {},
   "outputs": [
    {
     "data": {
      "text/plain": [
       "2.1420000000000003"
      ]
     },
     "execution_count": 11,
     "metadata": {},
     "output_type": "execute_result"
    }
   ],
   "source": [
    "(user1*last_skywalker).sum()"
   ]
  },
  {
   "cell_type": "markdown",
   "id": "e989867e-9514-44e0-ac45-527355d4bfe2",
   "metadata": {},
   "source": [
    "We took the dot product of the two vectors in order to calculate the match between the two."
   ]
  },
  {
   "cell_type": "markdown",
   "id": "1a97c262-056d-4b62-b78d-3dc5e089abe5",
   "metadata": {},
   "source": [
    "## Latent Factors"
   ]
  },
  {
   "cell_type": "markdown",
   "id": "f422bc31-c6e2-4f0c-ac45-1febfe0d09a8",
   "metadata": {},
   "source": [
    "The numbers that we set to the user and movies are called latent factors. We can set an arbitrary amount of numbers for latent factors, but in the end they are used the describe the movie and the user. The dot product of these latent factors, in this case, will be the prediction rating the user gives to the movie.\n",
    "\n",
    "The steps to calculate the correct latent factors can be done using stochastic gradient descent.\n",
    "\n",
    "Step 1: Randomly initialize random latent factor values for each movie and user.\n",
    "Step 2: Take the dot product of each movie with each user to calculate a prediction\n",
    "Step 3: Calculate the loss by using our prediction and the actual prediction\n",
    "Step 4: Optimize based on the loss"
   ]
  },
  {
   "cell_type": "markdown",
   "id": "bde45e7e-839b-43d7-aa91-e1014bc2d42b",
   "metadata": {},
   "source": [
    "## Creating Dataloaders"
   ]
  },
  {
   "cell_type": "code",
   "execution_count": 79,
   "id": "b0cbdbe0-3d96-4db6-b778-662a3e31d0c0",
   "metadata": {},
   "outputs": [
    {
     "data": {
      "text/html": [
       "<div>\n",
       "<style scoped>\n",
       "    .dataframe tbody tr th:only-of-type {\n",
       "        vertical-align: middle;\n",
       "    }\n",
       "\n",
       "    .dataframe tbody tr th {\n",
       "        vertical-align: top;\n",
       "    }\n",
       "\n",
       "    .dataframe thead th {\n",
       "        text-align: right;\n",
       "    }\n",
       "</style>\n",
       "<table border=\"1\" class=\"dataframe\">\n",
       "  <thead>\n",
       "    <tr style=\"text-align: right;\">\n",
       "      <th></th>\n",
       "      <th>movie</th>\n",
       "      <th>title</th>\n",
       "    </tr>\n",
       "  </thead>\n",
       "  <tbody>\n",
       "    <tr>\n",
       "      <th>0</th>\n",
       "      <td>1</td>\n",
       "      <td>Toy Story (1995)</td>\n",
       "    </tr>\n",
       "    <tr>\n",
       "      <th>1</th>\n",
       "      <td>2</td>\n",
       "      <td>GoldenEye (1995)</td>\n",
       "    </tr>\n",
       "    <tr>\n",
       "      <th>2</th>\n",
       "      <td>3</td>\n",
       "      <td>Four Rooms (1995)</td>\n",
       "    </tr>\n",
       "    <tr>\n",
       "      <th>3</th>\n",
       "      <td>4</td>\n",
       "      <td>Get Shorty (1995)</td>\n",
       "    </tr>\n",
       "    <tr>\n",
       "      <th>4</th>\n",
       "      <td>5</td>\n",
       "      <td>Copycat (1995)</td>\n",
       "    </tr>\n",
       "  </tbody>\n",
       "</table>\n",
       "</div>"
      ],
      "text/plain": [
       "   movie              title\n",
       "0      1   Toy Story (1995)\n",
       "1      2   GoldenEye (1995)\n",
       "2      3  Four Rooms (1995)\n",
       "3      4  Get Shorty (1995)\n",
       "4      5     Copycat (1995)"
      ]
     },
     "execution_count": 79,
     "metadata": {},
     "output_type": "execute_result"
    }
   ],
   "source": [
    "#This gets the Movie ID and the Movie Title\n",
    "movies = pd.read_csv(path/'u.item', delimiter='|', encoding='latin-1',\n",
    "                    usecols=(0,1), names=('movie', 'title'), header=None)\n",
    "movies.head()"
   ]
  },
  {
   "cell_type": "code",
   "execution_count": 80,
   "id": "e85267ee-c7c7-4957-b27f-f518b21dc4b8",
   "metadata": {},
   "outputs": [
    {
     "data": {
      "text/html": [
       "<div>\n",
       "<style scoped>\n",
       "    .dataframe tbody tr th:only-of-type {\n",
       "        vertical-align: middle;\n",
       "    }\n",
       "\n",
       "    .dataframe tbody tr th {\n",
       "        vertical-align: top;\n",
       "    }\n",
       "\n",
       "    .dataframe thead th {\n",
       "        text-align: right;\n",
       "    }\n",
       "</style>\n",
       "<table border=\"1\" class=\"dataframe\">\n",
       "  <thead>\n",
       "    <tr style=\"text-align: right;\">\n",
       "      <th></th>\n",
       "      <th>user</th>\n",
       "      <th>movie</th>\n",
       "      <th>rating</th>\n",
       "      <th>timestamp</th>\n",
       "      <th>title</th>\n",
       "    </tr>\n",
       "  </thead>\n",
       "  <tbody>\n",
       "    <tr>\n",
       "      <th>0</th>\n",
       "      <td>196</td>\n",
       "      <td>242</td>\n",
       "      <td>3</td>\n",
       "      <td>881250949</td>\n",
       "      <td>Kolya (1996)</td>\n",
       "    </tr>\n",
       "    <tr>\n",
       "      <th>1</th>\n",
       "      <td>186</td>\n",
       "      <td>302</td>\n",
       "      <td>3</td>\n",
       "      <td>891717742</td>\n",
       "      <td>L.A. Confidential (1997)</td>\n",
       "    </tr>\n",
       "    <tr>\n",
       "      <th>2</th>\n",
       "      <td>22</td>\n",
       "      <td>377</td>\n",
       "      <td>1</td>\n",
       "      <td>878887116</td>\n",
       "      <td>Heavyweights (1994)</td>\n",
       "    </tr>\n",
       "    <tr>\n",
       "      <th>3</th>\n",
       "      <td>244</td>\n",
       "      <td>51</td>\n",
       "      <td>2</td>\n",
       "      <td>880606923</td>\n",
       "      <td>Legends of the Fall (1994)</td>\n",
       "    </tr>\n",
       "    <tr>\n",
       "      <th>4</th>\n",
       "      <td>166</td>\n",
       "      <td>346</td>\n",
       "      <td>1</td>\n",
       "      <td>886397596</td>\n",
       "      <td>Jackie Brown (1997)</td>\n",
       "    </tr>\n",
       "  </tbody>\n",
       "</table>\n",
       "</div>"
      ],
      "text/plain": [
       "   user  movie  rating  timestamp                       title\n",
       "0   196    242       3  881250949                Kolya (1996)\n",
       "1   186    302       3  891717742    L.A. Confidential (1997)\n",
       "2    22    377       1  878887116         Heavyweights (1994)\n",
       "3   244     51       2  880606923  Legends of the Fall (1994)\n",
       "4   166    346       1  886397596         Jackie Brown (1997)"
      ]
     },
     "execution_count": 80,
     "metadata": {},
     "output_type": "execute_result"
    }
   ],
   "source": [
    "# Combine the ratings with the movies\n",
    "ratings = ratings.merge(movies)\n",
    "ratings.head()"
   ]
  },
  {
   "cell_type": "markdown",
   "id": "d708ca90-b508-4de1-8e0a-df60f5f70f30",
   "metadata": {},
   "source": [
    "Using Fast.ai, we can build a Dataloaders object from this table."
   ]
  },
  {
   "cell_type": "code",
   "execution_count": 81,
   "id": "c67fecaf-66ab-465c-a7f3-2461bd9989b9",
   "metadata": {},
   "outputs": [
    {
     "data": {
      "text/html": [
       "<table border=\"1\" class=\"dataframe\">\n",
       "  <thead>\n",
       "    <tr style=\"text-align: right;\">\n",
       "      <th></th>\n",
       "      <th>user</th>\n",
       "      <th>title</th>\n",
       "      <th>rating</th>\n",
       "    </tr>\n",
       "  </thead>\n",
       "  <tbody>\n",
       "    <tr>\n",
       "      <th>0</th>\n",
       "      <td>455</td>\n",
       "      <td>Spitfire Grill, The (1996)</td>\n",
       "      <td>5</td>\n",
       "    </tr>\n",
       "    <tr>\n",
       "      <th>1</th>\n",
       "      <td>246</td>\n",
       "      <td>Pulp Fiction (1994)</td>\n",
       "      <td>1</td>\n",
       "    </tr>\n",
       "    <tr>\n",
       "      <th>2</th>\n",
       "      <td>459</td>\n",
       "      <td>Four Rooms (1995)</td>\n",
       "      <td>2</td>\n",
       "    </tr>\n",
       "    <tr>\n",
       "      <th>3</th>\n",
       "      <td>442</td>\n",
       "      <td>Star Trek III: The Search for Spock (1984)</td>\n",
       "      <td>3</td>\n",
       "    </tr>\n",
       "    <tr>\n",
       "      <th>4</th>\n",
       "      <td>360</td>\n",
       "      <td>Jerry Maguire (1996)</td>\n",
       "      <td>4</td>\n",
       "    </tr>\n",
       "    <tr>\n",
       "      <th>5</th>\n",
       "      <td>928</td>\n",
       "      <td>It's a Wonderful Life (1946)</td>\n",
       "      <td>5</td>\n",
       "    </tr>\n",
       "    <tr>\n",
       "      <th>6</th>\n",
       "      <td>256</td>\n",
       "      <td>Full Metal Jacket (1987)</td>\n",
       "      <td>5</td>\n",
       "    </tr>\n",
       "    <tr>\n",
       "      <th>7</th>\n",
       "      <td>224</td>\n",
       "      <td>Disclosure (1994)</td>\n",
       "      <td>3</td>\n",
       "    </tr>\n",
       "    <tr>\n",
       "      <th>8</th>\n",
       "      <td>487</td>\n",
       "      <td>Batman Returns (1992)</td>\n",
       "      <td>1</td>\n",
       "    </tr>\n",
       "    <tr>\n",
       "      <th>9</th>\n",
       "      <td>405</td>\n",
       "      <td>Stargate (1994)</td>\n",
       "      <td>1</td>\n",
       "    </tr>\n",
       "  </tbody>\n",
       "</table>"
      ],
      "text/plain": [
       "<IPython.core.display.HTML object>"
      ]
     },
     "metadata": {},
     "output_type": "display_data"
    }
   ],
   "source": [
    "dls = CollabDataLoaders.from_df(ratings, item_name='title', bs=64)\n",
    "dls.show_batch()"
   ]
  },
  {
   "cell_type": "markdown",
   "id": "7a027153-9ce5-4129-a3fc-aa8f742de22e",
   "metadata": {},
   "source": [
    "Now to create our latent factors we need tensors for the movies and the users. \n",
    "\n",
    "We calculate the latent factors by taking the amount of users and movies and implementing random numbers for the amount of latent factors. We have arbitrarily chosen 5 for this value."
   ]
  },
  {
   "cell_type": "code",
   "execution_count": 82,
   "id": "6380f279-2a42-431d-82c6-677cdd916c5b",
   "metadata": {},
   "outputs": [],
   "source": [
    "n_users = len(dls.classes['user'])\n",
    "n_movies = len(dls.classes['title'])\n",
    "n_factors = 5\n",
    "\n",
    "user_factors = torch.randn(n_users, n_factors)\n",
    "movie_factors = torch.randn(n_movies, n_factors)"
   ]
  },
  {
   "cell_type": "markdown",
   "id": "87e3a3f2-e58b-4d9a-96ed-39fa93da1c53",
   "metadata": {},
   "source": [
    "A problem with models is that they are unable to index and we need that so we can look up the index of a movie or user in our latent factor matrices. Luckily we can encode a one hot vector with index and take the matrix product in order to index a user or movie."
   ]
  },
  {
   "cell_type": "code",
   "execution_count": 20,
   "id": "cb29bce6-476f-409b-bf92-bd2db1de7b9e",
   "metadata": {},
   "outputs": [],
   "source": [
    "one_hot_3 = one_hot(3, n_users).float()"
   ]
  },
  {
   "cell_type": "code",
   "execution_count": 32,
   "id": "c40645d1-3f67-4489-a7b7-aab813bb399b",
   "metadata": {
    "scrolled": true
   },
   "outputs": [
    {
     "data": {
      "text/plain": [
       "torch.Size([944])"
      ]
     },
     "execution_count": 32,
     "metadata": {},
     "output_type": "execute_result"
    }
   ],
   "source": [
    "one_hot_3.shape"
   ]
  },
  {
   "cell_type": "code",
   "execution_count": 31,
   "id": "c0d21fa6-5f1a-42bc-abb4-c6ed08cd8afe",
   "metadata": {},
   "outputs": [
    {
     "data": {
      "text/plain": [
       "torch.Size([5, 944])"
      ]
     },
     "execution_count": 31,
     "metadata": {},
     "output_type": "execute_result"
    }
   ],
   "source": [
    "user_factors.t().shape"
   ]
  },
  {
   "cell_type": "code",
   "execution_count": 34,
   "id": "2c43a338-7040-41c6-a974-0ab87c9ed9d0",
   "metadata": {},
   "outputs": [
    {
     "data": {
      "text/plain": [
       "tensor([-0.7864,  0.9075,  1.5646,  0.1570, -0.5177])"
      ]
     },
     "execution_count": 34,
     "metadata": {},
     "output_type": "execute_result"
    }
   ],
   "source": [
    "user_factors.t()@one_hot_3"
   ]
  },
  {
   "cell_type": "code",
   "execution_count": 33,
   "id": "e3add564-0ce1-4b8b-8d32-178b5789d3b4",
   "metadata": {},
   "outputs": [
    {
     "data": {
      "text/plain": [
       "tensor([-0.7864,  0.9075,  1.5646,  0.1570, -0.5177])"
      ]
     },
     "execution_count": 33,
     "metadata": {},
     "output_type": "execute_result"
    }
   ],
   "source": [
    "user_factors[3]"
   ]
  },
  {
   "cell_type": "markdown",
   "id": "114b6cc3-2bf7-454f-aa02-d9eee2df703a",
   "metadata": {},
   "source": [
    "Notice they both have the same output."
   ]
  },
  {
   "cell_type": "markdown",
   "id": "54528da2-6ece-4b49-a8df-b5753f74f65e",
   "metadata": {},
   "source": [
    "But rather than creating one-hot encoded vectors, we can create a matrix of embeddings which represent the numbers that characterize each user and movie. The great thing is that we don't need to know what each number represents since the model can learn  them by analyzing the existing relations between the users and the movie and determine itself which features seem important or not."
   ]
  },
  {
   "cell_type": "markdown",
   "id": "4174a0c6-1c54-4193-9bc9-5949098b6d28",
   "metadata": {},
   "source": [
    "## From Scratch"
   ]
  },
  {
   "cell_type": "code",
   "execution_count": 49,
   "id": "7478f46e-ca8d-4aa9-8d16-2d50b83919f1",
   "metadata": {},
   "outputs": [],
   "source": [
    "class DotProduct(Module):\n",
    "    def __init__(self, n_users, n_movies, n_factors):\n",
    "        self.user_factors = Embedding(n_users, n_factors)\n",
    "        self.movie_factors = Embedding(n_movies, n_factors)\n",
    "\n",
    "    def forward(self, x):\n",
    "        users = self.user_factors(x[:,0])\n",
    "        movies = self.movie_factors(x[:,1])\n",
    "        return (users*movies).sum(dim=1)\n",
    "        "
   ]
  },
  {
   "cell_type": "markdown",
   "id": "ed716b09-cb66-46f9-9e4e-dacc5054c839",
   "metadata": {},
   "source": [
    "Here we want to create a module that takes in the number of users, movies, and latent factors and create an Embedding for them.\n",
    "\n",
    "Then when we want to move the layer forward we want to take the dot product of the to embeddings."
   ]
  },
  {
   "cell_type": "code",
   "execution_count": 50,
   "id": "161383b5-8551-4e13-bc14-b529a1bc927a",
   "metadata": {},
   "outputs": [
    {
     "data": {
      "text/plain": [
       "torch.Size([64, 2])"
      ]
     },
     "execution_count": 50,
     "metadata": {},
     "output_type": "execute_result"
    }
   ],
   "source": [
    "x, y = dls.one_batch()\n",
    "x.shape"
   ]
  },
  {
   "cell_type": "markdown",
   "id": "a9a90b0e-d31b-4986-9369-ac6597d67f4c",
   "metadata": {},
   "source": [
    "Now that we have our parameter matrices, we need to create a Learner that will optimize our model."
   ]
  },
  {
   "cell_type": "code",
   "execution_count": 51,
   "id": "6cc086e5-7de5-4a93-8984-794fdbf9de72",
   "metadata": {},
   "outputs": [],
   "source": [
    "model = DotProduct(n_users, n_movies, 50)\n",
    "learn = Learner(dls, model, loss_func=MSELossFlat())"
   ]
  },
  {
   "cell_type": "code",
   "execution_count": 52,
   "id": "23dfeb1d-963e-44e2-9cfe-4ac9f7807ad7",
   "metadata": {},
   "outputs": [
    {
     "data": {
      "text/html": [
       "\n",
       "<style>\n",
       "    /* Turns off some styling */\n",
       "    progress {\n",
       "        /* gets rid of default border in Firefox and Opera. */\n",
       "        border: none;\n",
       "        /* Needs to be in here for Safari polyfill so background images work as expected. */\n",
       "        background-size: auto;\n",
       "    }\n",
       "    progress:not([value]), progress:not([value])::-webkit-progress-bar {\n",
       "        background: repeating-linear-gradient(45deg, #7e7e7e, #7e7e7e 10px, #5c5c5c 10px, #5c5c5c 20px);\n",
       "    }\n",
       "    .progress-bar-interrupted, .progress-bar-interrupted::-webkit-progress-bar {\n",
       "        background: #F44336;\n",
       "    }\n",
       "</style>\n"
      ],
      "text/plain": [
       "<IPython.core.display.HTML object>"
      ]
     },
     "metadata": {},
     "output_type": "display_data"
    },
    {
     "data": {
      "text/html": [
       "<table border=\"1\" class=\"dataframe\">\n",
       "  <thead>\n",
       "    <tr style=\"text-align: left;\">\n",
       "      <th>epoch</th>\n",
       "      <th>train_loss</th>\n",
       "      <th>valid_loss</th>\n",
       "      <th>time</th>\n",
       "    </tr>\n",
       "  </thead>\n",
       "  <tbody>\n",
       "    <tr>\n",
       "      <td>0</td>\n",
       "      <td>1.305319</td>\n",
       "      <td>1.321458</td>\n",
       "      <td>00:04</td>\n",
       "    </tr>\n",
       "    <tr>\n",
       "      <td>1</td>\n",
       "      <td>1.066962</td>\n",
       "      <td>1.087329</td>\n",
       "      <td>00:04</td>\n",
       "    </tr>\n",
       "    <tr>\n",
       "      <td>2</td>\n",
       "      <td>0.938822</td>\n",
       "      <td>0.976138</td>\n",
       "      <td>00:04</td>\n",
       "    </tr>\n",
       "    <tr>\n",
       "      <td>3</td>\n",
       "      <td>0.811355</td>\n",
       "      <td>0.899348</td>\n",
       "      <td>00:04</td>\n",
       "    </tr>\n",
       "    <tr>\n",
       "      <td>4</td>\n",
       "      <td>0.759719</td>\n",
       "      <td>0.880791</td>\n",
       "      <td>00:04</td>\n",
       "    </tr>\n",
       "  </tbody>\n",
       "</table>"
      ],
      "text/plain": [
       "<IPython.core.display.HTML object>"
      ]
     },
     "metadata": {},
     "output_type": "display_data"
    }
   ],
   "source": [
    "learn.fit_one_cycle(5, 5e-3)"
   ]
  },
  {
   "cell_type": "markdown",
   "id": "5ebd9c7e-8ce5-484f-a437-e608df5b6e16",
   "metadata": {},
   "source": [
    "The first thing we can do to improve our model is to force the predictions between 0 and 5. The reason is because those are our max predictions.\n",
    "\n",
    "We can do this by using the `sigmoid_range` and using the range `(0, 5.5)`. The reason we use 5.5 is because it never sigmoid never reaches 1 or in this case 5, so we want to use a slightly higher top range."
   ]
  },
  {
   "cell_type": "code",
   "execution_count": 60,
   "id": "7c08158f-7c5a-4008-8f26-66734a4943a8",
   "metadata": {},
   "outputs": [],
   "source": [
    "class DotProduct(Module):\n",
    "    def __init__(self, n_users, n_movies, n_factors, y_range=(0, 5.5)):\n",
    "        self.user_factors = Embedding(n_users, n_factors)\n",
    "        self.movie_factors = Embedding(n_movies, n_factors)\n",
    "        self.y_range= y_range\n",
    "\n",
    "    def forward(self, x):\n",
    "        users = self.user_factors(x[:, 0])\n",
    "        movies = self.movie_factors(x[:, 1])\n",
    "        return sigmoid_range((users*movies).sum(dim=1), *self.y_range)"
   ]
  },
  {
   "cell_type": "code",
   "execution_count": 61,
   "id": "51661dd3-252a-44ae-a308-a3c90db0619d",
   "metadata": {},
   "outputs": [
    {
     "data": {
      "text/html": [
       "\n",
       "<style>\n",
       "    /* Turns off some styling */\n",
       "    progress {\n",
       "        /* gets rid of default border in Firefox and Opera. */\n",
       "        border: none;\n",
       "        /* Needs to be in here for Safari polyfill so background images work as expected. */\n",
       "        background-size: auto;\n",
       "    }\n",
       "    progress:not([value]), progress:not([value])::-webkit-progress-bar {\n",
       "        background: repeating-linear-gradient(45deg, #7e7e7e, #7e7e7e 10px, #5c5c5c 10px, #5c5c5c 20px);\n",
       "    }\n",
       "    .progress-bar-interrupted, .progress-bar-interrupted::-webkit-progress-bar {\n",
       "        background: #F44336;\n",
       "    }\n",
       "</style>\n"
      ],
      "text/plain": [
       "<IPython.core.display.HTML object>"
      ]
     },
     "metadata": {},
     "output_type": "display_data"
    },
    {
     "data": {
      "text/html": [
       "<table border=\"1\" class=\"dataframe\">\n",
       "  <thead>\n",
       "    <tr style=\"text-align: left;\">\n",
       "      <th>epoch</th>\n",
       "      <th>train_loss</th>\n",
       "      <th>valid_loss</th>\n",
       "      <th>time</th>\n",
       "    </tr>\n",
       "  </thead>\n",
       "  <tbody>\n",
       "    <tr>\n",
       "      <td>0</td>\n",
       "      <td>1.011800</td>\n",
       "      <td>1.006575</td>\n",
       "      <td>00:04</td>\n",
       "    </tr>\n",
       "    <tr>\n",
       "      <td>1</td>\n",
       "      <td>0.865396</td>\n",
       "      <td>0.912627</td>\n",
       "      <td>00:04</td>\n",
       "    </tr>\n",
       "    <tr>\n",
       "      <td>2</td>\n",
       "      <td>0.691703</td>\n",
       "      <td>0.875875</td>\n",
       "      <td>00:04</td>\n",
       "    </tr>\n",
       "    <tr>\n",
       "      <td>3</td>\n",
       "      <td>0.487135</td>\n",
       "      <td>0.883337</td>\n",
       "      <td>00:04</td>\n",
       "    </tr>\n",
       "    <tr>\n",
       "      <td>4</td>\n",
       "      <td>0.357841</td>\n",
       "      <td>0.887203</td>\n",
       "      <td>00:04</td>\n",
       "    </tr>\n",
       "  </tbody>\n",
       "</table>"
      ],
      "text/plain": [
       "<IPython.core.display.HTML object>"
      ]
     },
     "metadata": {},
     "output_type": "display_data"
    }
   ],
   "source": [
    "model = DotProduct(n_users, n_movies, 50)\n",
    "learn = Learner(dls, model, loss_func=MSELossFlat())\n",
    "learn.fit_one_cycle(5, 5e-3)"
   ]
  },
  {
   "cell_type": "markdown",
   "id": "f8476b47-990d-4c2c-a1a0-77434927e1c0",
   "metadata": {},
   "source": [
    "It did around the same, but we can do better. \n",
    "\n",
    "We can improve this model by adding biases. Objectively, some users will like movies less and some will like more. This is similar to movies, some will be objectively better and more liked and some are not liked at all even by those who enjoy the genre. We can add this bias into the model by creating singular embedding for the bias to account for this."
   ]
  },
  {
   "cell_type": "code",
   "execution_count": 83,
   "id": "486ac9ba-466e-4815-a5b1-72ff3d2048ee",
   "metadata": {},
   "outputs": [],
   "source": [
    "class DotProductBias(Module):\n",
    "    def __init__(self, n_users, n_movies, n_factors, y_range=(0, 5.5)):\n",
    "        self.user_factors = Embedding(n_users, n_factors)\n",
    "        self.user_bias = Embedding(n_users, 1)\n",
    "        self.movie_factors = Embedding(n_movies, n_factors)\n",
    "        self.movie_bias = Embedding(n_movies, 1)\n",
    "        self.y_range= y_range\n",
    "\n",
    "    def forward(self, x):\n",
    "        users = self.user_factors(x[:, 0])\n",
    "        movies = self.movie_factors(x[:, 1])\n",
    "        res = (users*movies).sum(dim=1, keepdim=True)     \n",
    "        res += self.user_bias(x[:, 0]) + self.movie_bias(x[:, 1])\n",
    "        return sigmoid_range(res, *self.y_range)"
   ]
  },
  {
   "cell_type": "code",
   "execution_count": 84,
   "id": "7af11737-7f30-4312-851f-64a68fff61da",
   "metadata": {},
   "outputs": [
    {
     "data": {
      "text/html": [
       "\n",
       "<style>\n",
       "    /* Turns off some styling */\n",
       "    progress {\n",
       "        /* gets rid of default border in Firefox and Opera. */\n",
       "        border: none;\n",
       "        /* Needs to be in here for Safari polyfill so background images work as expected. */\n",
       "        background-size: auto;\n",
       "    }\n",
       "    progress:not([value]), progress:not([value])::-webkit-progress-bar {\n",
       "        background: repeating-linear-gradient(45deg, #7e7e7e, #7e7e7e 10px, #5c5c5c 10px, #5c5c5c 20px);\n",
       "    }\n",
       "    .progress-bar-interrupted, .progress-bar-interrupted::-webkit-progress-bar {\n",
       "        background: #F44336;\n",
       "    }\n",
       "</style>\n"
      ],
      "text/plain": [
       "<IPython.core.display.HTML object>"
      ]
     },
     "metadata": {},
     "output_type": "display_data"
    },
    {
     "data": {
      "text/html": [
       "<table border=\"1\" class=\"dataframe\">\n",
       "  <thead>\n",
       "    <tr style=\"text-align: left;\">\n",
       "      <th>epoch</th>\n",
       "      <th>train_loss</th>\n",
       "      <th>valid_loss</th>\n",
       "      <th>time</th>\n",
       "    </tr>\n",
       "  </thead>\n",
       "  <tbody>\n",
       "    <tr>\n",
       "      <td>0</td>\n",
       "      <td>0.908446</td>\n",
       "      <td>0.946999</td>\n",
       "      <td>00:04</td>\n",
       "    </tr>\n",
       "    <tr>\n",
       "      <td>1</td>\n",
       "      <td>0.803615</td>\n",
       "      <td>0.874721</td>\n",
       "      <td>00:04</td>\n",
       "    </tr>\n",
       "    <tr>\n",
       "      <td>2</td>\n",
       "      <td>0.621487</td>\n",
       "      <td>0.867619</td>\n",
       "      <td>00:04</td>\n",
       "    </tr>\n",
       "    <tr>\n",
       "      <td>3</td>\n",
       "      <td>0.411512</td>\n",
       "      <td>0.893405</td>\n",
       "      <td>00:04</td>\n",
       "    </tr>\n",
       "    <tr>\n",
       "      <td>4</td>\n",
       "      <td>0.293098</td>\n",
       "      <td>0.900004</td>\n",
       "      <td>00:04</td>\n",
       "    </tr>\n",
       "  </tbody>\n",
       "</table>"
      ],
      "text/plain": [
       "<IPython.core.display.HTML object>"
      ]
     },
     "metadata": {},
     "output_type": "display_data"
    }
   ],
   "source": [
    "model = DotProductBias(n_users, n_movies, 50)\n",
    "learn = Learner(dls, model, loss_func=MSELossFlat())\n",
    "learn.fit_one_cycle(5,5e-3)"
   ]
  },
  {
   "cell_type": "markdown",
   "id": "4cbd14f4-98ed-4fb8-93ef-c672b0e3db76",
   "metadata": {},
   "source": [
    "Notice how initially we were improving our loss until it suddenly got worse again. This is a sign that we are overfitting.\n",
    "\n",
    "In this case, we are unable to use other overfitting techniques such as data augmentation. So we can use another regularization technique called weight decay also known as `L2 Regularization`."
   ]
  },
  {
   "cell_type": "markdown",
   "id": "6fc4d7cb-2799-433a-b8a4-a359cb1efb52",
   "metadata": {},
   "source": [
    "## Weight Decay"
   ]
  },
  {
   "cell_type": "markdown",
   "id": "33115a08-25e9-4083-9909-2923ce7fcb46",
   "metadata": {},
   "source": [
    "L2 regularization consists of adding the sum of all the weights squared to the loss function. \n",
    "\n",
    "Why would this prevent overfitting? The idea is that the larger the coefficients are, the more narrow the canyons of loss are in the loss functions. As a result, it may be prone to overfitting due the sharp changes in loss.\n",
    "\n",
    "Therefore, in order to prevent this we limit our weights from growing too much by adding weight decay which can lead to a more generalized state of the model."
   ]
  },
  {
   "cell_type": "code",
   "execution_count": 85,
   "id": "1fe645c5-1f12-425c-b376-03459bf173bd",
   "metadata": {
    "scrolled": true
   },
   "outputs": [
    {
     "data": {
      "text/html": [
       "\n",
       "<style>\n",
       "    /* Turns off some styling */\n",
       "    progress {\n",
       "        /* gets rid of default border in Firefox and Opera. */\n",
       "        border: none;\n",
       "        /* Needs to be in here for Safari polyfill so background images work as expected. */\n",
       "        background-size: auto;\n",
       "    }\n",
       "    progress:not([value]), progress:not([value])::-webkit-progress-bar {\n",
       "        background: repeating-linear-gradient(45deg, #7e7e7e, #7e7e7e 10px, #5c5c5c 10px, #5c5c5c 20px);\n",
       "    }\n",
       "    .progress-bar-interrupted, .progress-bar-interrupted::-webkit-progress-bar {\n",
       "        background: #F44336;\n",
       "    }\n",
       "</style>\n"
      ],
      "text/plain": [
       "<IPython.core.display.HTML object>"
      ]
     },
     "metadata": {},
     "output_type": "display_data"
    },
    {
     "data": {
      "text/html": [
       "<table border=\"1\" class=\"dataframe\">\n",
       "  <thead>\n",
       "    <tr style=\"text-align: left;\">\n",
       "      <th>epoch</th>\n",
       "      <th>train_loss</th>\n",
       "      <th>valid_loss</th>\n",
       "      <th>time</th>\n",
       "    </tr>\n",
       "  </thead>\n",
       "  <tbody>\n",
       "    <tr>\n",
       "      <td>0</td>\n",
       "      <td>0.918322</td>\n",
       "      <td>0.967041</td>\n",
       "      <td>00:04</td>\n",
       "    </tr>\n",
       "    <tr>\n",
       "      <td>1</td>\n",
       "      <td>0.834799</td>\n",
       "      <td>0.885202</td>\n",
       "      <td>00:04</td>\n",
       "    </tr>\n",
       "    <tr>\n",
       "      <td>2</td>\n",
       "      <td>0.724392</td>\n",
       "      <td>0.843343</td>\n",
       "      <td>00:04</td>\n",
       "    </tr>\n",
       "    <tr>\n",
       "      <td>3</td>\n",
       "      <td>0.574966</td>\n",
       "      <td>0.831643</td>\n",
       "      <td>00:04</td>\n",
       "    </tr>\n",
       "    <tr>\n",
       "      <td>4</td>\n",
       "      <td>0.493969</td>\n",
       "      <td>0.832477</td>\n",
       "      <td>00:04</td>\n",
       "    </tr>\n",
       "  </tbody>\n",
       "</table>"
      ],
      "text/plain": [
       "<IPython.core.display.HTML object>"
      ]
     },
     "metadata": {},
     "output_type": "display_data"
    }
   ],
   "source": [
    "model = DotProductBias(n_users, n_movies, 50)\n",
    "learn = Learner(dls, model, loss_func=MSELossFlat())\n",
    "learn.fit_one_cycle(5, 5e-3, wd=0.1)"
   ]
  },
  {
   "cell_type": "markdown",
   "id": "e55609c6-eeab-4525-a1ea-de18bf8323aa",
   "metadata": {},
   "source": [
    "The model did much better now!"
   ]
  },
  {
   "cell_type": "markdown",
   "id": "381673f1-b39a-4efe-ad78-929e5966763a",
   "metadata": {},
   "source": [
    "## Creating our own Embedding Module"
   ]
  },
  {
   "cell_type": "markdown",
   "id": "d0f2cd6c-833b-4468-86d3-9eebbd523758",
   "metadata": {},
   "source": [
    "So far, we utilized the `Embedding` module as a black box. We are going to recreate it so we can understanding how the Embedding Module really works.\n",
    "\n",
    "In order to create an embedding matrix, we need a randomly initialize weight matrix for each of the embeddings. We also need to make sure the Learner knows these are parameters to be optimized so we need to wrap the in the `Parameter Class`. It doesn't add any new functionality but gives it an attribute the model knows."
   ]
  },
  {
   "cell_type": "code",
   "execution_count": 86,
   "id": "46641691-2f6a-4959-bf42-f7362c65e78f",
   "metadata": {},
   "outputs": [
    {
     "data": {
      "text/plain": [
       "(#1) [Parameter containing:\n",
       "tensor([1., 1., 1.], requires_grad=True)]"
      ]
     },
     "execution_count": 86,
     "metadata": {},
     "output_type": "execute_result"
    }
   ],
   "source": [
    "class T(Module):\n",
    "    def __init__(self): self.a = nn.Parameter(torch.ones(3))\n",
    "\n",
    "L(T().parameters())"
   ]
  },
  {
   "cell_type": "code",
   "execution_count": 87,
   "id": "0fa4f364-d503-4de8-ab69-f5034d84c981",
   "metadata": {},
   "outputs": [],
   "source": [
    "def create_params(size):\n",
    "    return nn.Parameter(torch.zeros(*size).normal_(0,0.01))"
   ]
  },
  {
   "cell_type": "markdown",
   "id": "ba00fbee-899f-4059-9f5a-8f74f9fa89a4",
   "metadata": {},
   "source": [
    "This class creates a parameter matrix of `size` with a gaussian distribution parameterized by `0, 0.01`."
   ]
  },
  {
   "cell_type": "markdown",
   "id": "f23a88e2-8e30-4564-b5f1-6f2c3bac16e8",
   "metadata": {},
   "source": [
    "Now we can recreate the `DotProductBias` model without `Embedding`."
   ]
  },
  {
   "cell_type": "code",
   "execution_count": 89,
   "id": "b1f460f7-76ed-4d59-a900-0f645be28875",
   "metadata": {},
   "outputs": [],
   "source": [
    "class DotProductBias(Module):\n",
    "    def __init__(self, n_users, n_movies, n_factors, y_range=(0,5.5)):\n",
    "        self.user_factors = create_params([n_users, n_factors])\n",
    "        self.user_bias = create_params([n_users])\n",
    "        self.movie_factors = create_params([n_movies, n_factors])\n",
    "        self.movie_bias = create_params([n_movies])\n",
    "        self.y_range = y_range\n",
    "        \n",
    "    def forward(self, x):\n",
    "        users = self.user_factors[x[:,0]]\n",
    "        movies = self.movie_factors[x[:,1]]\n",
    "        res = (users*movies).sum(dim=1)\n",
    "        res += self.user_bias[x[:,0]] + self.movie_bias[x[:,1]]\n",
    "        return sigmoid_range(res, *self.y_range)"
   ]
  },
  {
   "cell_type": "code",
   "execution_count": 90,
   "id": "adabed8d-383d-43d4-a314-36c0e1d80bdb",
   "metadata": {},
   "outputs": [
    {
     "data": {
      "text/html": [
       "\n",
       "<style>\n",
       "    /* Turns off some styling */\n",
       "    progress {\n",
       "        /* gets rid of default border in Firefox and Opera. */\n",
       "        border: none;\n",
       "        /* Needs to be in here for Safari polyfill so background images work as expected. */\n",
       "        background-size: auto;\n",
       "    }\n",
       "    progress:not([value]), progress:not([value])::-webkit-progress-bar {\n",
       "        background: repeating-linear-gradient(45deg, #7e7e7e, #7e7e7e 10px, #5c5c5c 10px, #5c5c5c 20px);\n",
       "    }\n",
       "    .progress-bar-interrupted, .progress-bar-interrupted::-webkit-progress-bar {\n",
       "        background: #F44336;\n",
       "    }\n",
       "</style>\n"
      ],
      "text/plain": [
       "<IPython.core.display.HTML object>"
      ]
     },
     "metadata": {},
     "output_type": "display_data"
    },
    {
     "data": {
      "text/html": [
       "<table border=\"1\" class=\"dataframe\">\n",
       "  <thead>\n",
       "    <tr style=\"text-align: left;\">\n",
       "      <th>epoch</th>\n",
       "      <th>train_loss</th>\n",
       "      <th>valid_loss</th>\n",
       "      <th>time</th>\n",
       "    </tr>\n",
       "  </thead>\n",
       "  <tbody>\n",
       "    <tr>\n",
       "      <td>0</td>\n",
       "      <td>0.936474</td>\n",
       "      <td>0.963015</td>\n",
       "      <td>00:04</td>\n",
       "    </tr>\n",
       "    <tr>\n",
       "      <td>1</td>\n",
       "      <td>0.850228</td>\n",
       "      <td>0.878349</td>\n",
       "      <td>00:04</td>\n",
       "    </tr>\n",
       "    <tr>\n",
       "      <td>2</td>\n",
       "      <td>0.738113</td>\n",
       "      <td>0.840014</td>\n",
       "      <td>00:05</td>\n",
       "    </tr>\n",
       "    <tr>\n",
       "      <td>3</td>\n",
       "      <td>0.575747</td>\n",
       "      <td>0.828917</td>\n",
       "      <td>00:04</td>\n",
       "    </tr>\n",
       "    <tr>\n",
       "      <td>4</td>\n",
       "      <td>0.470256</td>\n",
       "      <td>0.829888</td>\n",
       "      <td>00:04</td>\n",
       "    </tr>\n",
       "  </tbody>\n",
       "</table>"
      ],
      "text/plain": [
       "<IPython.core.display.HTML object>"
      ]
     },
     "metadata": {},
     "output_type": "display_data"
    }
   ],
   "source": [
    "model = DotProductBias(n_users, n_movies, 50)\n",
    "learn = Learner(dls, model, loss_func=MSELossFlat())\n",
    "learn.fit_one_cycle(5, 5e-3, wd=0.1)"
   ]
  },
  {
   "cell_type": "markdown",
   "id": "61baca9a-6a65-4608-9a5b-bd16777a64f2",
   "metadata": {},
   "source": [
    "## Interpretting Embeddings and Biases"
   ]
  },
  {
   "cell_type": "markdown",
   "id": "1f0cc402-e785-4a63-af68-c5f06d1b91e9",
   "metadata": {},
   "source": [
    "The model now can give us prediction on movies based on the users, but it looking deeply at the parameters we can find some interesting information.\n",
    "\n",
    "For example movies that now have a low bias embedding means that these movies weren't really liked by anyone and vice versa."
   ]
  },
  {
   "cell_type": "code",
   "execution_count": 97,
   "id": "f36dabcd-86d9-4f16-b811-20b1a4149301",
   "metadata": {},
   "outputs": [
    {
     "data": {
      "text/plain": [
       "['Children of the Corn: The Gathering (1996)',\n",
       " 'Lawnmower Man 2: Beyond Cyberspace (1996)',\n",
       " 'Crow: City of Angels, The (1996)',\n",
       " 'Robocop 3 (1993)',\n",
       " 'Barb Wire (1996)']"
      ]
     },
     "execution_count": 97,
     "metadata": {},
     "output_type": "execute_result"
    }
   ],
   "source": [
    "movie_bias = learn.model.movie_bias.squeeze()\n",
    "idxs = movie_bias.argsort()[:5]\n",
    "[dls.classes['title'][i] for i in idxs]"
   ]
  },
  {
   "cell_type": "code",
   "execution_count": 98,
   "id": "4b67c9d3-445a-4aa5-8ef0-61928a23f4d0",
   "metadata": {},
   "outputs": [
    {
     "data": {
      "text/plain": [
       "['Shawshank Redemption, The (1994)',\n",
       " \"Schindler's List (1993)\",\n",
       " 'Titanic (1997)',\n",
       " 'Star Wars (1977)',\n",
       " 'Silence of the Lambs, The (1991)']"
      ]
     },
     "execution_count": 98,
     "metadata": {},
     "output_type": "execute_result"
    }
   ],
   "source": [
    "idxs = movie_bias.argsort(descending=True)[:5]\n",
    "[dls.classes['title'][i] for i in idxs]"
   ]
  },
  {
   "cell_type": "markdown",
   "id": "41d34066-ec25-4af5-9dce-30e9cc9f13b1",
   "metadata": {},
   "source": [
    "There are other ways to look at embeddings and that is by conducting a principal component analysis. This pulls out the most important underlying directions in a matrix"
   ]
  },
  {
   "cell_type": "code",
   "execution_count": 99,
   "id": "ac8bfdc0-20b8-45fc-a54f-8cfda7ecfff4",
   "metadata": {},
   "outputs": [
    {
     "data": {
      "image/png": "[encoded data removed]",
      "text/plain": [
       "<Figure size 1200x1200 with 1 Axes>"
      ]
     },
     "metadata": {},
     "output_type": "display_data"
    }
   ],
   "source": [
    "g = ratings.groupby('title')['rating'].count()\n",
    "top_movies = g.sort_values(ascending=False).index.values[:1000]\n",
    "top_idxs = tensor([learn.dls.classes['title'].o2i[m] for m in top_movies])\n",
    "movie_w = learn.model.movie_factors[top_idxs].cpu().detach()\n",
    "movie_pca = movie_w.pca(3)\n",
    "fac0,fac1,fac2 = movie_pca.t()\n",
    "idxs = list(range(50))\n",
    "X = fac0[idxs]\n",
    "Y = fac2[idxs]\n",
    "plt.figure(figsize=(12,12))\n",
    "plt.scatter(X, Y)\n",
    "for i, x, y in zip(top_movies[idxs], X, Y):\n",
    "    plt.text(x,y,i, color=np.random.rand(3)*0.7, fontsize=11)\n",
    "plt.show()"
   ]
  },
  {
   "cell_type": "markdown",
   "id": "dac4a2aa-60bc-49d8-b157-fa593ecafb4e",
   "metadata": {},
   "source": [
    "As you can see, movies that are generally similar are shown to be in the same area."
   ]
  },
  {
   "cell_type": "markdown",
   "id": "4f14eed0-f162-4c80-91f4-b2000b8254ba",
   "metadata": {},
   "source": [
    "### Using Fast.ai\n",
    "\n",
    "We can do everything faster by using a library such as fast.ai to do the bulk of the work for us using collab_learner."
   ]
  },
  {
   "cell_type": "code",
   "execution_count": 104,
   "id": "2bcf951f-03f2-4088-8ae9-75641ac8dd4a",
   "metadata": {},
   "outputs": [],
   "source": [
    "learn = collab_learner(dls, n_factors=50, y_range=(0, 5.5))"
   ]
  },
  {
   "cell_type": "code",
   "execution_count": 105,
   "id": "cabcffab-73d8-452b-96af-52b1dadea9c4",
   "metadata": {},
   "outputs": [
    {
     "data": {
      "text/html": [
       "\n",
       "<style>\n",
       "    /* Turns off some styling */\n",
       "    progress {\n",
       "        /* gets rid of default border in Firefox and Opera. */\n",
       "        border: none;\n",
       "        /* Needs to be in here for Safari polyfill so background images work as expected. */\n",
       "        background-size: auto;\n",
       "    }\n",
       "    progress:not([value]), progress:not([value])::-webkit-progress-bar {\n",
       "        background: repeating-linear-gradient(45deg, #7e7e7e, #7e7e7e 10px, #5c5c5c 10px, #5c5c5c 20px);\n",
       "    }\n",
       "    .progress-bar-interrupted, .progress-bar-interrupted::-webkit-progress-bar {\n",
       "        background: #F44336;\n",
       "    }\n",
       "</style>\n"
      ],
      "text/plain": [
       "<IPython.core.display.HTML object>"
      ]
     },
     "metadata": {},
     "output_type": "display_data"
    },
    {
     "data": {
      "text/html": [
       "<table border=\"1\" class=\"dataframe\">\n",
       "  <thead>\n",
       "    <tr style=\"text-align: left;\">\n",
       "      <th>epoch</th>\n",
       "      <th>train_loss</th>\n",
       "      <th>valid_loss</th>\n",
       "      <th>time</th>\n",
       "    </tr>\n",
       "  </thead>\n",
       "  <tbody>\n",
       "    <tr>\n",
       "      <td>0</td>\n",
       "      <td>1.000430</td>\n",
       "      <td>0.965530</td>\n",
       "      <td>00:04</td>\n",
       "    </tr>\n",
       "    <tr>\n",
       "      <td>1</td>\n",
       "      <td>0.860607</td>\n",
       "      <td>0.882545</td>\n",
       "      <td>00:04</td>\n",
       "    </tr>\n",
       "    <tr>\n",
       "      <td>2</td>\n",
       "      <td>0.734349</td>\n",
       "      <td>0.838787</td>\n",
       "      <td>00:04</td>\n",
       "    </tr>\n",
       "    <tr>\n",
       "      <td>3</td>\n",
       "      <td>0.628241</td>\n",
       "      <td>0.826765</td>\n",
       "      <td>00:04</td>\n",
       "    </tr>\n",
       "    <tr>\n",
       "      <td>4</td>\n",
       "      <td>0.477939</td>\n",
       "      <td>0.828091</td>\n",
       "      <td>00:04</td>\n",
       "    </tr>\n",
       "  </tbody>\n",
       "</table>"
      ],
      "text/plain": [
       "<IPython.core.display.HTML object>"
      ]
     },
     "metadata": {},
     "output_type": "display_data"
    }
   ],
   "source": [
    "learn.fit_one_cycle(5, 5e-3, wd=0.1)"
   ]
  },
  {
   "cell_type": "code",
   "execution_count": 106,
   "id": "09c68748-9a6a-4ec3-990c-6b5ef0f42a9b",
   "metadata": {},
   "outputs": [
    {
     "data": {
      "text/plain": [
       "EmbeddingDotBias(\n",
       "  (u_weight): Embedding(944, 50)\n",
       "  (i_weight): Embedding(1665, 50)\n",
       "  (u_bias): Embedding(944, 1)\n",
       "  (i_bias): Embedding(1665, 1)\n",
       ")"
      ]
     },
     "execution_count": 106,
     "metadata": {},
     "output_type": "execute_result"
    }
   ],
   "source": [
    "learn.model"
   ]
  },
  {
   "cell_type": "markdown",
   "id": "efae6653-baea-44eb-b3d4-079f61573469",
   "metadata": {},
   "source": [
    "As we can see, it created a similar model to that we created before from scratch."
   ]
  },
  {
   "cell_type": "markdown",
   "id": "06d0618b-48b6-49f1-8c07-6be10f4aeefc",
   "metadata": {},
   "source": [
    "## Deep learning for Collaborative Filtering"
   ]
  },
  {
   "cell_type": "markdown",
   "id": "e54aace2-2584-49ac-a916-5409e3ce1555",
   "metadata": {},
   "source": [
    "Currently our model is a simple dot product of embeddings and a opitmization from stochatstic gradient descent. We can extend this architecture to a deep learning model by concatinating the embeeding and activations together and pass them through linear and nonlinearities in the usual way.\n",
    "\n",
    "Since we are concatinating the embeddings and not taking the dot product, this means that we can have different sizes for the embeddings for the users and movies. We can use fast.ai for a recomendation on the embedding layer size."
   ]
  },
  {
   "cell_type": "code",
   "execution_count": 124,
   "id": "d387faf4-dc38-4423-95e9-9d46095ccee9",
   "metadata": {},
   "outputs": [
    {
     "data": {
      "text/plain": [
       "[(944, 74), (1665, 102)]"
      ]
     },
     "execution_count": 124,
     "metadata": {},
     "output_type": "execute_result"
    }
   ],
   "source": [
    "embs = get_emb_sz(dls)\n",
    "embs"
   ]
  },
  {
   "cell_type": "code",
   "execution_count": 128,
   "id": "e8382721-d4f9-459f-8ed8-c808fccf4dc0",
   "metadata": {},
   "outputs": [],
   "source": [
    "class CollabNN(Module):\n",
    "    def __init__(self, user_sz, item_sz, y_range=(0,5.5), n_act=100):\n",
    "        self.user_factors = Embedding(*user_sz)\n",
    "        self.item_factors = Embedding(*item_sz)\n",
    "        self.layers = nn.Sequential(\n",
    "            nn.Linear(user_sz[1]+item_sz[1], n_act), # Create a Linear Layer of the input user and movie embeddinhg size with n_act output activations \n",
    "            nn.ReLU(), # Put it throw a ReLU\n",
    "            nn.Linear(n_act, 1)) # Linear Layer to put it to one output\n",
    "        self.y_range = y_range\n",
    "\n",
    "    def forward(self, x):\n",
    "        embs = self.user_factors(x[:, 0]), self.item_factors(x[:, 1]) # Get the embeddings\n",
    "        x = self.layers(torch.cat(embs, dim=1)) # Concatinate the embeddings from the layers \n",
    "        return sigmoid_range(x, *self.y_range) # Get the sigmoid of the embeddings"
   ]
  },
  {
   "cell_type": "code",
   "execution_count": 129,
   "id": "1d8fd337-18f2-4ef2-93ea-cce2f5724419",
   "metadata": {},
   "outputs": [],
   "source": [
    "model = CollabNN(*embs)"
   ]
  },
  {
   "cell_type": "code",
   "execution_count": 130,
   "id": "6653c249-003b-4d5f-b322-f10bfe49b961",
   "metadata": {},
   "outputs": [
    {
     "data": {
      "text/html": [
       "\n",
       "<style>\n",
       "    /* Turns off some styling */\n",
       "    progress {\n",
       "        /* gets rid of default border in Firefox and Opera. */\n",
       "        border: none;\n",
       "        /* Needs to be in here for Safari polyfill so background images work as expected. */\n",
       "        background-size: auto;\n",
       "    }\n",
       "    progress:not([value]), progress:not([value])::-webkit-progress-bar {\n",
       "        background: repeating-linear-gradient(45deg, #7e7e7e, #7e7e7e 10px, #5c5c5c 10px, #5c5c5c 20px);\n",
       "    }\n",
       "    .progress-bar-interrupted, .progress-bar-interrupted::-webkit-progress-bar {\n",
       "        background: #F44336;\n",
       "    }\n",
       "</style>\n"
      ],
      "text/plain": [
       "<IPython.core.display.HTML object>"
      ]
     },
     "metadata": {},
     "output_type": "display_data"
    },
    {
     "data": {
      "text/html": [
       "<table border=\"1\" class=\"dataframe\">\n",
       "  <thead>\n",
       "    <tr style=\"text-align: left;\">\n",
       "      <th>epoch</th>\n",
       "      <th>train_loss</th>\n",
       "      <th>valid_loss</th>\n",
       "      <th>time</th>\n",
       "    </tr>\n",
       "  </thead>\n",
       "  <tbody>\n",
       "    <tr>\n",
       "      <td>0</td>\n",
       "      <td>0.951665</td>\n",
       "      <td>0.946877</td>\n",
       "      <td>00:07</td>\n",
       "    </tr>\n",
       "    <tr>\n",
       "      <td>1</td>\n",
       "      <td>0.892001</td>\n",
       "      <td>0.927861</td>\n",
       "      <td>00:07</td>\n",
       "    </tr>\n",
       "    <tr>\n",
       "      <td>2</td>\n",
       "      <td>0.838990</td>\n",
       "      <td>0.885077</td>\n",
       "      <td>00:07</td>\n",
       "    </tr>\n",
       "    <tr>\n",
       "      <td>3</td>\n",
       "      <td>0.814148</td>\n",
       "      <td>0.871359</td>\n",
       "      <td>00:07</td>\n",
       "    </tr>\n",
       "    <tr>\n",
       "      <td>4</td>\n",
       "      <td>0.764098</td>\n",
       "      <td>0.875821</td>\n",
       "      <td>00:07</td>\n",
       "    </tr>\n",
       "  </tbody>\n",
       "</table>"
      ],
      "text/plain": [
       "<IPython.core.display.HTML object>"
      ]
     },
     "metadata": {},
     "output_type": "display_data"
    }
   ],
   "source": [
    "learn = Learner(dls, model, loss_func=MSELossFlat())\n",
    "learn.fit_one_cycle(5, 5e-3, wd=0.01)"
   ]
  },
  {
   "cell_type": "markdown",
   "id": "d6f78d53-9501-4987-a377-55a00a629f68",
   "metadata": {},
   "source": [
    "CollabNN creates a mini-neural network that has a forward where were apply the embeddings, concatenate the results, and pass this through the mini-neural net. Then we apply the sigmoid range"
   ]
  },
  {
   "cell_type": "markdown",
   "id": "9c87caf7-9bfc-4a18-a5f9-21f32bcaa2e6",
   "metadata": {},
   "source": [
    "We can also pass more layers in the neural net with fast.ai.\n",
    "\n",
    "Here we are creating a neural network with two extra layers of 100 and 50."
   ]
  },
  {
   "cell_type": "code",
   "execution_count": 135,
   "id": "b8e03290-473d-4544-9630-ecae8353214b",
   "metadata": {},
   "outputs": [
    {
     "data": {
      "text/html": [
       "\n",
       "<style>\n",
       "    /* Turns off some styling */\n",
       "    progress {\n",
       "        /* gets rid of default border in Firefox and Opera. */\n",
       "        border: none;\n",
       "        /* Needs to be in here for Safari polyfill so background images work as expected. */\n",
       "        background-size: auto;\n",
       "    }\n",
       "    progress:not([value]), progress:not([value])::-webkit-progress-bar {\n",
       "        background: repeating-linear-gradient(45deg, #7e7e7e, #7e7e7e 10px, #5c5c5c 10px, #5c5c5c 20px);\n",
       "    }\n",
       "    .progress-bar-interrupted, .progress-bar-interrupted::-webkit-progress-bar {\n",
       "        background: #F44336;\n",
       "    }\n",
       "</style>\n"
      ],
      "text/plain": [
       "<IPython.core.display.HTML object>"
      ]
     },
     "metadata": {},
     "output_type": "display_data"
    },
    {
     "data": {
      "text/html": [
       "<table border=\"1\" class=\"dataframe\">\n",
       "  <thead>\n",
       "    <tr style=\"text-align: left;\">\n",
       "      <th>epoch</th>\n",
       "      <th>train_loss</th>\n",
       "      <th>valid_loss</th>\n",
       "      <th>time</th>\n",
       "    </tr>\n",
       "  </thead>\n",
       "  <tbody>\n",
       "    <tr>\n",
       "      <td>0</td>\n",
       "      <td>0.997483</td>\n",
       "      <td>0.975779</td>\n",
       "      <td>00:08</td>\n",
       "    </tr>\n",
       "    <tr>\n",
       "      <td>1</td>\n",
       "      <td>0.910320</td>\n",
       "      <td>0.937211</td>\n",
       "      <td>00:08</td>\n",
       "    </tr>\n",
       "    <tr>\n",
       "      <td>2</td>\n",
       "      <td>0.880771</td>\n",
       "      <td>0.897695</td>\n",
       "      <td>00:08</td>\n",
       "    </tr>\n",
       "    <tr>\n",
       "      <td>3</td>\n",
       "      <td>0.806628</td>\n",
       "      <td>0.870326</td>\n",
       "      <td>00:08</td>\n",
       "    </tr>\n",
       "    <tr>\n",
       "      <td>4</td>\n",
       "      <td>0.773416</td>\n",
       "      <td>0.865377</td>\n",
       "      <td>00:08</td>\n",
       "    </tr>\n",
       "  </tbody>\n",
       "</table>"
      ],
      "text/plain": [
       "<IPython.core.display.HTML object>"
      ]
     },
     "metadata": {},
     "output_type": "display_data"
    }
   ],
   "source": [
    "learn = collab_learner(dls, use_nn=True, y_range=(0, 5.5), layers=[100,50])\n",
    "learn.fit_one_cycle(5, 5e-3, wd=0.1)"
   ]
  },
  {
   "cell_type": "markdown",
   "id": "026da182-92a1-448a-ad83-7141eefee80c",
   "metadata": {},
   "source": [
    "## Conclusion"
   ]
  },
  {
   "cell_type": "markdown",
   "id": "492d5e08-341e-4d7c-b5dc-38fe4fd12421",
   "metadata": {},
   "source": [
    "We looked at recommendation systems using Collaborative Filtering. \n",
    "\n",
    "It was interesting to see that that many models follow the same underlying principals such as gradient descent and optimizing weights and biases. We were also able to understand the concept of embedding and how they are useful in being able to numerically describe the similarity between data that are not numerical by nature. Using that knowledge, we were able to create a deep learning model that was able to optimize these embeddings in order to get accurate predictions."
   ]
  }
 ],
 "metadata": {
  "kernelspec": {
   "display_name": "Python 3 (ipykernel)",
   "language": "python",
   "name": "python3"
  },
  "language_info": {
   "codemirror_mode": {
    "name": "ipython",
    "version": 3
   },
   "file_extension": ".py",
   "mimetype": "text/x-python",
   "name": "python",
   "nbconvert_exporter": "python",
   "pygments_lexer": "ipython3",
   "version": "3.11.7"
  }
 },
 "nbformat": 4,
 "nbformat_minor": 5
}
